{
 "cells": [
  {
   "cell_type": "markdown",
   "id": "016788ee-2b32-4337-ab81-52beb625b945",
   "metadata": {},
   "source": [
    "#### Import training and test dataset from .csv"
   ]
  },
  {
   "cell_type": "code",
   "execution_count": 1,
   "id": "30d4ef06-87f8-4cc7-88d2-17f8d4543fe0",
   "metadata": {},
   "outputs": [],
   "source": [
    "import pandas as pd\n",
    "import time"
   ]
  },
  {
   "cell_type": "code",
   "execution_count": 2,
   "id": "7c0bbc9b-4f33-429b-8c30-544ea1b8b35d",
   "metadata": {},
   "outputs": [
    {
     "data": {
      "text/html": [
       "<div>\n",
       "<style scoped>\n",
       "    .dataframe tbody tr th:only-of-type {\n",
       "        vertical-align: middle;\n",
       "    }\n",
       "\n",
       "    .dataframe tbody tr th {\n",
       "        vertical-align: top;\n",
       "    }\n",
       "\n",
       "    .dataframe thead th {\n",
       "        text-align: right;\n",
       "    }\n",
       "</style>\n",
       "<table border=\"1\" class=\"dataframe\">\n",
       "  <thead>\n",
       "    <tr style=\"text-align: right;\">\n",
       "      <th></th>\n",
       "      <th>PT</th>\n",
       "      <th>MT</th>\n",
       "      <th>TL/L</th>\n",
       "      <th>image_training_file</th>\n",
       "      <th>cobb_angle_training_file</th>\n",
       "    </tr>\n",
       "  </thead>\n",
       "  <tbody>\n",
       "    <tr>\n",
       "      <th>0</th>\n",
       "      <td>6.2069</td>\n",
       "      <td>0.00000</td>\n",
       "      <td>1.261400</td>\n",
       "      <td>sunhl-1th-02-Jan-2017-162 A AP.jpg</td>\n",
       "      <td>sunhl-1th-02-Jan-2017-162 A AP.jpg.mat</td>\n",
       "    </tr>\n",
       "    <tr>\n",
       "      <th>1</th>\n",
       "      <td>23.8107</td>\n",
       "      <td>0.00000</td>\n",
       "      <td>0.851886</td>\n",
       "      <td>sunhl-1th-02-Jan-2017-162 B AP.jpg</td>\n",
       "      <td>sunhl-1th-02-Jan-2017-162 B AP.jpg.mat</td>\n",
       "    </tr>\n",
       "    <tr>\n",
       "      <th>2</th>\n",
       "      <td>21.1172</td>\n",
       "      <td>0.00000</td>\n",
       "      <td>0.000000</td>\n",
       "      <td>sunhl-1th-03-Jan-2017-163 A AP.jpg</td>\n",
       "      <td>sunhl-1th-03-Jan-2017-163 A AP.jpg.mat</td>\n",
       "    </tr>\n",
       "    <tr>\n",
       "      <th>3</th>\n",
       "      <td>10.8144</td>\n",
       "      <td>8.60388</td>\n",
       "      <td>0.000000</td>\n",
       "      <td>sunhl-1th-03-Jan-2017-163 B AP.jpg</td>\n",
       "      <td>sunhl-1th-03-Jan-2017-163 B AP.jpg.mat</td>\n",
       "    </tr>\n",
       "    <tr>\n",
       "      <th>4</th>\n",
       "      <td>18.1538</td>\n",
       "      <td>0.00000</td>\n",
       "      <td>1.748480</td>\n",
       "      <td>sunhl-1th-03-Jan-2017-164 A AP.jpg</td>\n",
       "      <td>sunhl-1th-03-Jan-2017-164 A AP.jpg.mat</td>\n",
       "    </tr>\n",
       "    <tr>\n",
       "      <th>...</th>\n",
       "      <td>...</td>\n",
       "      <td>...</td>\n",
       "      <td>...</td>\n",
       "      <td>...</td>\n",
       "      <td>...</td>\n",
       "    </tr>\n",
       "    <tr>\n",
       "      <th>476</th>\n",
       "      <td>12.5325</td>\n",
       "      <td>0.00000</td>\n",
       "      <td>11.484000</td>\n",
       "      <td>sunhl-1th-30-Dec-2016-159 A AP2.jpg</td>\n",
       "      <td>sunhl-1th-30-Dec-2016-159 A AP2.jpg.mat</td>\n",
       "    </tr>\n",
       "    <tr>\n",
       "      <th>477</th>\n",
       "      <td>11.0118</td>\n",
       "      <td>10.37890</td>\n",
       "      <td>0.000000</td>\n",
       "      <td>sunhl-1th-30-Dec-2016-159 B AP.jpg</td>\n",
       "      <td>sunhl-1th-30-Dec-2016-159 B AP.jpg.mat</td>\n",
       "    </tr>\n",
       "    <tr>\n",
       "      <th>478</th>\n",
       "      <td>5.6424</td>\n",
       "      <td>3.95370</td>\n",
       "      <td>2.821400</td>\n",
       "      <td>sunhl-1th-30-Dec-2016-159 C AP.jpg</td>\n",
       "      <td>sunhl-1th-30-Dec-2016-159 C AP.jpg.mat</td>\n",
       "    </tr>\n",
       "    <tr>\n",
       "      <th>479</th>\n",
       "      <td>16.3437</td>\n",
       "      <td>0.00000</td>\n",
       "      <td>0.000000</td>\n",
       "      <td>sunhl-1th-30-Dec-2016-160 A AP.jpg</td>\n",
       "      <td>sunhl-1th-30-Dec-2016-160 A AP.jpg.mat</td>\n",
       "    </tr>\n",
       "    <tr>\n",
       "      <th>480</th>\n",
       "      <td>13.6437</td>\n",
       "      <td>0.00000</td>\n",
       "      <td>6.947430</td>\n",
       "      <td>sunhl-1th-30-Dec-2016-161 A AP.jpg</td>\n",
       "      <td>sunhl-1th-30-Dec-2016-161 A AP.jpg.mat</td>\n",
       "    </tr>\n",
       "  </tbody>\n",
       "</table>\n",
       "<p>481 rows × 5 columns</p>\n",
       "</div>"
      ],
      "text/plain": [
       "          PT        MT       TL/L                  image_training_file  \\\n",
       "0     6.2069   0.00000   1.261400   sunhl-1th-02-Jan-2017-162 A AP.jpg   \n",
       "1    23.8107   0.00000   0.851886   sunhl-1th-02-Jan-2017-162 B AP.jpg   \n",
       "2    21.1172   0.00000   0.000000   sunhl-1th-03-Jan-2017-163 A AP.jpg   \n",
       "3    10.8144   8.60388   0.000000   sunhl-1th-03-Jan-2017-163 B AP.jpg   \n",
       "4    18.1538   0.00000   1.748480   sunhl-1th-03-Jan-2017-164 A AP.jpg   \n",
       "..       ...       ...        ...                                  ...   \n",
       "476  12.5325   0.00000  11.484000  sunhl-1th-30-Dec-2016-159 A AP2.jpg   \n",
       "477  11.0118  10.37890   0.000000   sunhl-1th-30-Dec-2016-159 B AP.jpg   \n",
       "478   5.6424   3.95370   2.821400   sunhl-1th-30-Dec-2016-159 C AP.jpg   \n",
       "479  16.3437   0.00000   0.000000   sunhl-1th-30-Dec-2016-160 A AP.jpg   \n",
       "480  13.6437   0.00000   6.947430   sunhl-1th-30-Dec-2016-161 A AP.jpg   \n",
       "\n",
       "                    cobb_angle_training_file  \n",
       "0     sunhl-1th-02-Jan-2017-162 A AP.jpg.mat  \n",
       "1     sunhl-1th-02-Jan-2017-162 B AP.jpg.mat  \n",
       "2     sunhl-1th-03-Jan-2017-163 A AP.jpg.mat  \n",
       "3     sunhl-1th-03-Jan-2017-163 B AP.jpg.mat  \n",
       "4     sunhl-1th-03-Jan-2017-164 A AP.jpg.mat  \n",
       "..                                       ...  \n",
       "476  sunhl-1th-30-Dec-2016-159 A AP2.jpg.mat  \n",
       "477   sunhl-1th-30-Dec-2016-159 B AP.jpg.mat  \n",
       "478   sunhl-1th-30-Dec-2016-159 C AP.jpg.mat  \n",
       "479   sunhl-1th-30-Dec-2016-160 A AP.jpg.mat  \n",
       "480   sunhl-1th-30-Dec-2016-161 A AP.jpg.mat  \n",
       "\n",
       "[481 rows x 5 columns]"
      ]
     },
     "execution_count": 2,
     "metadata": {},
     "output_type": "execute_result"
    }
   ],
   "source": [
    "# Load training data\n",
    "dataset_training_csv_path = 'C:\\\\Users\\\\iqmal_pc\\\\Desktop\\\\fyp_experiment\\\\training_dataset\\\\angles_ap_labelled_training.csv'\n",
    "dataset_training_csv = pd.read_csv(dataset_training_csv_path)\n",
    "dataset_training_csv"
   ]
  },
  {
   "cell_type": "code",
   "execution_count": 3,
   "id": "4f8520bc-3dfd-4295-9e23-ef74918f56b8",
   "metadata": {},
   "outputs": [
    {
     "data": {
      "text/html": [
       "<div>\n",
       "<style scoped>\n",
       "    .dataframe tbody tr th:only-of-type {\n",
       "        vertical-align: middle;\n",
       "    }\n",
       "\n",
       "    .dataframe tbody tr th {\n",
       "        vertical-align: top;\n",
       "    }\n",
       "\n",
       "    .dataframe thead th {\n",
       "        text-align: right;\n",
       "    }\n",
       "</style>\n",
       "<table border=\"1\" class=\"dataframe\">\n",
       "  <thead>\n",
       "    <tr style=\"text-align: right;\">\n",
       "      <th></th>\n",
       "      <th>PT</th>\n",
       "      <th>MT</th>\n",
       "      <th>TL/L</th>\n",
       "      <th>image_test_file</th>\n",
       "      <th>cobb_angle_test_file</th>\n",
       "    </tr>\n",
       "  </thead>\n",
       "  <tbody>\n",
       "    <tr>\n",
       "      <th>0</th>\n",
       "      <td>12.5578</td>\n",
       "      <td>0.00000</td>\n",
       "      <td>0.938543</td>\n",
       "      <td>sunhl-1th-01-Mar-2017-310 C AP.jpg</td>\n",
       "      <td>sunhl-1th-01-Mar-2017-310 C AP.jpg.mat</td>\n",
       "    </tr>\n",
       "    <tr>\n",
       "      <th>1</th>\n",
       "      <td>7.4942</td>\n",
       "      <td>1.00940</td>\n",
       "      <td>0.000000</td>\n",
       "      <td>sunhl-1th-01-Mar-2017-310 a ap.jpg</td>\n",
       "      <td>sunhl-1th-01-Mar-2017-310 a ap.jpg.mat</td>\n",
       "    </tr>\n",
       "    <tr>\n",
       "      <th>2</th>\n",
       "      <td>14.0048</td>\n",
       "      <td>0.00000</td>\n",
       "      <td>0.501069</td>\n",
       "      <td>sunhl-1th-01-Mar-2017-311 A AP.jpg</td>\n",
       "      <td>sunhl-1th-01-Mar-2017-311 A AP.jpg.mat</td>\n",
       "    </tr>\n",
       "    <tr>\n",
       "      <th>3</th>\n",
       "      <td>13.3802</td>\n",
       "      <td>0.00000</td>\n",
       "      <td>1.422200</td>\n",
       "      <td>sunhl-1th-01-Mar-2017-311 C AP.jpg</td>\n",
       "      <td>sunhl-1th-01-Mar-2017-311 C AP.jpg.mat</td>\n",
       "    </tr>\n",
       "    <tr>\n",
       "      <th>4</th>\n",
       "      <td>16.1798</td>\n",
       "      <td>1.23238</td>\n",
       "      <td>0.000000</td>\n",
       "      <td>sunhl-1th-01-Mar-2017-311 D AP.jpg</td>\n",
       "      <td>sunhl-1th-01-Mar-2017-311 D AP.jpg.mat</td>\n",
       "    </tr>\n",
       "    <tr>\n",
       "      <th>...</th>\n",
       "      <td>...</td>\n",
       "      <td>...</td>\n",
       "      <td>...</td>\n",
       "      <td>...</td>\n",
       "      <td>...</td>\n",
       "    </tr>\n",
       "    <tr>\n",
       "      <th>123</th>\n",
       "      <td>7.8933</td>\n",
       "      <td>0.00000</td>\n",
       "      <td>1.726000</td>\n",
       "      <td>sunhl-1th-28-Feb-2017-307 B AP.jpg</td>\n",
       "      <td>sunhl-1th-28-Feb-2017-307 B AP.jpg.mat</td>\n",
       "    </tr>\n",
       "    <tr>\n",
       "      <th>124</th>\n",
       "      <td>22.5108</td>\n",
       "      <td>0.00000</td>\n",
       "      <td>14.726900</td>\n",
       "      <td>sunhl-1th-28-Feb-2017-308 A AP.jpg</td>\n",
       "      <td>sunhl-1th-28-Feb-2017-308 A AP.jpg.mat</td>\n",
       "    </tr>\n",
       "    <tr>\n",
       "      <th>125</th>\n",
       "      <td>9.3330</td>\n",
       "      <td>0.73155</td>\n",
       "      <td>6.376700</td>\n",
       "      <td>sunhl-1th-28-Feb-2017-309 A AP.jpg</td>\n",
       "      <td>sunhl-1th-28-Feb-2017-309 A AP.jpg.mat</td>\n",
       "    </tr>\n",
       "    <tr>\n",
       "      <th>126</th>\n",
       "      <td>17.5526</td>\n",
       "      <td>8.90332</td>\n",
       "      <td>1.856840</td>\n",
       "      <td>sunhl-1th-28-Feb-2017-309 B AP.jpg</td>\n",
       "      <td>sunhl-1th-28-Feb-2017-309 B AP.jpg.mat</td>\n",
       "    </tr>\n",
       "    <tr>\n",
       "      <th>127</th>\n",
       "      <td>14.7518</td>\n",
       "      <td>0.00000</td>\n",
       "      <td>5.070970</td>\n",
       "      <td>sunhl-1th-28-Feb-2017-310 B AP.jpg</td>\n",
       "      <td>sunhl-1th-28-Feb-2017-310 B AP.jpg.mat</td>\n",
       "    </tr>\n",
       "  </tbody>\n",
       "</table>\n",
       "<p>128 rows × 5 columns</p>\n",
       "</div>"
      ],
      "text/plain": [
       "          PT       MT       TL/L                     image_test_file  \\\n",
       "0    12.5578  0.00000   0.938543  sunhl-1th-01-Mar-2017-310 C AP.jpg   \n",
       "1     7.4942  1.00940   0.000000  sunhl-1th-01-Mar-2017-310 a ap.jpg   \n",
       "2    14.0048  0.00000   0.501069  sunhl-1th-01-Mar-2017-311 A AP.jpg   \n",
       "3    13.3802  0.00000   1.422200  sunhl-1th-01-Mar-2017-311 C AP.jpg   \n",
       "4    16.1798  1.23238   0.000000  sunhl-1th-01-Mar-2017-311 D AP.jpg   \n",
       "..       ...      ...        ...                                 ...   \n",
       "123   7.8933  0.00000   1.726000  sunhl-1th-28-Feb-2017-307 B AP.jpg   \n",
       "124  22.5108  0.00000  14.726900  sunhl-1th-28-Feb-2017-308 A AP.jpg   \n",
       "125   9.3330  0.73155   6.376700  sunhl-1th-28-Feb-2017-309 A AP.jpg   \n",
       "126  17.5526  8.90332   1.856840  sunhl-1th-28-Feb-2017-309 B AP.jpg   \n",
       "127  14.7518  0.00000   5.070970  sunhl-1th-28-Feb-2017-310 B AP.jpg   \n",
       "\n",
       "                       cobb_angle_test_file  \n",
       "0    sunhl-1th-01-Mar-2017-310 C AP.jpg.mat  \n",
       "1    sunhl-1th-01-Mar-2017-310 a ap.jpg.mat  \n",
       "2    sunhl-1th-01-Mar-2017-311 A AP.jpg.mat  \n",
       "3    sunhl-1th-01-Mar-2017-311 C AP.jpg.mat  \n",
       "4    sunhl-1th-01-Mar-2017-311 D AP.jpg.mat  \n",
       "..                                      ...  \n",
       "123  sunhl-1th-28-Feb-2017-307 B AP.jpg.mat  \n",
       "124  sunhl-1th-28-Feb-2017-308 A AP.jpg.mat  \n",
       "125  sunhl-1th-28-Feb-2017-309 A AP.jpg.mat  \n",
       "126  sunhl-1th-28-Feb-2017-309 B AP.jpg.mat  \n",
       "127  sunhl-1th-28-Feb-2017-310 B AP.jpg.mat  \n",
       "\n",
       "[128 rows x 5 columns]"
      ]
     },
     "execution_count": 3,
     "metadata": {},
     "output_type": "execute_result"
    }
   ],
   "source": [
    "# Load test data\n",
    "dataset_test_csv_path = 'C:\\\\Users\\\\iqmal_pc\\\\Desktop\\\\fyp_experiment\\\\test_dataset\\\\angles_ap_labelled_test.csv'\n",
    "dataset_test_csv = pd.read_csv(dataset_test_csv_path)\n",
    "dataset_test_csv"
   ]
  },
  {
   "cell_type": "markdown",
   "id": "6642d118-2273-49c2-bd16-6dfea5daa13a",
   "metadata": {},
   "source": [
    "#### Prepare dictionary for training image data and its Cobb angle"
   ]
  },
  {
   "cell_type": "code",
   "execution_count": 4,
   "id": "43cc9edc-0ae3-4336-904d-4b016c9569e1",
   "metadata": {},
   "outputs": [],
   "source": [
    "import torch"
   ]
  },
  {
   "cell_type": "code",
   "execution_count": 5,
   "id": "abf401ff-a9ff-4cb3-99e2-06c61af067f4",
   "metadata": {},
   "outputs": [],
   "source": [
    "training_dataset_dict = {} # good approach to maintain image - target_angle relation\n",
    "\n",
    "# get train image list and its path\n",
    "training_image_path = 'C:\\\\Users\\\\iqmal_pc\\\\Desktop\\\\fyp_experiment\\\\data\\\\training\\\\'\n",
    "\n",
    "# get list of keys ie filepath\n",
    "training_image_filepath_key = dataset_training_csv['image_training_file'].values.tolist()\n",
    "\n",
    "# get list of values for dict\n",
    "training_cobb_angle_values = dataset_training_csv[['PT', 'MT', 'TL/L']].values\n",
    "\n",
    "# add to dictionary\n",
    "for i in range(len(training_image_filepath_key)):\n",
    "    training_dataset_dict[training_image_path + training_image_filepath_key[i]] = torch.tensor(training_cobb_angle_values[i], dtype=torch.float32)"
   ]
  },
  {
   "cell_type": "markdown",
   "id": "a1a52728-05e7-444a-892d-01e7dc8c15c8",
   "metadata": {},
   "source": [
    "#### Prepare dictionary for test image data and its Cobb angle"
   ]
  },
  {
   "cell_type": "code",
   "execution_count": 6,
   "id": "05164db4-f9ec-4afb-96bc-b69f87cad3aa",
   "metadata": {},
   "outputs": [],
   "source": [
    "test_dataset_dict = {}\n",
    "test_image_path = 'C:\\\\Users\\\\iqmal_pc\\\\Desktop\\\\fyp_experiment\\\\data\\\\test\\\\'\n",
    "test_image_filepath_key = dataset_test_csv['image_test_file'].values.tolist()\n",
    "test_cobb_angle_values = dataset_test_csv[['PT', 'MT', 'TL/L']].values\n",
    "\n",
    "for i in range(len(test_image_filepath_key)):\n",
    "    test_dataset_dict[test_image_path + test_image_filepath_key[i]] = torch.tensor(test_cobb_angle_values[i], dtype=torch.float32)"
   ]
  },
  {
   "cell_type": "markdown",
   "id": "c2057a67-a584-473a-aad0-e04c85846cf7",
   "metadata": {},
   "source": [
    "#### Perform training - validation splitting"
   ]
  },
  {
   "cell_type": "code",
   "execution_count": 7,
   "id": "6a2bcb5c-f031-43f6-817c-e3e2b65a177b",
   "metadata": {},
   "outputs": [],
   "source": [
    "from torch.utils.data import TensorDataset, DataLoader\n",
    "from sklearn.model_selection import train_test_split"
   ]
  },
  {
   "cell_type": "code",
   "execution_count": 8,
   "id": "21a5a65e-0f83-4afd-b686-c76e8c354b7a",
   "metadata": {},
   "outputs": [],
   "source": [
    "# transform to list before inputting into splitting function\n",
    "training_image_list = list(training_dataset_dict.keys())\n",
    "training_true_cobb_angle_list = list(training_dataset_dict.values())"
   ]
  },
  {
   "cell_type": "code",
   "execution_count": 9,
   "id": "890a97d6-d0c3-4b50-bcf0-bf5a929ea039",
   "metadata": {},
   "outputs": [],
   "source": [
    "# Split the lists into training and validation sets\n",
    "training_images, val_images, training_true_cobb_angle, val_true_cobb_angle = train_test_split(training_image_list, training_true_cobb_angle_list, test_size=0.2, random_state=42)"
   ]
  },
  {
   "cell_type": "code",
   "execution_count": 10,
   "id": "a99c95f8-7de4-4ac1-b079-c646ede50026",
   "metadata": {},
   "outputs": [],
   "source": [
    "# Create dictionaries again for training and validation sets\n",
    "training_input_dataset = {img: true_cobb_angle for img, true_cobb_angle in zip(training_images, training_true_cobb_angle)}\n",
    "val_input_dataset = {img: true_cobb_angle for img, true_cobb_angle in zip(val_images, val_true_cobb_angle)}"
   ]
  },
  {
   "cell_type": "markdown",
   "id": "ca9baf9d-9455-4d73-ad31-6b57959b63c7",
   "metadata": {},
   "source": [
    "#### CustomDataset"
   ]
  },
  {
   "cell_type": "code",
   "execution_count": 11,
   "id": "5b7ef838-7cd0-4ca4-aecc-28e485f12271",
   "metadata": {},
   "outputs": [],
   "source": [
    "from torch.utils.data import DataLoader\n",
    "import torchvision.transforms as transforms\n",
    "import matplotlib.pyplot as plt\n",
    "from torch.utils.data import Dataset\n",
    "from PIL import Image, ImageOps\n"
   ]
  },
  {
   "cell_type": "code",
   "execution_count": 12,
   "id": "475db2ae-a584-4c49-8e88-7d6b7c38f6f7",
   "metadata": {},
   "outputs": [],
   "source": [
    "# create dictionary dataset where key is image path and value is PT, MT, TL/L values\n",
    "class CustomDataset(Dataset):\n",
    "    def __init__(self, data_dict, transform_image_tensor, custom_img_resize_w_h=(255,255)):\n",
    "        self.image_dict = data_dict\n",
    "        self.image_paths = list(data_dict.keys())\n",
    "        self.transform_image_tensor = transform_image_tensor\n",
    "        self.custom_img_resize_w_h = custom_img_resize_w_h\n",
    "        \n",
    "        \n",
    "    def __getitem__(self, index):\n",
    "        image_path = self.image_paths[index] # image_path is the key\n",
    "        angles_value = self.image_dict[image_path]\n",
    "        \n",
    "        image = Image.open(image_path).convert('L')\n",
    "        \n",
    "        # custom resize image while maintaining aspect ratio\n",
    "        image = self.resize_with_padding(image, self.custom_img_resize_w_h)\n",
    "        \n",
    "        # transform image if required\n",
    "        if self.transform_image_tensor is not None:\n",
    "            image = self.transform_image_tensor(image)\n",
    "        \n",
    "\n",
    "        \n",
    "        return image, image_path, angles_value\n",
    "    \n",
    "    def __len__(self):\n",
    "        return len(self.image_dict)\n",
    "    \n",
    "    def resize_with_padding(self, image, output_size):\n",
    "        original_width, original_height = image.size\n",
    "        target_width, target_height = output_size\n",
    "\n",
    "        # Calculate aspect ratios\n",
    "        aspect_ratio = original_width / original_height\n",
    "        target_ratio = target_width / target_height\n",
    "\n",
    "        # Calculate the new dimensions while maintaining aspect ratio\n",
    "        if aspect_ratio > target_ratio:\n",
    "            new_width = target_width\n",
    "            new_height = int(new_width / aspect_ratio)\n",
    "        else:\n",
    "            new_height = target_height\n",
    "            new_width = int(new_height * aspect_ratio)\n",
    "\n",
    "        # Resize the image while preserving the aspect ratio\n",
    "        resized_image = image.resize((new_width, new_height), resample=Image.Resampling.LANCZOS)\n",
    "\n",
    "        # Create a new image with the target size and paste the resized image onto it\n",
    "        padded_image = Image.new('L', (target_width, target_height))\n",
    "        x_offset = (target_width - new_width) // 2\n",
    "        y_offset = (target_height - new_height) // 2\n",
    "        padded_image.paste(resized_image, (x_offset, y_offset))\n",
    "\n",
    "        return padded_image"
   ]
  },
  {
   "cell_type": "code",
   "execution_count": 13,
   "id": "13116442-ba34-4f57-81f7-b2d404cb1e1e",
   "metadata": {},
   "outputs": [],
   "source": [
    "transform_images_tensor = transforms.Compose([\n",
    "    transforms.ToTensor(),\n",
    "    transforms.Lambda(lambda x: (x - torch.min(x)) / (torch.max(x) - torch.min(x))),\n",
    "    transforms.Lambda(lambda x: x.type(torch.float32))\n",
    "])"
   ]
  },
  {
   "cell_type": "code",
   "execution_count": 14,
   "id": "e37191fe-5f46-4bab-b741-01728e243097",
   "metadata": {},
   "outputs": [],
   "source": [
    "transformed_training_dataset = CustomDataset(training_input_dataset, transform_images_tensor, (1920,1920))\n",
    "transformed_validation_dataset = CustomDataset(val_input_dataset, transform_images_tensor, (1920,1920))"
   ]
  },
  {
   "cell_type": "code",
   "execution_count": 15,
   "id": "70c60b53-1fab-4965-8062-8f463f1ea9af",
   "metadata": {},
   "outputs": [
    {
     "name": "stdout",
     "output_type": "stream",
     "text": [
      "C:\\Users\\iqmal_pc\\Desktop\\fyp_experiment\\data\\training\\sunhl-1th-20-Jul-2016-12 A AP.jpg\n",
      "tensor([11.4642,  0.6524,  3.8796])\n"
     ]
    },
    {
     "data": {
      "image/png": "[encoded data removed]",
      "text/plain": [
       "<Figure size 640x480 with 1 Axes>"
      ]
     },
     "metadata": {},
     "output_type": "display_data"
    }
   ],
   "source": [
    "img, img_path, angle = transformed_training_dataset.__getitem__(0)\n",
    "plt.imshow(img.squeeze(), cmap='gray')\n",
    "print(img_path)\n",
    "print(angle)"
   ]
  },
  {
   "cell_type": "markdown",
   "id": "3d0346e0-e2bc-4b32-a9fc-e8bc0f69f77e",
   "metadata": {},
   "source": [
    "#### Create training and validation dataloaders"
   ]
  },
  {
   "cell_type": "code",
   "execution_count": 16,
   "id": "f1c6b848-5951-4405-b9cd-7553f5afe837",
   "metadata": {},
   "outputs": [],
   "source": [
    "# Create a data loader for batching and shuffling the data\n",
    "# batch_size = 32\n",
    "\n",
    "training_loader = DataLoader(transformed_training_dataset, batch_size=2, shuffle=True)\n",
    "validation_loader =  DataLoader(transformed_validation_dataset, batch_size=1, shuffle=False)"
   ]
  },
  {
   "cell_type": "markdown",
   "id": "648cbf3d-47d2-4435-ac28-b3881687582e",
   "metadata": {},
   "source": [
    "#### Deep Neural Network Architecture"
   ]
  },
  {
   "cell_type": "code",
   "execution_count": 17,
   "id": "6fe4183b-ed6c-4f77-b2c8-2f08f0f69156",
   "metadata": {},
   "outputs": [],
   "source": [
    "import torch.nn as nn\n",
    "import torch.optim as optim"
   ]
  },
  {
   "cell_type": "code",
   "execution_count": 18,
   "id": "d339a800-b456-4970-b979-fd9847692ed4",
   "metadata": {},
   "outputs": [],
   "source": [
    "# Model architecture\n",
    "# neural network arch\n",
    "\n",
    "class My_Regression_Model_2(nn.Module):\n",
    "    def __init__(self, num_channel=1): #default for grayscale image\n",
    "        super().__init__()\n",
    "        \n",
    "        # same maxpool dimension for all CNN layers\n",
    "        self.maxpool = nn.MaxPool2d(kernel_size=(2,2), stride=(2,2))\n",
    "        \n",
    "        # same ReLU activation function for all CNN layer\n",
    "        self.relu = nn.ReLU()\n",
    "        \n",
    "        # initialize 1st conv=>relu=>pool\n",
    "        self.conv1 = nn.Conv2d(in_channels=num_channel, out_channels=16, kernel_size=(3,3))\n",
    "        \n",
    "        # initialize 2nd conv=>relu=>pool\n",
    "        self.conv2 = nn.Conv2d(in_channels=16, out_channels=32, kernel_size=(3,3))\n",
    "        \n",
    "        self.conv3 = nn.Conv2d(in_channels=32, out_channels=64, kernel_size=(3,3))\n",
    "        self.conv4 = nn.Conv2d(in_channels=64, out_channels=128, kernel_size=(3,3))\n",
    "        self.conv5 = nn.Conv2d(in_channels=128, out_channels=256, kernel_size=(3,3))\n",
    "        self.conv6 = nn.Conv2d(in_channels=256, out_channels=512, kernel_size=(3,3))\n",
    "        self.conv7 = nn.Conv2d(in_channels=512, out_channels=1024, kernel_size=(3,3))\n",
    "        \n",
    "        # initialize 1st fc=>relu\n",
    "        self.fc1 = nn.Linear(in_features=1024*13*13, out_features=100)\n",
    "        self.fc2 = nn.Linear(in_features=100, out_features=50)\n",
    "        \n",
    "        # final fc\n",
    "        self.fc3 = nn.Linear(in_features=50, out_features=3)\n",
    "        \n",
    "    def forward(self, x): # c, h, w\n",
    "        \n",
    "        # 1st layer        \n",
    "        x = self.conv1(x) # in -> (1, 1920, 1920) | out -> (16, 1918, 1918)\n",
    "        x = self.relu(x) \n",
    "        x = self.maxpool(x) # in -> (16, 1918, 1918) | out -> (16, 959, 959)\n",
    "        \n",
    "        # 2nd layer\n",
    "        x = self.conv2(x) \n",
    "        x = self.relu(x) \n",
    "        x = self.maxpool(x) \n",
    "        \n",
    "        # 3rd layer\n",
    "        x = self.conv3(x)\n",
    "        x = self.relu(x)\n",
    "        x = self.maxpool(x)\n",
    "        \n",
    "        # 4th layer\n",
    "        x = self.conv4(x)\n",
    "        x = self.relu(x)\n",
    "        x = self.maxpool(x)\n",
    "        \n",
    "        # 5th layer\n",
    "        x = self.conv5(x)\n",
    "        x = self.relu(x)\n",
    "        x = self.maxpool(x)\n",
    "        \n",
    "        # 6th layer\n",
    "        x = self.conv6(x)\n",
    "        x = self.relu(x)\n",
    "        x = self.maxpool(x)\n",
    "        \n",
    "        # 7th layer\n",
    "        x = self.conv7(x)\n",
    "        x = self.relu(x)\n",
    "        x = self.maxpool(x) # in -> (1024, 26, 26) | out -> (1024, 13, 13)\n",
    "        \n",
    "        # flatten\n",
    "        x = torch.flatten(x,1)\n",
    "        \n",
    "        # feed forward\n",
    "        x = self.fc1(x)\n",
    "        x = self.relu(x)\n",
    "        x = self.fc2(x)\n",
    "        x = self.relu(x)\n",
    "        \n",
    "        # final feed forward\n",
    "        output = self.fc3(x)\n",
    "        return output"
   ]
  },
  {
   "cell_type": "markdown",
   "id": "65b5193c-976a-4018-98f9-abe3ca296d85",
   "metadata": {},
   "source": [
    "#### Training process"
   ]
  },
  {
   "cell_type": "code",
   "execution_count": 19,
   "id": "735ac8ec-a51c-4726-9ee0-950b1d599ec4",
   "metadata": {},
   "outputs": [],
   "source": [
    "# set up model instance\n",
    "model = My_Regression_Model_2()"
   ]
  },
  {
   "cell_type": "code",
   "execution_count": 20,
   "id": "156d1e60-d782-428d-8030-3a750f672f53",
   "metadata": {},
   "outputs": [
    {
     "data": {
      "text/plain": [
       "My_Regression_Model_2(\n",
       "  (maxpool): MaxPool2d(kernel_size=(2, 2), stride=(2, 2), padding=0, dilation=1, ceil_mode=False)\n",
       "  (relu): ReLU()\n",
       "  (conv1): Conv2d(1, 16, kernel_size=(3, 3), stride=(1, 1))\n",
       "  (conv2): Conv2d(16, 32, kernel_size=(3, 3), stride=(1, 1))\n",
       "  (conv3): Conv2d(32, 64, kernel_size=(3, 3), stride=(1, 1))\n",
       "  (conv4): Conv2d(64, 128, kernel_size=(3, 3), stride=(1, 1))\n",
       "  (conv5): Conv2d(128, 256, kernel_size=(3, 3), stride=(1, 1))\n",
       "  (conv6): Conv2d(256, 512, kernel_size=(3, 3), stride=(1, 1))\n",
       "  (conv7): Conv2d(512, 1024, kernel_size=(3, 3), stride=(1, 1))\n",
       "  (fc1): Linear(in_features=173056, out_features=100, bias=True)\n",
       "  (fc2): Linear(in_features=100, out_features=50, bias=True)\n",
       "  (fc3): Linear(in_features=50, out_features=3, bias=True)\n",
       ")"
      ]
     },
     "execution_count": 20,
     "metadata": {},
     "output_type": "execute_result"
    }
   ],
   "source": [
    "# Move the model to CUDA if available\n",
    "device = torch.device(\"cuda\" if torch.cuda.is_available() else \"cpu\")\n",
    "model.to(device)"
   ]
  },
  {
   "cell_type": "code",
   "execution_count": 21,
   "id": "108b4c7d-298e-485b-9e64-8b23d9b23a4c",
   "metadata": {},
   "outputs": [],
   "source": [
    "# set up optimizer and loss function\n",
    "criterion = nn.MSELoss()\n",
    "optimizer = optim.Adam(model.parameters(), lr=0.001)\n",
    "num_epochs = 100"
   ]
  },
  {
   "cell_type": "code",
   "execution_count": 22,
   "id": "91f05133-5f66-4b3c-b549-4ba895b572f4",
   "metadata": {},
   "outputs": [
    {
     "name": "stdout",
     "output_type": "stream",
     "text": [
      "Epoch [1/100], Training Loss: 18.40852744318545, Validation Loss: 19.085777970626182\n",
      "Lowest val_loss found\n",
      "Epoch [2/100], Training Loss: 11.858974797961613, Validation Loss: 12.559802353996592\n",
      "Lowest val_loss found\n",
      "Epoch [3/100], Training Loss: 11.86207047229012, Validation Loss: 12.324077306488126\n",
      "Lowest val_loss found\n",
      "Epoch [4/100], Training Loss: 11.928323524072766, Validation Loss: 11.881571426219548\n",
      "Lowest val_loss found\n",
      "Epoch [5/100], Training Loss: 11.569456510866681, Validation Loss: 12.18212774611011\n",
      "Epoch [6/100], Training Loss: 11.111716648874184, Validation Loss: 12.177337696257325\n",
      "Epoch [7/100], Training Loss: 11.03750214384248, Validation Loss: 14.566553353034344\n",
      "Epoch [8/100], Training Loss: 10.931659955531359, Validation Loss: 12.447469473499613\n",
      "Epoch [9/100], Training Loss: 11.595477871441593, Validation Loss: 12.134897792769461\n",
      "Epoch [10/100], Training Loss: 11.214885637164116, Validation Loss: 12.656113060479312\n",
      "Epoch [11/100], Training Loss: 11.15852276639392, Validation Loss: 12.333064532157072\n",
      "Epoch [12/100], Training Loss: 11.00194454782953, Validation Loss: 13.391660687849694\n",
      "Epoch [13/100], Training Loss: 11.2621262781322, Validation Loss: 13.668367692797455\n",
      "Epoch [14/100], Training Loss: 11.154414673646292, Validation Loss: 12.209137815790077\n",
      "Epoch [15/100], Training Loss: 10.927740845208367, Validation Loss: 14.043905612734175\n",
      "Epoch [16/100], Training Loss: 11.075926598161459, Validation Loss: 11.983440716242052\n",
      "Epoch [17/100], Training Loss: 11.32696406263858, Validation Loss: 13.293044407035886\n",
      "Epoch [18/100], Training Loss: 10.999679263060292, Validation Loss: 12.612980937988487\n",
      "Epoch [19/100], Training Loss: 11.193250640605887, Validation Loss: 12.60205074591735\n",
      "Epoch [20/100], Training Loss: 11.168855346118411, Validation Loss: 12.202342589337801\n",
      "Epoch [21/100], Training Loss: 10.828642050890872, Validation Loss: 13.126193358860526\n",
      "Epoch [22/100], Training Loss: 11.048548793420196, Validation Loss: 11.968285691492337\n",
      "Epoch [23/100], Training Loss: 11.196955143163601, Validation Loss: 11.822829357127553\n",
      "Lowest val_loss found\n",
      "Epoch [24/100], Training Loss: 10.876215510691205, Validation Loss: 12.247344260670475\n",
      "Epoch [25/100], Training Loss: 10.93844372096161, Validation Loss: 14.725433104277887\n",
      "Epoch [26/100], Training Loss: 11.048080756018559, Validation Loss: 11.948359247335453\n",
      "Epoch [27/100], Training Loss: 10.728531235828996, Validation Loss: 13.948588682511419\n",
      "Epoch [28/100], Training Loss: 10.989653528978428, Validation Loss: 12.010479594936076\n",
      "Epoch [29/100], Training Loss: 10.806337618579468, Validation Loss: 12.129901769542203\n",
      "Epoch [30/100], Training Loss: 11.281118310367068, Validation Loss: 12.761000346584419\n",
      "Epoch [31/100], Training Loss: 10.98102694346259, Validation Loss: 12.906061934672065\n",
      "Epoch [32/100], Training Loss: 10.841581237191955, Validation Loss: 11.857921212604365\n",
      "Epoch [33/100], Training Loss: 10.820385802847644, Validation Loss: 11.997026680671063\n",
      "Epoch [34/100], Training Loss: 11.05501713293294, Validation Loss: 12.270053594997249\n",
      "Epoch [35/100], Training Loss: 11.012839532767734, Validation Loss: 13.927547337468138\n",
      "Epoch [36/100], Training Loss: 10.939099736356487, Validation Loss: 12.157585913373023\n",
      "Epoch [37/100], Training Loss: 10.947778584435582, Validation Loss: 12.331737769633225\n",
      "Epoch [38/100], Training Loss: 10.988030768310031, Validation Loss: 14.078639627731953\n",
      "Epoch [39/100], Training Loss: 11.046713802963495, Validation Loss: 12.38356106520928\n",
      "Epoch [40/100], Training Loss: 11.070213619619608, Validation Loss: 13.229172202422447\n",
      "Epoch [41/100], Training Loss: 10.793588753168782, Validation Loss: 11.96625496124484\n",
      "Epoch [42/100], Training Loss: 11.01921707764268, Validation Loss: 11.927871051215634\n",
      "Epoch [43/100], Training Loss: 10.72185130479435, Validation Loss: 11.96345737146348\n",
      "Epoch [44/100], Training Loss: 10.638291059837988, Validation Loss: 11.86872210392018\n",
      "Epoch [45/100], Training Loss: 11.043557456694543, Validation Loss: 16.001437065834853\n",
      "Epoch [46/100], Training Loss: 10.808800227940083, Validation Loss: 12.172136421670618\n",
      "Epoch [47/100], Training Loss: 10.773153678203622, Validation Loss: 11.890983776333405\n",
      "Epoch [48/100], Training Loss: 10.897392781761786, Validation Loss: 12.180950459745741\n",
      "Epoch [49/100], Training Loss: 10.86444822450479, Validation Loss: 11.859786847203049\n",
      "Epoch [50/100], Training Loss: 10.855989140147964, Validation Loss: 12.657342063627906\n",
      "Epoch [51/100], Training Loss: 10.888801496165494, Validation Loss: 12.26380773622197\n",
      "Epoch [52/100], Training Loss: 11.024759421745935, Validation Loss: 12.933597915873085\n",
      "Epoch [53/100], Training Loss: 11.296306118369102, Validation Loss: 12.002019118709663\n",
      "Epoch [54/100], Training Loss: 11.204947446472943, Validation Loss: 11.926566124884124\n",
      "Epoch [55/100], Training Loss: 10.617723406447718, Validation Loss: 12.1400090950666\n",
      "Epoch [56/100], Training Loss: 10.795575561312338, Validation Loss: 12.792092467245368\n",
      "Epoch [57/100], Training Loss: 10.915592129963139, Validation Loss: 11.894181556308393\n",
      "Epoch [58/100], Training Loss: 10.699700638651848, Validation Loss: 12.957299074868565\n",
      "Epoch [59/100], Training Loss: 10.672836135762433, Validation Loss: 11.962007212270166\n",
      "Epoch [60/100], Training Loss: 10.673193415006002, Validation Loss: 11.901002076483264\n",
      "Epoch [61/100], Training Loss: 11.08653118275106, Validation Loss: 12.651068842902626\n",
      "Epoch [62/100], Training Loss: 10.726823177809516, Validation Loss: 12.739806560511441\n",
      "Epoch [63/100], Training Loss: 10.930182888172567, Validation Loss: 14.133916358972334\n",
      "Epoch [64/100], Training Loss: 10.874893312652906, Validation Loss: 12.536772432016958\n",
      "Epoch [65/100], Training Loss: 10.830181148524085, Validation Loss: 12.812865451131898\n",
      "Epoch [66/100], Training Loss: 10.843337836985787, Validation Loss: 12.554096129444456\n",
      "Epoch [67/100], Training Loss: 10.690226048852006, Validation Loss: 11.958944041089913\n",
      "Epoch [68/100], Training Loss: 10.83426675045242, Validation Loss: 11.854783421939182\n",
      "Epoch [69/100], Training Loss: 10.895148370414972, Validation Loss: 11.980720577780733\n",
      "Epoch [70/100], Training Loss: 10.86792153166607, Validation Loss: 12.08810342894387\n",
      "Epoch [71/100], Training Loss: 11.064662642156085, Validation Loss: 12.050115798859252\n",
      "Epoch [72/100], Training Loss: 11.049582028140625, Validation Loss: 11.885933257869839\n",
      "Epoch [73/100], Training Loss: 10.976819053602716, Validation Loss: 11.8730549744724\n",
      "Epoch [74/100], Training Loss: 10.8878428482761, Validation Loss: 12.22186919754928\n",
      "Epoch [75/100], Training Loss: 10.697920637826124, Validation Loss: 11.869278609752655\n",
      "Epoch [76/100], Training Loss: 10.774918711278588, Validation Loss: 12.392984021263024\n",
      "Epoch [77/100], Training Loss: 10.874756971684596, Validation Loss: 11.89767407940835\n",
      "Epoch [78/100], Training Loss: 10.713266439425448, Validation Loss: 13.160530432597879\n",
      "Epoch [79/100], Training Loss: 10.778416936130574, Validation Loss: 11.922460775092706\n",
      "Epoch [80/100], Training Loss: 11.358656326308846, Validation Loss: 12.281858475552392\n",
      "Epoch [81/100], Training Loss: 10.73938144929707, Validation Loss: 12.218782084965214\n",
      "Epoch [82/100], Training Loss: 10.812793673326572, Validation Loss: 12.078223955385464\n",
      "Epoch [83/100], Training Loss: 10.741309072822332, Validation Loss: 12.627759921028442\n",
      "Epoch [84/100], Training Loss: 10.92275291060408, Validation Loss: 11.90133009989237\n",
      "Epoch [85/100], Training Loss: 10.81203728650386, Validation Loss: 12.112692688697392\n",
      "Epoch [86/100], Training Loss: 10.873365734393397, Validation Loss: 12.237047140284911\n",
      "Epoch [87/100], Training Loss: 10.5701685162882, Validation Loss: 12.420588319756321\n",
      "Epoch [88/100], Training Loss: 10.826719268225133, Validation Loss: 11.922136107670893\n",
      "Epoch [89/100], Training Loss: 10.979316543787718, Validation Loss: 12.415322411152506\n",
      "Epoch [90/100], Training Loss: 10.675245047236482, Validation Loss: 12.066355722159454\n",
      "Epoch [91/100], Training Loss: 10.884287532418966, Validation Loss: 12.367015543672228\n",
      "Epoch [92/100], Training Loss: 10.7183647621423, Validation Loss: 11.873794324619254\n",
      "Epoch [93/100], Training Loss: 10.746647354215384, Validation Loss: 11.976133180340542\n",
      "Epoch [94/100], Training Loss: 10.630660615550974, Validation Loss: 11.960431018133754\n",
      "Epoch [95/100], Training Loss: 10.650729063898325, Validation Loss: 12.456266890942436\n",
      "Epoch [96/100], Training Loss: 10.66721310140565, Validation Loss: 12.684856261328324\n",
      "Epoch [97/100], Training Loss: 10.658815757992366, Validation Loss: 12.52055979174437\n",
      "Epoch [98/100], Training Loss: 10.593363371367255, Validation Loss: 11.988327441141777\n",
      "Epoch [99/100], Training Loss: 10.77438057307154, Validation Loss: 12.015884832008597\n",
      "Epoch [100/100], Training Loss: 10.768648598653575, Validation Loss: 11.868174111720213\n"
     ]
    }
   ],
   "source": [
    "# to save validation loss and training loss\n",
    "loss_list_data = []\n",
    "\n",
    "# to keep track lowest loss\n",
    "lowest_val_loss = float('inf')\n",
    "\n",
    "start_time = time.time()\n",
    "\n",
    "# training loop with validation\n",
    "for epoch in range(num_epochs):\n",
    "    \n",
    "    # training phase\n",
    "    model.train()                                       # allow weights and biases adjusting\n",
    "    training_loss = 0.0\n",
    "    for image_input, _, target_angle in training_loader:\n",
    "        # move input and output to cuda if available\n",
    "        image_input = image_input.to(device)\n",
    "        target_angle = target_angle.to(device)\n",
    "        optimizer.zero_grad()                           # clearing previous loss derivative\n",
    "        predicted = model(image_input)                  # forward \n",
    "        loss = criterion(predicted, target_angle)       # computing loss\n",
    "        loss.backward()                                 # computing loss derivative with respect of weights and biases\n",
    "        optimizer.step()                                # adjusting weights and biases\n",
    "        training_loss += loss.item()                    # summing all batches losses for averaging\n",
    "    training_loss /= len(training_loader)\n",
    "        \n",
    "    # validation phase in at end of every epoch\n",
    "    model.eval()                                        # block weights and biases adjsuting\n",
    "    val_loss = 0.0\n",
    "    with torch.no_grad():                                # remove all computed derivatives\n",
    "        for image_input, _, target_angle in validation_loader:\n",
    "            # move input and output to cuda if available\n",
    "            image_input = image_input.to(device)\n",
    "            target_angle = target_angle.to(device)\n",
    "            predicted = model(image_input)\n",
    "            # for averaging validation loss\n",
    "            val_loss += criterion(predicted, target_angle).item()\n",
    "    \n",
    "    val_loss /= len(validation_loader) # calculating average validation loss\n",
    "    \n",
    "    # Print the training and validation loss for each epoch\n",
    "    print(f\"Epoch [{epoch+1}/{num_epochs}], Training Loss: {training_loss}, Validation Loss: {val_loss}\")    \n",
    "    \n",
    "    # for graphing evaluation later\n",
    "    loss_list_data.append((epoch+1, training_loss, val_loss))\n",
    "    \n",
    "    # save best model with lowest validation loss\n",
    "    if lowest_val_loss > val_loss:\n",
    "        lowest_val_loss = val_loss\n",
    "        best_model = model.state_dict()\n",
    "        print('Lowest val_loss found')\n",
    "\n",
    "\n",
    "end_time = time.time()\n",
    "\n",
    "# save the best model found\n",
    "path = 'C:\\\\Users\\\\iqmal_pc\\\\Desktop\\\\fyp_experiment\\\\saved_models\\\\training_3\\\\'\n",
    "torch.save(best_model, path + 'best_training_3.pt')"
   ]
  },
  {
   "cell_type": "markdown",
   "id": "0bedeb0f-22fa-44b4-94d0-531935a124e7",
   "metadata": {},
   "source": [
    "#### Compute training time"
   ]
  },
  {
   "cell_type": "code",
   "execution_count": 23,
   "id": "c857d450-ef00-4e84-aeeb-ae26bb530e00",
   "metadata": {},
   "outputs": [
    {
     "name": "stdout",
     "output_type": "stream",
     "text": [
      "Training time elapsed: 5614.613120555878 seconds\n"
     ]
    }
   ],
   "source": [
    "training_time = end_time - start_time\n",
    "print(\"Training time elapsed: \" + str(training_time) + \" seconds\")"
   ]
  },
  {
   "cell_type": "markdown",
   "id": "5df6fabf-ac89-49bb-968e-c87787a527e6",
   "metadata": {
    "tags": []
   },
   "source": [
    "#### Save latest model"
   ]
  },
  {
   "cell_type": "code",
   "execution_count": 24,
   "id": "d85d4d17-c878-49ab-9f11-f2799f01849f",
   "metadata": {},
   "outputs": [],
   "source": [
    "# save model \n",
    "path = 'C:\\\\Users\\\\iqmal_pc\\\\Desktop\\\\fyp_experiment\\\\saved_models\\\\training_3\\\\'\n",
    "torch.save(model.state_dict(), path + 'finished_training_3.pt')"
   ]
  },
  {
   "cell_type": "markdown",
   "id": "219427ff-0c89-491f-940a-396c1a22058f",
   "metadata": {},
   "source": [
    "#### Testing model"
   ]
  },
  {
   "cell_type": "code",
   "execution_count": 25,
   "id": "db2d92fe-b266-4078-b6b4-c90a6307cad0",
   "metadata": {},
   "outputs": [],
   "source": [
    "# loading test dataset\n",
    "transformed_test_dataset = CustomDataset(test_dataset_dict, transform_images_tensor, (1920,1920))"
   ]
  },
  {
   "cell_type": "code",
   "execution_count": 26,
   "id": "7e3006ba-a559-4e9c-9471-941a505cc017",
   "metadata": {},
   "outputs": [],
   "source": [
    "# create test_loader\n",
    "test_loader = DataLoader(transformed_test_dataset, batch_size=2, shuffle=False)"
   ]
  },
  {
   "cell_type": "code",
   "execution_count": 27,
   "id": "2736b52b-6084-489b-9c4b-8c84bc263a62",
   "metadata": {},
   "outputs": [
    {
     "name": "stdout",
     "output_type": "stream",
     "text": [
      "Final model testing loss: 9.461907740682364\n"
     ]
    }
   ],
   "source": [
    "# test finished trained model\n",
    "test_loss = 0.0\n",
    "model.eval()\n",
    "with torch.no_grad():\n",
    "    for image_input, _, target_angle in test_loader:\n",
    "        # move input and output to cuda if available\n",
    "        image_input = image_input.to(device)\n",
    "        target_angle = target_angle.to(device)\n",
    "        predicted = model(image_input)\n",
    "        test_loss += criterion(predicted, target_angle).item()\n",
    "\n",
    "test_loss /= len(test_loader) # calculating average test_loss\n",
    "print(f\"Final model testing loss: {test_loss}\")"
   ]
  },
  {
   "cell_type": "code",
   "execution_count": 28,
   "id": "8e50bb9f-6da7-4dfa-8c98-ba0329f5439d",
   "metadata": {},
   "outputs": [
    {
     "ename": "NameError",
     "evalue": "name 'My_Regression_Model' is not defined",
     "output_type": "error",
     "traceback": [
      "\u001b[1;31m---------------------------------------------------------------------------\u001b[0m",
      "\u001b[1;31mNameError\u001b[0m                                 Traceback (most recent call last)",
      "Cell \u001b[1;32mIn[28], line 3\u001b[0m\n\u001b[0;32m      1\u001b[0m \u001b[38;5;66;03m# test best model\u001b[39;00m\n\u001b[0;32m      2\u001b[0m \u001b[38;5;66;03m# load best model\u001b[39;00m\n\u001b[1;32m----> 3\u001b[0m the_best_model \u001b[38;5;241m=\u001b[39m \u001b[43mMy_Regression_Model\u001b[49m(input_channels)\n\u001b[0;32m      4\u001b[0m the_best_model\u001b[38;5;241m.\u001b[39mload_state_dict(torch\u001b[38;5;241m.\u001b[39mload(path \u001b[38;5;241m+\u001b[39m \u001b[38;5;124m'\u001b[39m\u001b[38;5;124mbest_training_3.pt\u001b[39m\u001b[38;5;124m'\u001b[39m)) \u001b[38;5;66;03m# load the saved best model weights & biases dictionary\u001b[39;00m\n\u001b[0;32m      5\u001b[0m the_best_model \u001b[38;5;241m=\u001b[39m the_best_model\u001b[38;5;241m.\u001b[39mto(device)\n",
      "\u001b[1;31mNameError\u001b[0m: name 'My_Regression_Model' is not defined"
     ]
    }
   ],
   "source": [
    "# test best model\n",
    "# load best model\n",
    "the_best_model = My_Regression_Model(input_channels)\n",
    "the_best_model.load_state_dict(torch.load(path + 'best_training_3.pt')) # load the saved best model weights & biases dictionary\n",
    "the_best_model = the_best_model.to(device)\n",
    "# testing phase using best model\n",
    "test_loss = 0.0\n",
    "the_best_model.eval()\n",
    "with torch.no_grad():\n",
    "    for image_input, _, target_angle in test_loader:\n",
    "        # move input and output to cuda if available\n",
    "        image_input = image_input.to(device)\n",
    "        target_angle = target_angle.to(device)\n",
    "        predicted = the_best_model(image_input)\n",
    "        test_loss += criterion(predicted, target_angle).item()\n",
    "\n",
    "test_loss /= len(test_loader) # calculating average test_loss\n",
    "print(f\"Best model testing loss: {test_loss}\")"
   ]
  }
 ],
 "metadata": {
  "kernelspec": {
   "display_name": "Python 3 (ipykernel)",
   "language": "python",
   "name": "python3"
  },
  "language_info": {
   "codemirror_mode": {
    "name": "ipython",
    "version": 3
   },
   "file_extension": ".py",
   "mimetype": "text/x-python",
   "name": "python",
   "nbconvert_exporter": "python",
   "pygments_lexer": "ipython3",
   "version": "3.10.8"
  }
 },
 "nbformat": 4,
 "nbformat_minor": 5
}
