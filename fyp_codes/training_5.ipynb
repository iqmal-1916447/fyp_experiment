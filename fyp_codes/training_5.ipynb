{
 "cells": [
  {
   "cell_type": "markdown",
   "id": "0a4c870f-52f3-49c8-9751-bd9fca98a097",
   "metadata": {},
   "source": [
    "### training_5 using nn.Dropout() to prevent overfitting"
   ]
  },
  {
   "cell_type": "markdown",
   "id": "a176b093-0554-428a-9d32-5910d21a48fd",
   "metadata": {
    "tags": []
   },
   "source": [
    "#### UNet architecture class"
   ]
  },
  {
   "cell_type": "code",
   "execution_count": 1,
   "id": "06fb046c-94f7-43d6-88af-baec311fdc06",
   "metadata": {},
   "outputs": [],
   "source": [
    "import torch.nn as nn\n",
    "import torch\n",
    "\n",
    "class UNet(nn.Module):\n",
    "    def __init__(self):\n",
    "        super().__init__()\n",
    "        \n",
    "        self.maxpool = nn.MaxPool2d(kernel_size=(2,2), stride=(2,2))\n",
    "        \n",
    "        # Regularization to reduce overfitting\n",
    "        self.dropout = nn.Dropout2d(p=0.5)\n",
    "       \n",
    "        # ENCODER\n",
    "        # customize each layer of double conv\n",
    "        self.down_conv_1 = self.doubleConv(1,64)\n",
    "        self.down_conv_2 = self.doubleConv(64,128)\n",
    "        self.down_conv_3 = self.doubleConv(128,256)\n",
    "        self.down_conv_4 = self.doubleConv(256,512)\n",
    "        self.down_conv_5 = self.doubleConv(512,1024)\n",
    "        \n",
    "        # DECODER\n",
    "        self.up_conv_1 = nn.ConvTranspose2d(in_channels=1024, out_channels=512, kernel_size=(2,2), stride=(2,2))\n",
    "        self.up_conv_2 = nn.ConvTranspose2d(in_channels=512, out_channels=256, kernel_size=(2,2), stride=(2,2))\n",
    "        self.up_conv_3 = nn.ConvTranspose2d(in_channels=256, out_channels=128, kernel_size=(2,2), stride=(2,2))\n",
    "        self.up_conv_4 = nn.ConvTranspose2d(in_channels=128, out_channels=64, kernel_size=(2,2), stride=(2,2))\n",
    "        \n",
    "        self.down_conv_6 = self.doubleConv(1024,512)\n",
    "        self.down_conv_7 = self.doubleConv(512,256)\n",
    "        self.down_conv_8 = self.doubleConv(256,128)\n",
    "        self.down_conv_9 = self.doubleConv(128,64)\n",
    "\n",
    "        self.down_conv_final = nn.Conv2d(in_channels=64, out_channels=2, kernel_size=(1,1))\n",
    "        \n",
    "    def doubleConv(self, in_c, out_c):\n",
    "        conv = nn.Sequential(\n",
    "            nn.Conv2d(in_channels=in_c, out_channels=out_c, kernel_size=(3,3)),\n",
    "            nn.ReLU(inplace=True),\n",
    "            nn.Conv2d(in_channels=out_c, out_channels=out_c, kernel_size=(3,3)),\n",
    "            nn.ReLU(inplace=True)\n",
    "        )\n",
    "        return conv\n",
    "    \n",
    "    def cropping(self, ori_tensor, target_tensor):\n",
    "        # assuming image is perfect square\n",
    "        ori_tensor_width = ori_tensor.shape[3]\n",
    "        target_tensor_width = target_tensor.shape[3]\n",
    "        delta = ori_tensor_width - target_tensor_width\n",
    "        delta = delta // 2 # assume perfect square\n",
    "        return ori_tensor[:,:,delta:ori_tensor_width-delta, delta:ori_tensor_width-delta]\n",
    "    \n",
    "    def forward(self, x):\n",
    "        # encoder\n",
    "        x1 = self.down_conv_1(x)# output got concatenated\n",
    "        x2 = self.maxpool(x1)\n",
    "        x3 = self.down_conv_2(x2)# output got concatenated\n",
    "        x4 = self.maxpool(x3)\n",
    "        x5 = self.down_conv_3(x4)# output got concatenated\n",
    "        x6 = self.maxpool(x5)\n",
    "        x7 = self.down_conv_4(x6)# output got concatenated\n",
    "        x8 = self.maxpool(x7)\n",
    "        x9 = self.down_conv_5(x8)\n",
    "        \n",
    "        # decoder\n",
    "        x10 = self.up_conv_1(x9)\n",
    "        x10 = self.dropout(x10)\n",
    "        x11 = torch.cat((x10,self.cropping(x7,x10)), dim=1)\n",
    "\n",
    "        x12 = self.down_conv_6(x11)\n",
    "\n",
    "        x13 = self.up_conv_2(x12)\n",
    "        x13 = self.dropout(x13)\n",
    "        x14 = torch.cat((x13,self.cropping(x5,x13)), dim=1)\n",
    "\n",
    "        x15 = self.down_conv_7(x14)\n",
    "\n",
    "        x16 = self.up_conv_3(x15)\n",
    "        x16 = self.dropout(x16)\n",
    "        x17 = torch.cat((x16,self.cropping(x3,x16)), dim=1)\n",
    "\n",
    "        x18 = self.down_conv_8(x17)\n",
    "\n",
    "        x19 = self.up_conv_4(x18)\n",
    "        x19 = self.dropout(x19)\n",
    "        x20 = torch.cat((x19,self.cropping(x1,x19)), dim=1)\n",
    "\n",
    "        x21 = self.down_conv_9(x20)\n",
    "\n",
    "        x22 = self.down_conv_final(x21)\n",
    "        return x22\n",
    "        \n",
    "        "
   ]
  },
  {
   "cell_type": "markdown",
   "id": "9ffc0197-f511-46b2-b63c-24cbaaf0facb",
   "metadata": {},
   "source": [
    "#### MultiInputNet architecture class"
   ]
  },
  {
   "cell_type": "code",
   "execution_count": 2,
   "id": "bf70f5ca-93ff-45b6-8ded-969b747f2b56",
   "metadata": {},
   "outputs": [],
   "source": [
    "class MultiInputNet(nn.Module):\n",
    "    def __init__(self, landmark_input_size=64, landmark_output_size=64):\n",
    "        super().__init__()\n",
    "        \n",
    "        # image pathway (Dense UNet)\n",
    "        self.u_net = UNet()\n",
    "        self.u_net = self.u_net.to(device)\n",
    "        \n",
    "        # landmark pathway\n",
    "        self.landmark_input_size = landmark_input_size\n",
    "        self.landmark_output_size = landmark_output_size\n",
    "        self.landmark_fc = nn.Linear(self.landmark_input_size, self.landmark_output_size)\n",
    "        \n",
    "        # combined pathway\n",
    "        self.combined_fc = None\n",
    "        self.fc2 = nn.Linear(64, 128)\n",
    "        self.fc3 = nn.Linear(128, 3)\n",
    "        \n",
    "        # dropout feed forward for regularization\n",
    "        self.dropout = nn.Dropout(0.2)  # Dropout layer with dropout rate of 0.5\n",
    "\n",
    "        # activation fn\n",
    "        self.relu = nn.ReLU()\n",
    "    \n",
    "    def forward(self, image, landmark):\n",
    "        # unet process\n",
    "        image_features = self.u_net(image)\n",
    "        # landmark process\n",
    "        landmark_features = self.landmark_fc(landmark)\n",
    "        \n",
    "        # combined features\n",
    "        # img_b4_flat = image_features\n",
    "        # land_b4_flat = landmark_features\n",
    "        # print(\"Image before flatten \", img_b4_flat.shape)\n",
    "        # print(\"landmark before flatten \", land_b4_flat.shape)\n",
    "        \n",
    "        # flatten both tensor before concatenating, exclude batch_size in BCHW, only flatten CHW\n",
    "        flatten_img = torch.flatten(image_features, start_dim=1) \n",
    "        flatten_land = torch.flatten(landmark_features, start_dim=1)\n",
    "        \n",
    "        # print(\"Image after flatten \", flatten_img.shape)\n",
    "        # print(\"landmark after flatten \", flatten_land.shape)\n",
    "\n",
    "        combined_features = torch.cat((flatten_img,flatten_land), dim=1)\n",
    "        # print(\"Combined_features \", combined_features.shape)\n",
    "        combined_features = combined_features.to(device)\n",
    "        \n",
    "        # now set the self.combined_fc.in_features dynamically\n",
    "        if self.combined_fc is None:\n",
    "            self.combined_fc = nn.Linear(in_features=combined_features.shape[1], out_features=64) #combined_features.shape = 301152\n",
    "            self.combined_fc = self.combined_fc.to(device)\n",
    "        \n",
    "        x = self.combined_fc(combined_features)\n",
    "        x = self.relu(x)\n",
    "        x = self.fc2(x)\n",
    "        x = self.dropout(x)\n",
    "        x = self.relu(x)\n",
    "        x = self.fc3(x)\n",
    "        \n",
    "        return x"
   ]
  },
  {
   "cell_type": "markdown",
   "id": "e153c023-b87e-49f0-9742-e9e05ce93dfd",
   "metadata": {},
   "source": [
    "#### Define cuda"
   ]
  },
  {
   "cell_type": "code",
   "execution_count": 3,
   "id": "4a07f7ae-d4df-4ce5-a403-3b193d5c0e1d",
   "metadata": {},
   "outputs": [],
   "source": [
    "# Move the model to CUDA if available\n",
    "device = torch.device(\"cuda\" if torch.cuda.is_available() else \"cpu\")"
   ]
  },
  {
   "cell_type": "markdown",
   "id": "ee7f92f0-7cb1-4256-bb94-9d6595464459",
   "metadata": {},
   "source": [
    "#### Import training and test dataset from .csv"
   ]
  },
  {
   "cell_type": "code",
   "execution_count": 4,
   "id": "65136f6a-769f-4b74-858d-1b2f5facc395",
   "metadata": {},
   "outputs": [],
   "source": [
    "import pandas as pd\n",
    "import time"
   ]
  },
  {
   "cell_type": "code",
   "execution_count": 5,
   "id": "23117b88-77c9-439b-99dd-ddee55e8c15c",
   "metadata": {},
   "outputs": [
    {
     "data": {
      "text/html": [
       "<div>\n",
       "<style scoped>\n",
       "    .dataframe tbody tr th:only-of-type {\n",
       "        vertical-align: middle;\n",
       "    }\n",
       "\n",
       "    .dataframe tbody tr th {\n",
       "        vertical-align: top;\n",
       "    }\n",
       "\n",
       "    .dataframe thead th {\n",
       "        text-align: right;\n",
       "    }\n",
       "</style>\n",
       "<table border=\"1\" class=\"dataframe\">\n",
       "  <thead>\n",
       "    <tr style=\"text-align: right;\">\n",
       "      <th></th>\n",
       "      <th>PT</th>\n",
       "      <th>MT</th>\n",
       "      <th>TL/L</th>\n",
       "      <th>image_training_file</th>\n",
       "      <th>cobb_angle_training_file</th>\n",
       "    </tr>\n",
       "  </thead>\n",
       "  <tbody>\n",
       "    <tr>\n",
       "      <th>0</th>\n",
       "      <td>6.2069</td>\n",
       "      <td>0.00000</td>\n",
       "      <td>1.261400</td>\n",
       "      <td>sunhl-1th-02-Jan-2017-162 A AP.jpg</td>\n",
       "      <td>sunhl-1th-02-Jan-2017-162 A AP.jpg.mat</td>\n",
       "    </tr>\n",
       "    <tr>\n",
       "      <th>1</th>\n",
       "      <td>23.8107</td>\n",
       "      <td>0.00000</td>\n",
       "      <td>0.851886</td>\n",
       "      <td>sunhl-1th-02-Jan-2017-162 B AP.jpg</td>\n",
       "      <td>sunhl-1th-02-Jan-2017-162 B AP.jpg.mat</td>\n",
       "    </tr>\n",
       "    <tr>\n",
       "      <th>2</th>\n",
       "      <td>21.1172</td>\n",
       "      <td>0.00000</td>\n",
       "      <td>0.000000</td>\n",
       "      <td>sunhl-1th-03-Jan-2017-163 A AP.jpg</td>\n",
       "      <td>sunhl-1th-03-Jan-2017-163 A AP.jpg.mat</td>\n",
       "    </tr>\n",
       "    <tr>\n",
       "      <th>3</th>\n",
       "      <td>10.8144</td>\n",
       "      <td>8.60388</td>\n",
       "      <td>0.000000</td>\n",
       "      <td>sunhl-1th-03-Jan-2017-163 B AP.jpg</td>\n",
       "      <td>sunhl-1th-03-Jan-2017-163 B AP.jpg.mat</td>\n",
       "    </tr>\n",
       "    <tr>\n",
       "      <th>4</th>\n",
       "      <td>18.1538</td>\n",
       "      <td>0.00000</td>\n",
       "      <td>1.748480</td>\n",
       "      <td>sunhl-1th-03-Jan-2017-164 A AP.jpg</td>\n",
       "      <td>sunhl-1th-03-Jan-2017-164 A AP.jpg.mat</td>\n",
       "    </tr>\n",
       "    <tr>\n",
       "      <th>...</th>\n",
       "      <td>...</td>\n",
       "      <td>...</td>\n",
       "      <td>...</td>\n",
       "      <td>...</td>\n",
       "      <td>...</td>\n",
       "    </tr>\n",
       "    <tr>\n",
       "      <th>476</th>\n",
       "      <td>12.5325</td>\n",
       "      <td>0.00000</td>\n",
       "      <td>11.484000</td>\n",
       "      <td>sunhl-1th-30-Dec-2016-159 A AP2.jpg</td>\n",
       "      <td>sunhl-1th-30-Dec-2016-159 A AP2.jpg.mat</td>\n",
       "    </tr>\n",
       "    <tr>\n",
       "      <th>477</th>\n",
       "      <td>11.0118</td>\n",
       "      <td>10.37890</td>\n",
       "      <td>0.000000</td>\n",
       "      <td>sunhl-1th-30-Dec-2016-159 B AP.jpg</td>\n",
       "      <td>sunhl-1th-30-Dec-2016-159 B AP.jpg.mat</td>\n",
       "    </tr>\n",
       "    <tr>\n",
       "      <th>478</th>\n",
       "      <td>5.6424</td>\n",
       "      <td>3.95370</td>\n",
       "      <td>2.821400</td>\n",
       "      <td>sunhl-1th-30-Dec-2016-159 C AP.jpg</td>\n",
       "      <td>sunhl-1th-30-Dec-2016-159 C AP.jpg.mat</td>\n",
       "    </tr>\n",
       "    <tr>\n",
       "      <th>479</th>\n",
       "      <td>16.3437</td>\n",
       "      <td>0.00000</td>\n",
       "      <td>0.000000</td>\n",
       "      <td>sunhl-1th-30-Dec-2016-160 A AP.jpg</td>\n",
       "      <td>sunhl-1th-30-Dec-2016-160 A AP.jpg.mat</td>\n",
       "    </tr>\n",
       "    <tr>\n",
       "      <th>480</th>\n",
       "      <td>13.6437</td>\n",
       "      <td>0.00000</td>\n",
       "      <td>6.947430</td>\n",
       "      <td>sunhl-1th-30-Dec-2016-161 A AP.jpg</td>\n",
       "      <td>sunhl-1th-30-Dec-2016-161 A AP.jpg.mat</td>\n",
       "    </tr>\n",
       "  </tbody>\n",
       "</table>\n",
       "<p>481 rows × 5 columns</p>\n",
       "</div>"
      ],
      "text/plain": [
       "          PT        MT       TL/L                  image_training_file  \\\n",
       "0     6.2069   0.00000   1.261400   sunhl-1th-02-Jan-2017-162 A AP.jpg   \n",
       "1    23.8107   0.00000   0.851886   sunhl-1th-02-Jan-2017-162 B AP.jpg   \n",
       "2    21.1172   0.00000   0.000000   sunhl-1th-03-Jan-2017-163 A AP.jpg   \n",
       "3    10.8144   8.60388   0.000000   sunhl-1th-03-Jan-2017-163 B AP.jpg   \n",
       "4    18.1538   0.00000   1.748480   sunhl-1th-03-Jan-2017-164 A AP.jpg   \n",
       "..       ...       ...        ...                                  ...   \n",
       "476  12.5325   0.00000  11.484000  sunhl-1th-30-Dec-2016-159 A AP2.jpg   \n",
       "477  11.0118  10.37890   0.000000   sunhl-1th-30-Dec-2016-159 B AP.jpg   \n",
       "478   5.6424   3.95370   2.821400   sunhl-1th-30-Dec-2016-159 C AP.jpg   \n",
       "479  16.3437   0.00000   0.000000   sunhl-1th-30-Dec-2016-160 A AP.jpg   \n",
       "480  13.6437   0.00000   6.947430   sunhl-1th-30-Dec-2016-161 A AP.jpg   \n",
       "\n",
       "                    cobb_angle_training_file  \n",
       "0     sunhl-1th-02-Jan-2017-162 A AP.jpg.mat  \n",
       "1     sunhl-1th-02-Jan-2017-162 B AP.jpg.mat  \n",
       "2     sunhl-1th-03-Jan-2017-163 A AP.jpg.mat  \n",
       "3     sunhl-1th-03-Jan-2017-163 B AP.jpg.mat  \n",
       "4     sunhl-1th-03-Jan-2017-164 A AP.jpg.mat  \n",
       "..                                       ...  \n",
       "476  sunhl-1th-30-Dec-2016-159 A AP2.jpg.mat  \n",
       "477   sunhl-1th-30-Dec-2016-159 B AP.jpg.mat  \n",
       "478   sunhl-1th-30-Dec-2016-159 C AP.jpg.mat  \n",
       "479   sunhl-1th-30-Dec-2016-160 A AP.jpg.mat  \n",
       "480   sunhl-1th-30-Dec-2016-161 A AP.jpg.mat  \n",
       "\n",
       "[481 rows x 5 columns]"
      ]
     },
     "execution_count": 5,
     "metadata": {},
     "output_type": "execute_result"
    }
   ],
   "source": [
    "# Load training data\n",
    "dataset_training_csv_path = 'C:\\\\Users\\\\iqmal_pc\\\\Desktop\\\\fyp_experiment\\\\training_dataset\\\\angles_ap_labelled_training.csv'\n",
    "dataset_training_csv = pd.read_csv(dataset_training_csv_path)\n",
    "dataset_training_csv"
   ]
  },
  {
   "cell_type": "code",
   "execution_count": 6,
   "id": "02858d20-4345-4aee-8cf5-d8275d0c0355",
   "metadata": {},
   "outputs": [
    {
     "data": {
      "text/html": [
       "<div>\n",
       "<style scoped>\n",
       "    .dataframe tbody tr th:only-of-type {\n",
       "        vertical-align: middle;\n",
       "    }\n",
       "\n",
       "    .dataframe tbody tr th {\n",
       "        vertical-align: top;\n",
       "    }\n",
       "\n",
       "    .dataframe thead th {\n",
       "        text-align: right;\n",
       "    }\n",
       "</style>\n",
       "<table border=\"1\" class=\"dataframe\">\n",
       "  <thead>\n",
       "    <tr style=\"text-align: right;\">\n",
       "      <th></th>\n",
       "      <th>PT</th>\n",
       "      <th>MT</th>\n",
       "      <th>TL/L</th>\n",
       "      <th>image_test_file</th>\n",
       "      <th>cobb_angle_test_file</th>\n",
       "    </tr>\n",
       "  </thead>\n",
       "  <tbody>\n",
       "    <tr>\n",
       "      <th>0</th>\n",
       "      <td>12.5578</td>\n",
       "      <td>0.00000</td>\n",
       "      <td>0.938543</td>\n",
       "      <td>sunhl-1th-01-Mar-2017-310 C AP.jpg</td>\n",
       "      <td>sunhl-1th-01-Mar-2017-310 C AP.jpg.mat</td>\n",
       "    </tr>\n",
       "    <tr>\n",
       "      <th>1</th>\n",
       "      <td>7.4942</td>\n",
       "      <td>1.00940</td>\n",
       "      <td>0.000000</td>\n",
       "      <td>sunhl-1th-01-Mar-2017-310 a ap.jpg</td>\n",
       "      <td>sunhl-1th-01-Mar-2017-310 a ap.jpg.mat</td>\n",
       "    </tr>\n",
       "    <tr>\n",
       "      <th>2</th>\n",
       "      <td>14.0048</td>\n",
       "      <td>0.00000</td>\n",
       "      <td>0.501069</td>\n",
       "      <td>sunhl-1th-01-Mar-2017-311 A AP.jpg</td>\n",
       "      <td>sunhl-1th-01-Mar-2017-311 A AP.jpg.mat</td>\n",
       "    </tr>\n",
       "    <tr>\n",
       "      <th>3</th>\n",
       "      <td>13.3802</td>\n",
       "      <td>0.00000</td>\n",
       "      <td>1.422200</td>\n",
       "      <td>sunhl-1th-01-Mar-2017-311 C AP.jpg</td>\n",
       "      <td>sunhl-1th-01-Mar-2017-311 C AP.jpg.mat</td>\n",
       "    </tr>\n",
       "    <tr>\n",
       "      <th>4</th>\n",
       "      <td>16.1798</td>\n",
       "      <td>1.23238</td>\n",
       "      <td>0.000000</td>\n",
       "      <td>sunhl-1th-01-Mar-2017-311 D AP.jpg</td>\n",
       "      <td>sunhl-1th-01-Mar-2017-311 D AP.jpg.mat</td>\n",
       "    </tr>\n",
       "    <tr>\n",
       "      <th>...</th>\n",
       "      <td>...</td>\n",
       "      <td>...</td>\n",
       "      <td>...</td>\n",
       "      <td>...</td>\n",
       "      <td>...</td>\n",
       "    </tr>\n",
       "    <tr>\n",
       "      <th>123</th>\n",
       "      <td>7.8933</td>\n",
       "      <td>0.00000</td>\n",
       "      <td>1.726000</td>\n",
       "      <td>sunhl-1th-28-Feb-2017-307 B AP.jpg</td>\n",
       "      <td>sunhl-1th-28-Feb-2017-307 B AP.jpg.mat</td>\n",
       "    </tr>\n",
       "    <tr>\n",
       "      <th>124</th>\n",
       "      <td>22.5108</td>\n",
       "      <td>0.00000</td>\n",
       "      <td>14.726900</td>\n",
       "      <td>sunhl-1th-28-Feb-2017-308 A AP.jpg</td>\n",
       "      <td>sunhl-1th-28-Feb-2017-308 A AP.jpg.mat</td>\n",
       "    </tr>\n",
       "    <tr>\n",
       "      <th>125</th>\n",
       "      <td>9.3330</td>\n",
       "      <td>0.73155</td>\n",
       "      <td>6.376700</td>\n",
       "      <td>sunhl-1th-28-Feb-2017-309 A AP.jpg</td>\n",
       "      <td>sunhl-1th-28-Feb-2017-309 A AP.jpg.mat</td>\n",
       "    </tr>\n",
       "    <tr>\n",
       "      <th>126</th>\n",
       "      <td>17.5526</td>\n",
       "      <td>8.90332</td>\n",
       "      <td>1.856840</td>\n",
       "      <td>sunhl-1th-28-Feb-2017-309 B AP.jpg</td>\n",
       "      <td>sunhl-1th-28-Feb-2017-309 B AP.jpg.mat</td>\n",
       "    </tr>\n",
       "    <tr>\n",
       "      <th>127</th>\n",
       "      <td>14.7518</td>\n",
       "      <td>0.00000</td>\n",
       "      <td>5.070970</td>\n",
       "      <td>sunhl-1th-28-Feb-2017-310 B AP.jpg</td>\n",
       "      <td>sunhl-1th-28-Feb-2017-310 B AP.jpg.mat</td>\n",
       "    </tr>\n",
       "  </tbody>\n",
       "</table>\n",
       "<p>128 rows × 5 columns</p>\n",
       "</div>"
      ],
      "text/plain": [
       "          PT       MT       TL/L                     image_test_file  \\\n",
       "0    12.5578  0.00000   0.938543  sunhl-1th-01-Mar-2017-310 C AP.jpg   \n",
       "1     7.4942  1.00940   0.000000  sunhl-1th-01-Mar-2017-310 a ap.jpg   \n",
       "2    14.0048  0.00000   0.501069  sunhl-1th-01-Mar-2017-311 A AP.jpg   \n",
       "3    13.3802  0.00000   1.422200  sunhl-1th-01-Mar-2017-311 C AP.jpg   \n",
       "4    16.1798  1.23238   0.000000  sunhl-1th-01-Mar-2017-311 D AP.jpg   \n",
       "..       ...      ...        ...                                 ...   \n",
       "123   7.8933  0.00000   1.726000  sunhl-1th-28-Feb-2017-307 B AP.jpg   \n",
       "124  22.5108  0.00000  14.726900  sunhl-1th-28-Feb-2017-308 A AP.jpg   \n",
       "125   9.3330  0.73155   6.376700  sunhl-1th-28-Feb-2017-309 A AP.jpg   \n",
       "126  17.5526  8.90332   1.856840  sunhl-1th-28-Feb-2017-309 B AP.jpg   \n",
       "127  14.7518  0.00000   5.070970  sunhl-1th-28-Feb-2017-310 B AP.jpg   \n",
       "\n",
       "                       cobb_angle_test_file  \n",
       "0    sunhl-1th-01-Mar-2017-310 C AP.jpg.mat  \n",
       "1    sunhl-1th-01-Mar-2017-310 a ap.jpg.mat  \n",
       "2    sunhl-1th-01-Mar-2017-311 A AP.jpg.mat  \n",
       "3    sunhl-1th-01-Mar-2017-311 C AP.jpg.mat  \n",
       "4    sunhl-1th-01-Mar-2017-311 D AP.jpg.mat  \n",
       "..                                      ...  \n",
       "123  sunhl-1th-28-Feb-2017-307 B AP.jpg.mat  \n",
       "124  sunhl-1th-28-Feb-2017-308 A AP.jpg.mat  \n",
       "125  sunhl-1th-28-Feb-2017-309 A AP.jpg.mat  \n",
       "126  sunhl-1th-28-Feb-2017-309 B AP.jpg.mat  \n",
       "127  sunhl-1th-28-Feb-2017-310 B AP.jpg.mat  \n",
       "\n",
       "[128 rows x 5 columns]"
      ]
     },
     "execution_count": 6,
     "metadata": {},
     "output_type": "execute_result"
    }
   ],
   "source": [
    "# Load test data\n",
    "dataset_test_csv_path = 'C:\\\\Users\\\\iqmal_pc\\\\Desktop\\\\fyp_experiment\\\\test_dataset\\\\angles_ap_labelled_test.csv'\n",
    "dataset_test_csv = pd.read_csv(dataset_test_csv_path)\n",
    "dataset_test_csv"
   ]
  },
  {
   "cell_type": "markdown",
   "id": "7bd75a82-9439-4045-87d8-28e3ebdb7ebd",
   "metadata": {},
   "source": [
    "#### Prepare dictionary for training image data and its Cobb angle"
   ]
  },
  {
   "cell_type": "code",
   "execution_count": 7,
   "id": "31623532-1dc4-45ab-974b-6eca7867fc40",
   "metadata": {},
   "outputs": [],
   "source": [
    "training_dataset_dict = {} # good approach to maintain image - target_angle relation\n",
    "\n",
    "# get train image list and its path\n",
    "training_image_path = 'C:\\\\Users\\\\iqmal_pc\\\\Desktop\\\\fyp_experiment\\\\data\\\\training\\\\'\n",
    "\n",
    "# get list of keys ie filepath\n",
    "training_image_filepath_key = dataset_training_csv['image_training_file'].values.tolist()\n",
    "\n",
    "# get list of values for dict\n",
    "training_cobb_angle_values = dataset_training_csv[['PT', 'MT', 'TL/L']].values\n",
    "\n",
    "# add to dictionary\n",
    "for i in range(len(training_image_filepath_key)):\n",
    "    training_dataset_dict[training_image_path + training_image_filepath_key[i]] = torch.tensor(training_cobb_angle_values[i], dtype=torch.float32)"
   ]
  },
  {
   "cell_type": "markdown",
   "id": "f708d425-44ef-4485-89e7-3e411c433a46",
   "metadata": {},
   "source": [
    "#### Prepare dictionary for test image data and its Cobb angle"
   ]
  },
  {
   "cell_type": "code",
   "execution_count": 8,
   "id": "7b92c395-a63a-4a14-b958-5d5804361569",
   "metadata": {},
   "outputs": [],
   "source": [
    "test_dataset_dict = {}\n",
    "test_image_path = 'C:\\\\Users\\\\iqmal_pc\\\\Desktop\\\\fyp_experiment\\\\data\\\\test\\\\'\n",
    "test_image_filepath_key = dataset_test_csv['image_test_file'].values.tolist()\n",
    "test_cobb_angle_values = dataset_test_csv[['PT', 'MT', 'TL/L']].values\n",
    "\n",
    "for i in range(len(test_image_filepath_key)):\n",
    "    test_dataset_dict[test_image_path + test_image_filepath_key[i]] = torch.tensor(test_cobb_angle_values[i], dtype=torch.float32)"
   ]
  },
  {
   "cell_type": "markdown",
   "id": "cabd0a48-5433-4d9f-91c4-570d4d3269a4",
   "metadata": {},
   "source": [
    "#### Prepare dictionary for training landmarks_ap"
   ]
  },
  {
   "cell_type": "code",
   "execution_count": 9,
   "id": "e7978ad4-8354-425c-ba4c-efc1033efde9",
   "metadata": {},
   "outputs": [],
   "source": [
    "path_landmark_ap_training = \"C:\\\\Users\\\\iqmal_pc\\\\Desktop\\\\fyp_experiment\\\\training_dataset\\\\\"\n",
    "landmark_ap_training = pd.read_csv(path_landmark_ap_training + \"landmarks_ap.csv\", header=None)\n",
    "training_landmark_ap_key = landmark_ap_training.iloc[:,0].values.tolist()\n",
    "training_landmark_ap_values = landmark_ap_training.iloc[:,2:].values.tolist()\n"
   ]
  },
  {
   "cell_type": "code",
   "execution_count": 10,
   "id": "6d2ee3c2-71dd-4ff2-b897-577056d5d4c1",
   "metadata": {},
   "outputs": [],
   "source": [
    "training_landmark_ap_dict = {} # key->image filepath, value->62 landmarks value\n",
    "\n",
    "for i in range(len(training_landmark_ap_key)):\n",
    "    training_landmark_ap_dict[training_image_path + training_landmark_ap_key[i]] = torch.tensor(training_landmark_ap_values[i], dtype=torch.float32)"
   ]
  },
  {
   "cell_type": "markdown",
   "id": "b1622ed1-0a45-4017-82ab-26a1f2ca1022",
   "metadata": {},
   "source": [
    "#### Prepare dictionary for test landmarks_ap"
   ]
  },
  {
   "cell_type": "code",
   "execution_count": 11,
   "id": "773681f8-e8f7-4bd1-9d25-103e965603df",
   "metadata": {},
   "outputs": [],
   "source": [
    "path_landmark_ap_test = \"C:\\\\Users\\\\iqmal_pc\\\\Desktop\\\\fyp_experiment\\\\test_dataset\\\\\"\n",
    "landmark_ap_test = pd.read_csv(path_landmark_ap_test + \"landmarks_ap.csv\", header=None)\n",
    "test_landmark_ap_key = landmark_ap_test.iloc[:,0].values.tolist()\n",
    "test_landmark_ap_values = landmark_ap_test.iloc[:,2:].values.tolist()\n"
   ]
  },
  {
   "cell_type": "code",
   "execution_count": 12,
   "id": "59e8e3db-93e8-492d-a0e8-49a03a9fbc3b",
   "metadata": {},
   "outputs": [],
   "source": [
    "test_landmark_ap_dict = {} # key->image filepath, value->62 landmarks value\n",
    "\n",
    "for i in range(len(test_landmark_ap_key)):\n",
    "    test_landmark_ap_dict[test_image_path + test_landmark_ap_key[i]] = torch.tensor(test_landmark_ap_values[i], dtype=torch.float32)"
   ]
  },
  {
   "cell_type": "markdown",
   "id": "dd7a5ff7-b3f6-43be-aca9-37fd183e96a0",
   "metadata": {},
   "source": [
    "#### CustomDataset class"
   ]
  },
  {
   "cell_type": "code",
   "execution_count": 13,
   "id": "7418c790-5c5f-410e-8eb2-e9546f22db49",
   "metadata": {},
   "outputs": [],
   "source": [
    "from torch.utils.data import Dataset\n",
    "from PIL import Image, ImageOps"
   ]
  },
  {
   "cell_type": "code",
   "execution_count": 14,
   "id": "7a2dee52-39cd-456c-9fb0-409443aec5ac",
   "metadata": {},
   "outputs": [],
   "source": [
    "# create dictionary dataset where key is image path and value is PT, MT, TL/L values\n",
    "class CustomDataset(Dataset):\n",
    "    def __init__(self, image_list, landmark_list, cobb_angle_list, transform_image_tensor, custom_img_resize_w_h=(255,255)):\n",
    "        self.images = image_list\n",
    "        self.landmarks = landmark_list\n",
    "        self.cobb_angles = cobb_angle_list\n",
    "        self.transform_image_tensor = transform_image_tensor\n",
    "        self.custom_img_resize_w_h = custom_img_resize_w_h\n",
    "        \n",
    "        \n",
    "    def __getitem__(self, index):\n",
    "        image_path = self.images[index] # image_path is the key\n",
    "        \n",
    "        image = Image.open(image_path).convert('L')\n",
    "        \n",
    "        # custom resize image while maintaining aspect ratio\n",
    "        image = self.resize_with_padding(image, self.custom_img_resize_w_h)\n",
    "        \n",
    "        \n",
    "        # transform image if required\n",
    "        if self.transform_image_tensor is not None:\n",
    "            image = self.transform_image_tensor(image)\n",
    "        \n",
    "\n",
    "        # because U-net is hardcoded for 3 channel, duplicate another 2 channel\n",
    "        # image = torch.cat((image[:,:,:], image[:,:,:], image[:,:,:]), dim=0)\n",
    "        \n",
    "        return image, self.landmarks[index], self.cobb_angles[index], image_path\n",
    "    \n",
    "    def __len__(self):\n",
    "        return len(self.images)\n",
    "    \n",
    "    def resize_with_padding(self, image, output_size):\n",
    "        original_width, original_height = image.size\n",
    "        target_width, target_height = output_size\n",
    "\n",
    "        # Calculate aspect ratios\n",
    "        aspect_ratio = original_width / original_height\n",
    "        target_ratio = target_width / target_height\n",
    "\n",
    "        # Calculate the new dimensions while maintaining aspect ratio\n",
    "        if aspect_ratio > target_ratio:\n",
    "            new_width = target_width\n",
    "            new_height = int(new_width / aspect_ratio)\n",
    "        else:\n",
    "            new_height = target_height\n",
    "            new_width = int(new_height * aspect_ratio)\n",
    "\n",
    "        # Resize the image while preserving the aspect ratio\n",
    "        resized_image = image.resize((new_width, new_height), resample=Image.Resampling.LANCZOS)\n",
    "\n",
    "        # Create a new image with the target size and paste the resized image onto it\n",
    "        padded_image = Image.new('L', (target_width, target_height))\n",
    "        x_offset = (target_width - new_width) // 2\n",
    "        y_offset = (target_height - new_height) // 2\n",
    "        padded_image.paste(resized_image, (x_offset, y_offset))\n",
    "\n",
    "        return padded_image"
   ]
  },
  {
   "cell_type": "markdown",
   "id": "91900175-aa4c-4d76-9b85-22f182a09913",
   "metadata": {},
   "source": [
    "#### Tensor Transformations"
   ]
  },
  {
   "cell_type": "code",
   "execution_count": 15,
   "id": "3305074f-6437-461d-8a66-a8d52c76a012",
   "metadata": {},
   "outputs": [],
   "source": [
    "import torchvision.transforms as transforms"
   ]
  },
  {
   "cell_type": "code",
   "execution_count": 16,
   "id": "fd1e4991-cc91-4b35-b108-fbac10313b65",
   "metadata": {},
   "outputs": [],
   "source": [
    "transform_images_tensor = transforms.Compose([\n",
    "    transforms.ToTensor(),\n",
    "    transforms.Lambda(lambda x: (x - torch.min(x)) / (torch.max(x) - torch.min(x))),\n",
    "    transforms.Lambda(lambda x: x.type(torch.float32))\n",
    "])"
   ]
  },
  {
   "cell_type": "markdown",
   "id": "cac196e0-3ff1-4102-89a8-2700fe328410",
   "metadata": {},
   "source": [
    "#### Train-Validation split"
   ]
  },
  {
   "cell_type": "code",
   "execution_count": 17,
   "id": "b957f2cf-1ec2-4933-b1dc-e5abf2dc8223",
   "metadata": {},
   "outputs": [],
   "source": [
    "from sklearn.model_selection import train_test_split"
   ]
  },
  {
   "cell_type": "code",
   "execution_count": 18,
   "id": "6384c529-5f2f-4c5d-84ae-f086c36a6025",
   "metadata": {},
   "outputs": [],
   "source": [
    "# transform to list before inputting into splitting function\n",
    "training_image_list = list(training_dataset_dict.keys())\n",
    "training_landmark_list = list(training_landmark_ap_dict.values())\n",
    "training_true_cobb_angle_list = list(training_dataset_dict.values())"
   ]
  },
  {
   "cell_type": "code",
   "execution_count": 19,
   "id": "0aae46f5-49a2-4a17-9503-502d565ae77b",
   "metadata": {},
   "outputs": [],
   "source": [
    "# Split the lists into training and validation sets\n",
    "training_image, val_image, training_landmark, val_landmark, training_true_cobb_angle, val_true_cobb_angle = train_test_split(training_image_list, training_landmark_list, training_true_cobb_angle_list, test_size=0.2, random_state=42)"
   ]
  },
  {
   "cell_type": "markdown",
   "id": "93bc12ad-fa3a-46b8-b6bd-6619f3eff18e",
   "metadata": {},
   "source": [
    "#### Custom Dataset instance for training and validation"
   ]
  },
  {
   "cell_type": "code",
   "execution_count": 20,
   "id": "b1821b09-8541-44a9-8093-91eb33d3446e",
   "metadata": {},
   "outputs": [],
   "source": [
    "transformed_training_dataset = CustomDataset(training_image, training_landmark, training_true_cobb_angle, transform_images_tensor, (572,572))\n",
    "transformed_validation_dataset = CustomDataset(val_image, val_landmark, val_true_cobb_angle, transform_images_tensor, (572,572))"
   ]
  },
  {
   "cell_type": "markdown",
   "id": "8706771e-06ae-4b54-ada2-aedfe3de33d4",
   "metadata": {},
   "source": [
    "#### training_loader and validation_loader"
   ]
  },
  {
   "cell_type": "code",
   "execution_count": 21,
   "id": "90a36ad7-2a30-47d8-b8cc-e29e49b8cc6c",
   "metadata": {},
   "outputs": [],
   "source": [
    "from torch.utils.data import DataLoader\n",
    "# Create a data loader for batching and shuffling the data\n",
    "# batch_size = 32\n",
    "\n",
    "training_loader = DataLoader(transformed_training_dataset, batch_size=5, shuffle=True)\n",
    "validation_loader =  DataLoader(transformed_validation_dataset, batch_size=1, shuffle=False)"
   ]
  },
  {
   "cell_type": "markdown",
   "id": "696f3f26-a9c1-492c-b08b-f1bca3a1f4c9",
   "metadata": {},
   "source": [
    "#### Training and validating process"
   ]
  },
  {
   "cell_type": "code",
   "execution_count": 22,
   "id": "c468c094-4972-4203-9657-e675dbee673b",
   "metadata": {},
   "outputs": [],
   "source": [
    "import torch.optim as optim"
   ]
  },
  {
   "cell_type": "code",
   "execution_count": 23,
   "id": "47119490-8434-4c68-8b9f-db3fe729504d",
   "metadata": {},
   "outputs": [],
   "source": [
    "model = MultiInputNet(landmark_input_size=64, landmark_output_size=64)\n",
    "model = model.to(device)"
   ]
  },
  {
   "cell_type": "code",
   "execution_count": 24,
   "id": "7eb9fc3d-0946-4761-8751-003e2a8d4843",
   "metadata": {},
   "outputs": [],
   "source": [
    "# set up optimizer and loss function\n",
    "criterion = nn.MSELoss()\n",
    "optimizer = optim.Adam(model.parameters(), lr=0.001)\n",
    "num_epochs = 100"
   ]
  },
  {
   "cell_type": "code",
   "execution_count": 25,
   "id": "b137f6f1-cf7b-486a-9392-5acac220fce7",
   "metadata": {},
   "outputs": [
    {
     "name": "stdout",
     "output_type": "stream",
     "text": [
      "Epoch [1/100], Training Loss: 94.86462999319102, Validation Loss: 67.7224314728963\n",
      "Lowest val_loss found\n",
      "Epoch [2/100], Training Loss: 74.6244807429128, Validation Loss: 65.22831030481869\n",
      "Lowest val_loss found\n",
      "Epoch [3/100], Training Loss: 39.59007618644021, Validation Loss: 26.04401188228548\n",
      "Lowest val_loss found\n",
      "Epoch [4/100], Training Loss: 14.842717941705283, Validation Loss: 12.828108992158752\n",
      "Lowest val_loss found\n",
      "Epoch [5/100], Training Loss: 11.876406322826039, Validation Loss: 12.429247685314454\n",
      "Lowest val_loss found\n",
      "Epoch [6/100], Training Loss: 12.177212588198774, Validation Loss: 12.153602333412957\n",
      "Lowest val_loss found\n",
      "Epoch [7/100], Training Loss: 11.76763207571847, Validation Loss: 12.196447946976141\n",
      "Epoch [8/100], Training Loss: 11.531400522628388, Validation Loss: 12.212855662881713\n",
      "Epoch [9/100], Training Loss: 11.025111288219303, Validation Loss: 11.901237187926302\n",
      "Lowest val_loss found\n",
      "Epoch [10/100], Training Loss: 11.701283519918269, Validation Loss: 12.391848097296105\n",
      "Epoch [11/100], Training Loss: 11.234387193407331, Validation Loss: 11.708243478204786\n",
      "Lowest val_loss found\n",
      "Epoch [12/100], Training Loss: 11.547892319691645, Validation Loss: 12.056898658960751\n",
      "Epoch [13/100], Training Loss: 11.105611386237207, Validation Loss: 13.52169530231928\n",
      "Epoch [14/100], Training Loss: 11.154854923099666, Validation Loss: 12.197499154615649\n",
      "Epoch [15/100], Training Loss: 11.24001261785433, Validation Loss: 11.674226953196772\n",
      "Lowest val_loss found\n",
      "Epoch [16/100], Training Loss: 11.210966289817513, Validation Loss: 11.697119138904453\n",
      "Epoch [17/100], Training Loss: 10.840420023187415, Validation Loss: 11.861456906672606\n",
      "Epoch [18/100], Training Loss: 10.975593353246714, Validation Loss: 15.026860269381828\n",
      "Epoch [19/100], Training Loss: 10.85004675852788, Validation Loss: 11.387890122907677\n",
      "Lowest val_loss found\n",
      "Epoch [20/100], Training Loss: 10.936232845504563, Validation Loss: 14.080116271204556\n",
      "Epoch [21/100], Training Loss: 10.735107372333477, Validation Loss: 12.132989352204136\n",
      "Epoch [22/100], Training Loss: 10.72803345593539, Validation Loss: 11.39228206742363\n",
      "Epoch [23/100], Training Loss: 10.486330716640918, Validation Loss: 11.803856828394009\n",
      "Epoch [24/100], Training Loss: 10.809823797894763, Validation Loss: 11.349918563341356\n",
      "Lowest val_loss found\n",
      "Epoch [25/100], Training Loss: 10.679148831924834, Validation Loss: 11.517372631381468\n",
      "Epoch [26/100], Training Loss: 10.306379222250603, Validation Loss: 11.329509185147039\n",
      "Lowest val_loss found\n",
      "Epoch [27/100], Training Loss: 11.021138962213096, Validation Loss: 13.243660469337836\n",
      "Epoch [28/100], Training Loss: 11.060596701386688, Validation Loss: 11.594036546103734\n",
      "Epoch [29/100], Training Loss: 10.317428407730993, Validation Loss: 11.818378079797803\n",
      "Epoch [30/100], Training Loss: 1772.7207794189453, Validation Loss: 13.138401261617227\n",
      "Epoch [31/100], Training Loss: 854.5135929212942, Validation Loss: 52.21569490432739\n",
      "Epoch [32/100], Training Loss: 22.69524147758236, Validation Loss: 14.48508403703724\n",
      "Epoch [33/100], Training Loss: 20902852.07400088, Validation Loss: 16.251193273006027\n",
      "Epoch [34/100], Training Loss: 11999542.511165839, Validation Loss: 13.984086453146542\n",
      "Epoch [35/100], Training Loss: 14.918476754968816, Validation Loss: 11.733414466540838\n",
      "Epoch [36/100], Training Loss: 14.239971526257403, Validation Loss: 11.497906872599396\n",
      "Epoch [37/100], Training Loss: 14.323195098282454, Validation Loss: 12.33210167165884\n",
      "Epoch [38/100], Training Loss: 14.1414894562263, Validation Loss: 11.821471241331592\n",
      "Epoch [39/100], Training Loss: 13.28205709023909, Validation Loss: 12.35406118662087\n",
      "Epoch [40/100], Training Loss: 14.248369216918945, Validation Loss: 11.943311008595929\n",
      "Epoch [41/100], Training Loss: 14.023736260154031, Validation Loss: 11.796430919588227\n",
      "Epoch [42/100], Training Loss: 13.660712632265957, Validation Loss: 12.230561626633419\n",
      "Epoch [43/100], Training Loss: 13.715185310933498, Validation Loss: 12.049830144828128\n",
      "Epoch [44/100], Training Loss: 55525670.06252175, Validation Loss: 30.173710953329028\n",
      "Epoch [45/100], Training Loss: 24.6169747934713, Validation Loss: 19.040124947262793\n",
      "Epoch [46/100], Training Loss: 19.837036405290878, Validation Loss: 15.786634934931687\n",
      "Epoch [47/100], Training Loss: 23897074.187371936, Validation Loss: 40.78540510246434\n",
      "Epoch [48/100], Training Loss: 50.68049794977362, Validation Loss: 35.7484826334973\n",
      "Epoch [49/100], Training Loss: 33.75672326769148, Validation Loss: 21.139894073771448\n",
      "Epoch [50/100], Training Loss: 29.116780553545272, Validation Loss: 17.629753518196726\n",
      "Epoch [51/100], Training Loss: 25.579243666165834, Validation Loss: 16.81790379503953\n",
      "Epoch [52/100], Training Loss: 23.311756567521527, Validation Loss: 17.295462076350585\n",
      "Epoch [53/100], Training Loss: 21.425746310840953, Validation Loss: 14.78448633281226\n",
      "Epoch [54/100], Training Loss: 20.295784064701625, Validation Loss: 14.361528454214028\n",
      "Epoch [55/100], Training Loss: 18.880139911329593, Validation Loss: 12.769264820233449\n",
      "Epoch [56/100], Training Loss: 17.76172717825159, Validation Loss: 13.946111036791015\n",
      "Epoch [57/100], Training Loss: 18.038694802816813, Validation Loss: 13.23208333121747\n",
      "Epoch [58/100], Training Loss: 18.35281686039714, Validation Loss: 13.630652710142517\n",
      "Epoch [59/100], Training Loss: 18.082974749726134, Validation Loss: 12.598004121871032\n",
      "Epoch [60/100], Training Loss: 15.9206680849001, Validation Loss: 13.447367802185497\n",
      "Epoch [61/100], Training Loss: 17.400964997031473, Validation Loss: 12.996828161333639\n",
      "Epoch [62/100], Training Loss: 15.741895873825271, Validation Loss: 12.12180029854332\n",
      "Epoch [63/100], Training Loss: 15.876186822916006, Validation Loss: 11.882620259044097\n",
      "Epoch [64/100], Training Loss: 15.48641260258563, Validation Loss: 12.153133931233711\n",
      "Epoch [65/100], Training Loss: 16.24589761511072, Validation Loss: 11.771244662016937\n",
      "Epoch [66/100], Training Loss: 15.539160969969513, Validation Loss: 12.055513244928774\n",
      "Epoch [67/100], Training Loss: 17.051744250508097, Validation Loss: 13.01552046482096\n",
      "Epoch [68/100], Training Loss: 16.404639027335428, Validation Loss: 12.258753201703435\n",
      "Epoch [69/100], Training Loss: 16.7751557083873, Validation Loss: 12.226371376784806\n",
      "Epoch [70/100], Training Loss: 16.184374964082394, Validation Loss: 12.419662528124052\n",
      "Epoch [71/100], Training Loss: 15.76047624241222, Validation Loss: 11.922952558269206\n",
      "Epoch [72/100], Training Loss: 15.811298964859603, Validation Loss: 11.7733717886443\n",
      "Epoch [73/100], Training Loss: 1383694244.5017858, Validation Loss: 13.478131055447859\n",
      "Epoch [74/100], Training Loss: 8730138289.536215, Validation Loss: 16.64164107607812\n",
      "Epoch [75/100], Training Loss: 44998.91300686923, Validation Loss: 13.866579832489958\n",
      "Epoch [76/100], Training Loss: 20.70036366078761, Validation Loss: 14.704886073304205\n",
      "Epoch [77/100], Training Loss: 18.362843810737907, Validation Loss: 14.442667460933174\n",
      "Epoch [78/100], Training Loss: 20.130994425191506, Validation Loss: 14.351183565007043\n",
      "Epoch [79/100], Training Loss: 19.495756564202246, Validation Loss: 13.370583739477334\n",
      "Epoch [80/100], Training Loss: 19.48408738668863, Validation Loss: 13.436372587975768\n",
      "Epoch [81/100], Training Loss: 18.78238922589785, Validation Loss: 14.415962965678922\n",
      "Epoch [82/100], Training Loss: 19.311185198944884, Validation Loss: 13.055417290053416\n",
      "Epoch [83/100], Training Loss: 19.12199678668728, Validation Loss: 14.450544624214935\n",
      "Epoch [84/100], Training Loss: 18.67761868006223, Validation Loss: 13.852380419822083\n",
      "Epoch [85/100], Training Loss: 18.25062164083704, Validation Loss: 13.781259368529025\n",
      "Epoch [86/100], Training Loss: 18.33349332871375, Validation Loss: 12.760305565657076\n",
      "Epoch [87/100], Training Loss: 18.819299858885927, Validation Loss: 12.807380461201225\n",
      "Epoch [88/100], Training Loss: 17.754298457851657, Validation Loss: 12.26316647369837\n",
      "Epoch [89/100], Training Loss: 17.698892413795768, Validation Loss: 12.910159713214206\n",
      "Epoch [90/100], Training Loss: 18.43787229215944, Validation Loss: 13.741441836062165\n",
      "Epoch [91/100], Training Loss: 19.14047881225487, Validation Loss: 13.311598518306447\n",
      "Epoch [92/100], Training Loss: 17.730388034473766, Validation Loss: 12.593371141817151\n",
      "Epoch [93/100], Training Loss: 509577.74338707986, Validation Loss: 13.801056153073754\n",
      "Epoch [94/100], Training Loss: 17.823051663188192, Validation Loss: 12.77036592272139\n",
      "Epoch [95/100], Training Loss: 18.109925455861276, Validation Loss: 12.479030579943018\n",
      "Epoch [96/100], Training Loss: 18.07181433268956, Validation Loss: 12.763854365066155\n",
      "Epoch [97/100], Training Loss: 16.209860566374545, Validation Loss: 12.980596967579164\n",
      "Epoch [98/100], Training Loss: 233926.7654011652, Validation Loss: 28.278232435398188\n",
      "Epoch [99/100], Training Loss: 23.790149837345272, Validation Loss: 14.836644502030206\n",
      "Epoch [100/100], Training Loss: 19.258473935065332, Validation Loss: 12.284651324613806\n"
     ]
    }
   ],
   "source": [
    "# to save validation loss and training loss\n",
    "loss_list_data = []\n",
    "\n",
    "# to keep track lowest loss\n",
    "lowest_val_loss = float('inf')\n",
    "\n",
    "start_time = time.time()\n",
    "\n",
    "# training loop with validation\n",
    "for epoch in range(num_epochs):\n",
    "    \n",
    "    # training phase\n",
    "    model.train()                                       # allow weights and biases adjusting\n",
    "    training_loss = 0.0\n",
    "    for image_input, landmark_input, target_angle, _ in training_loader:\n",
    "        # move input and output to cuda if available\n",
    "        image_input = image_input.to(device)\n",
    "        landmark_input = landmark_input.to(device)\n",
    "        # reshape target_angle\n",
    "        # target_angle = target_angle.reshape((3))\n",
    "        target_angle = target_angle.to(device)\n",
    "        optimizer.zero_grad()                           # clearing previous loss derivative\n",
    "        predicted = model(image_input, landmark_input)                  # forward \n",
    "        loss = criterion(predicted, target_angle)       # computing loss\n",
    "        loss.backward()                                 # computing loss derivative with respect of weights and biases\n",
    "        optimizer.step()                                # adjusting weights and biases\n",
    "        training_loss += loss.item()                    # summing all batches losses for averaging\n",
    "    training_loss /= len(training_loader)\n",
    "        \n",
    "    # validation phase in at end of every epoch\n",
    "    model.eval()                                        # block weights and biases adjsuting\n",
    "    val_loss = 0.0\n",
    "    with torch.no_grad():                                # remove all computed derivatives\n",
    "        for image_input, landmark_input, target_angle, _ in validation_loader:\n",
    "            # move input and output to cuda if available\n",
    "            image_input = image_input.to(device)\n",
    "            landmark_input = landmark_input.to(device)\n",
    "            # reshape target_angle\n",
    "            # target_angle = target_angle.reshape((3))\n",
    "            target_angle = target_angle.to(device)\n",
    "            predicted = model(image_input, landmark_input)\n",
    "            # for averaging validation loss\n",
    "            val_loss += criterion(predicted, target_angle).item()\n",
    "    \n",
    "    val_loss /= len(validation_loader) # calculating average validation loss\n",
    "    \n",
    "    # Print the training and validation loss for each epoch\n",
    "    print(f\"Epoch [{epoch+1}/{num_epochs}], Training Loss: {training_loss}, Validation Loss: {val_loss}\")    \n",
    "    \n",
    "    # for graphing evaluation later\n",
    "    loss_list_data.append((epoch+1, training_loss, val_loss))\n",
    "    \n",
    "    # save best model with lowest validation loss\n",
    "    if lowest_val_loss > val_loss:\n",
    "        lowest_val_loss = val_loss\n",
    "        best_model = model.state_dict()\n",
    "        print('Lowest val_loss found')\n",
    "\n",
    "\n",
    "end_time = time.time()\n",
    "\n",
    "# save the best model found\n",
    "path = 'C:\\\\Users\\\\iqmal_pc\\\\Desktop\\\\fyp_experiment\\\\saved_models\\\\training_5\\\\'\n",
    "torch.save(best_model, path + 'best_training_5.pt')"
   ]
  },
  {
   "cell_type": "markdown",
   "id": "d15452a8-c017-403c-8f7c-8b697136a705",
   "metadata": {
    "tags": []
   },
   "source": [
    "#### Scratchpad"
   ]
  },
  {
   "cell_type": "code",
   "execution_count": 26,
   "id": "eab86c3f-7baf-4897-896b-cdf2f46f4f7c",
   "metadata": {},
   "outputs": [],
   "source": [
    "# for idx, (image_input, landmark_input, target_angle, _) in enumerate(training_loader):\n",
    "#     print(\"Batch \" + str(idx+1))\n",
    "#     print(\"landmark shape \" + str(landmark_input.shape))"
   ]
  },
  {
   "cell_type": "code",
   "execution_count": 27,
   "id": "aaf9dfd9-1f41-4c9c-8736-300f6721bcea",
   "metadata": {},
   "outputs": [],
   "source": [
    "# img_mock = torch.rand((5,1,572,572))\n",
    "# landmark_mock = torch.rand((5,64))\n",
    "\n",
    "# img_mock = img_mock.to(device)\n",
    "# landmark_mock = landmark_mock.to(device)\n",
    "# model(img_mock, landmark_mock)"
   ]
  },
  {
   "cell_type": "markdown",
   "id": "c9335a2c-2300-42ac-87e7-7e7bf4a26a65",
   "metadata": {},
   "source": [
    "#### Compute training time"
   ]
  },
  {
   "cell_type": "code",
   "execution_count": 28,
   "id": "a3141aa3-c04c-4fbe-bce6-fefe408aa0e7",
   "metadata": {},
   "outputs": [
    {
     "name": "stdout",
     "output_type": "stream",
     "text": [
      "Training time elapsed: 9816.097136259079 seconds\n"
     ]
    }
   ],
   "source": [
    "training_time = end_time - start_time\n",
    "print(\"Training time elapsed: \" + str(training_time) + \" seconds\")"
   ]
  },
  {
   "cell_type": "markdown",
   "id": "f6e059a5-5856-40c3-ae1d-6eb87c618352",
   "metadata": {},
   "source": [
    "#### Save latest model"
   ]
  },
  {
   "cell_type": "code",
   "execution_count": 29,
   "id": "cefb1565-44b4-4d87-9ed5-9a046e8e0bfd",
   "metadata": {},
   "outputs": [],
   "source": [
    "# save model \n",
    "path = 'C:\\\\Users\\\\iqmal_pc\\\\Desktop\\\\fyp_experiment\\\\saved_models\\\\training_5\\\\'\n",
    "torch.save(model.state_dict(), path + 'finished_training_5.pt')"
   ]
  },
  {
   "cell_type": "markdown",
   "id": "61981682-72b2-40bb-acb3-c05d39951579",
   "metadata": {},
   "source": [
    "#### Testing model"
   ]
  },
  {
   "cell_type": "code",
   "execution_count": 30,
   "id": "6d6e614a-fed1-463a-87d3-4b2a623c9c20",
   "metadata": {},
   "outputs": [],
   "source": [
    "# unpack list\n",
    "test_image = list(test_dataset_dict.keys())\n",
    "test_true_cobb_angle = list(test_dataset_dict.values())\n",
    "test_landmark = list(test_landmark_ap_dict.values())"
   ]
  },
  {
   "cell_type": "code",
   "execution_count": 31,
   "id": "90ee1f64-a234-4a82-93e7-b0276915477f",
   "metadata": {},
   "outputs": [],
   "source": [
    "# loading test dataset\n",
    "transformed_test_dataset = CustomDataset(test_image, test_landmark, test_true_cobb_angle, transform_images_tensor, (572,572))"
   ]
  },
  {
   "cell_type": "code",
   "execution_count": 32,
   "id": "db0fa676-cc49-498e-89e0-05c40ef42984",
   "metadata": {},
   "outputs": [],
   "source": [
    "# testing data loader\n",
    "test_loader =  DataLoader(transformed_test_dataset, batch_size=1, shuffle=False)"
   ]
  },
  {
   "cell_type": "code",
   "execution_count": 33,
   "id": "afcd1f71-f37c-4cc6-adf2-9806202dbdf1",
   "metadata": {},
   "outputs": [
    {
     "name": "stdout",
     "output_type": "stream",
     "text": [
      "Final model testing loss: 9.920594838215038\n"
     ]
    }
   ],
   "source": [
    "test_loss = 0.0\n",
    "model.eval()\n",
    "with torch.no_grad():\n",
    "    for image_input, landmark_input, target_angle, _ in test_loader:\n",
    "        # move input and output to cuda if available\n",
    "        image_input = image_input.to(device)\n",
    "        landmark_input = landmark_input.to(device)\n",
    "        # reshape target_angle\n",
    "        # target_angle = target_angle.reshape((3))\n",
    "        target_angle = target_angle.to(device)\n",
    "        predicted = model(image_input, landmark_input)\n",
    "        test_loss += criterion(predicted, target_angle).item()\n",
    "\n",
    "test_loss /= len(test_loader) # calculating average test_loss\n",
    "print(f\"Final model testing loss: {test_loss}\")"
   ]
  },
  {
   "cell_type": "code",
   "execution_count": 39,
   "id": "81fbd43c-2cc2-4d8d-b4ba-dc2400e11090",
   "metadata": {},
   "outputs": [
    {
     "name": "stdout",
     "output_type": "stream",
     "text": [
      "Best model testing loss: 53.88561197370291\n"
     ]
    }
   ],
   "source": [
    "# load best model\n",
    "the_best_model = MultiInputNet(landmark_input_size=64, landmark_output_size=64)\n",
    "the_best_model.load_state_dict(torch.load(path + 'best_training_5.pt'), strict=False) # load the saved best model weights & biases dictionary\n",
    "the_best_model = the_best_model.to(device)\n",
    "# testing phase using best model\n",
    "test_loss = 0.0\n",
    "the_best_model.eval()\n",
    "with torch.no_grad():\n",
    "    for image_input, landmark_input, target_angle, _ in test_loader:\n",
    "        # move input and output to cuda if available\n",
    "        image_input = image_input.to(device)\n",
    "        landmark_input = landmark_input.to(device)\n",
    "        # reshape target_angle\n",
    "        # target_angle = target_angle.reshape((3))\n",
    "        target_angle = target_angle.to(device)\n",
    "        predicted = the_best_model(image_input, landmark_input)\n",
    "        test_loss += criterion(predicted, target_angle).item()\n",
    "\n",
    "test_loss /= len(test_loader) # calculating average test_loss\n",
    "print(f\"Best model testing loss: {test_loss}\")"
   ]
  },
  {
   "cell_type": "markdown",
   "id": "1d719981-c7c3-4343-951d-35d27c8e08c5",
   "metadata": {},
   "source": [
    "#### Evaluation (Loss vs Epoch)"
   ]
  },
  {
   "cell_type": "code",
   "execution_count": 35,
   "id": "c6788895-2a45-4e44-ac5f-100833040119",
   "metadata": {},
   "outputs": [],
   "source": [
    "epoch_list = []\n",
    "training_loss_list = []\n",
    "validation_loss_list = []\n",
    "\n",
    "for i in range(len(loss_list_data)):\n",
    "    epoch_list.append(loss_list_data[i][0])\n",
    "    training_loss_list.append(loss_list_data[i][1])\n",
    "    validation_loss_list.append(loss_list_data[i][2])"
   ]
  },
  {
   "cell_type": "code",
   "execution_count": 37,
   "id": "1e4731be-1e40-463c-bfb7-e9c415cc0680",
   "metadata": {},
   "outputs": [
    {
     "data": {
      "image/png": "[encoded data removed]",
      "text/plain": [
       "<Figure size 640x480 with 1 Axes>"
      ]
     },
     "metadata": {},
     "output_type": "display_data"
    }
   ],
   "source": [
    "# plot training loss vs epoch\n",
    "import matplotlib.pyplot as plt\n",
    "\n",
    "plt.plot(epoch_list, training_loss_list, color='#f70c0c', label='training loss')\n",
    "plt.plot(epoch_list, validation_loss_list, color='#00fa08', label='validation loss')\n",
    "plt.title('Loss vs Epoch')\n",
    "plt.xlabel('Epoch')\n",
    "plt.ylabel('Loss')\n",
    "plt.legend()\n",
    "plt.show()"
   ]
  },
  {
   "cell_type": "markdown",
   "id": "5a86ca27-e998-4662-99e3-501bf2b45e77",
   "metadata": {},
   "source": [
    "#### Test data evaluation plot (Predicted vs Ground Truth) for every PT, MT and TL/L"
   ]
  },
  {
   "cell_type": "code",
   "execution_count": 78,
   "id": "9ce6f6a3-2d01-4d4a-94e4-b92f2a5acccd",
   "metadata": {},
   "outputs": [],
   "source": [
    "predicted_list = []\n",
    "target_angle_list = []\n",
    "\n",
    "the_best_model.eval()\n",
    "with torch.no_grad():\n",
    "    for image_input, landmark_input, target_angle, _ in test_loader:\n",
    "        # move input and output to cuda if available\n",
    "        image_input = image_input.to(device)\n",
    "        landmark_input = landmark_input.to(device)\n",
    "        # reshape target_angle\n",
    "        target_angle = target_angle.reshape((3))\n",
    "        target_angle = target_angle.to(device)\n",
    "        predicted = the_best_model(image_input, landmark_input)\n",
    "        \n",
    "        predicted_list.append(predicted.cpu().numpy())\n",
    "        target_angle_list.append(target_angle.cpu().numpy())"
   ]
  },
  {
   "cell_type": "code",
   "execution_count": 41,
   "id": "55fcd26c-ddb9-40ae-8ef4-2a42f30748ed",
   "metadata": {},
   "outputs": [],
   "source": [
    "# combined PT (predicted, true)\n",
    "PT_value = [(PT_predicted, PT_true) for (PT_predicted,*_),(PT_true,*_) in zip(predicted_list,target_angle_list)]"
   ]
  },
  {
   "cell_type": "code",
   "execution_count": 44,
   "id": "efc818b1-0cec-4745-9fe2-2f3f13041d80",
   "metadata": {},
   "outputs": [
    {
     "ename": "ValueError",
     "evalue": "not enough values to unpack (expected 3, got 1)",
     "output_type": "error",
     "traceback": [
      "\u001b[1;31m---------------------------------------------------------------------------\u001b[0m",
      "\u001b[1;31mValueError\u001b[0m                                Traceback (most recent call last)",
      "Cell \u001b[1;32mIn[44], line 1\u001b[0m\n\u001b[1;32m----> 1\u001b[0m MT_value \u001b[38;5;241m=\u001b[39m [(MT_predicted,MT_true) \u001b[38;5;28;01mfor\u001b[39;00m (_,MT_predicted,_),(_,MT_true,_) \u001b[38;5;129;01min\u001b[39;00m \u001b[38;5;28mzip\u001b[39m(predicted_list,target_angle_list)]\n",
      "Cell \u001b[1;32mIn[44], line 1\u001b[0m, in \u001b[0;36m<listcomp>\u001b[1;34m(.0)\u001b[0m\n\u001b[1;32m----> 1\u001b[0m MT_value \u001b[38;5;241m=\u001b[39m [(MT_predicted,MT_true) \u001b[38;5;28;01mfor\u001b[39;00m (_,MT_predicted,_),(_,MT_true,_) \u001b[38;5;129;01min\u001b[39;00m \u001b[38;5;28mzip\u001b[39m(predicted_list,target_angle_list)]\n",
      "\u001b[1;31mValueError\u001b[0m: not enough values to unpack (expected 3, got 1)"
     ]
    }
   ],
   "source": [
    "MT_value = [(MT_predicted,MT_true) for (_,MT_predicted,_),(_,MT_true,_) in zip(predicted_list,target_angle_list)]"
   ]
  },
  {
   "cell_type": "code",
   "execution_count": 43,
   "id": "8a7096b6-f5e7-4b74-9802-3a02030f54a6",
   "metadata": {},
   "outputs": [],
   "source": [
    "TL_value = [(TL_predicted,TL_true) for (*_,TL_predicted),(*_,TL_true) in zip(predicted_list,target_angle_list)]"
   ]
  },
  {
   "cell_type": "code",
   "execution_count": 45,
   "id": "cbc82668-a7be-4621-891a-11efe919a343",
   "metadata": {},
   "outputs": [
    {
     "ename": "ValueError",
     "evalue": "x and y must be the same size",
     "output_type": "error",
     "traceback": [
      "\u001b[1;31m---------------------------------------------------------------------------\u001b[0m",
      "\u001b[1;31mValueError\u001b[0m                                Traceback (most recent call last)",
      "Cell \u001b[1;32mIn[45], line 7\u001b[0m\n\u001b[0;32m      4\u001b[0m predicted_pt \u001b[38;5;241m=\u001b[39m [item[\u001b[38;5;241m0\u001b[39m] \u001b[38;5;28;01mfor\u001b[39;00m item \u001b[38;5;129;01min\u001b[39;00m PT_value]\n\u001b[0;32m      5\u001b[0m true_pt \u001b[38;5;241m=\u001b[39m [item[\u001b[38;5;241m1\u001b[39m] \u001b[38;5;28;01mfor\u001b[39;00m item \u001b[38;5;129;01min\u001b[39;00m PT_value]\n\u001b[1;32m----> 7\u001b[0m \u001b[43mplt\u001b[49m\u001b[38;5;241;43m.\u001b[39;49m\u001b[43mscatter\u001b[49m\u001b[43m(\u001b[49m\u001b[43mx\u001b[49m\u001b[43m,\u001b[49m\u001b[43m \u001b[49m\u001b[43mpredicted_pt\u001b[49m\u001b[43m,\u001b[49m\u001b[43m \u001b[49m\u001b[43mlabel\u001b[49m\u001b[38;5;241;43m=\u001b[39;49m\u001b[38;5;124;43m'\u001b[39;49m\u001b[38;5;124;43mpredicted PT\u001b[39;49m\u001b[38;5;124;43m'\u001b[39;49m\u001b[43m,\u001b[49m\u001b[43m \u001b[49m\u001b[43mcolor\u001b[49m\u001b[38;5;241;43m=\u001b[39;49m\u001b[38;5;124;43m'\u001b[39;49m\u001b[38;5;124;43m#fc0505\u001b[39;49m\u001b[38;5;124;43m'\u001b[39;49m\u001b[43m,\u001b[49m\u001b[43m \u001b[49m\u001b[43ms\u001b[49m\u001b[38;5;241;43m=\u001b[39;49m\u001b[38;5;241;43m5\u001b[39;49m\u001b[43m)\u001b[49m\n\u001b[0;32m      8\u001b[0m plt\u001b[38;5;241m.\u001b[39mplot(x, true_pt, label\u001b[38;5;241m=\u001b[39m\u001b[38;5;124m'\u001b[39m\u001b[38;5;124mtrue PT\u001b[39m\u001b[38;5;124m'\u001b[39m, color\u001b[38;5;241m=\u001b[39m\u001b[38;5;124m'\u001b[39m\u001b[38;5;124m#05fc4f\u001b[39m\u001b[38;5;124m'\u001b[39m)\n\u001b[0;32m      9\u001b[0m plt\u001b[38;5;241m.\u001b[39mxlabel(\u001b[38;5;124m'\u001b[39m\u001b[38;5;124mTest Image ID\u001b[39m\u001b[38;5;124m'\u001b[39m)\n",
      "File \u001b[1;32m~\\anaconda3\\envs\\deeplearning\\lib\\site-packages\\matplotlib\\pyplot.py:2790\u001b[0m, in \u001b[0;36mscatter\u001b[1;34m(x, y, s, c, marker, cmap, norm, vmin, vmax, alpha, linewidths, edgecolors, plotnonfinite, data, **kwargs)\u001b[0m\n\u001b[0;32m   2785\u001b[0m \u001b[38;5;129m@_copy_docstring_and_deprecators\u001b[39m(Axes\u001b[38;5;241m.\u001b[39mscatter)\n\u001b[0;32m   2786\u001b[0m \u001b[38;5;28;01mdef\u001b[39;00m \u001b[38;5;21mscatter\u001b[39m(\n\u001b[0;32m   2787\u001b[0m         x, y, s\u001b[38;5;241m=\u001b[39m\u001b[38;5;28;01mNone\u001b[39;00m, c\u001b[38;5;241m=\u001b[39m\u001b[38;5;28;01mNone\u001b[39;00m, marker\u001b[38;5;241m=\u001b[39m\u001b[38;5;28;01mNone\u001b[39;00m, cmap\u001b[38;5;241m=\u001b[39m\u001b[38;5;28;01mNone\u001b[39;00m, norm\u001b[38;5;241m=\u001b[39m\u001b[38;5;28;01mNone\u001b[39;00m,\n\u001b[0;32m   2788\u001b[0m         vmin\u001b[38;5;241m=\u001b[39m\u001b[38;5;28;01mNone\u001b[39;00m, vmax\u001b[38;5;241m=\u001b[39m\u001b[38;5;28;01mNone\u001b[39;00m, alpha\u001b[38;5;241m=\u001b[39m\u001b[38;5;28;01mNone\u001b[39;00m, linewidths\u001b[38;5;241m=\u001b[39m\u001b[38;5;28;01mNone\u001b[39;00m, \u001b[38;5;241m*\u001b[39m,\n\u001b[0;32m   2789\u001b[0m         edgecolors\u001b[38;5;241m=\u001b[39m\u001b[38;5;28;01mNone\u001b[39;00m, plotnonfinite\u001b[38;5;241m=\u001b[39m\u001b[38;5;28;01mFalse\u001b[39;00m, data\u001b[38;5;241m=\u001b[39m\u001b[38;5;28;01mNone\u001b[39;00m, \u001b[38;5;241m*\u001b[39m\u001b[38;5;241m*\u001b[39mkwargs):\n\u001b[1;32m-> 2790\u001b[0m     __ret \u001b[38;5;241m=\u001b[39m gca()\u001b[38;5;241m.\u001b[39mscatter(\n\u001b[0;32m   2791\u001b[0m         x, y, s\u001b[38;5;241m=\u001b[39ms, c\u001b[38;5;241m=\u001b[39mc, marker\u001b[38;5;241m=\u001b[39mmarker, cmap\u001b[38;5;241m=\u001b[39mcmap, norm\u001b[38;5;241m=\u001b[39mnorm,\n\u001b[0;32m   2792\u001b[0m         vmin\u001b[38;5;241m=\u001b[39mvmin, vmax\u001b[38;5;241m=\u001b[39mvmax, alpha\u001b[38;5;241m=\u001b[39malpha, linewidths\u001b[38;5;241m=\u001b[39mlinewidths,\n\u001b[0;32m   2793\u001b[0m         edgecolors\u001b[38;5;241m=\u001b[39medgecolors, plotnonfinite\u001b[38;5;241m=\u001b[39mplotnonfinite,\n\u001b[0;32m   2794\u001b[0m         \u001b[38;5;241m*\u001b[39m\u001b[38;5;241m*\u001b[39m({\u001b[38;5;124m\"\u001b[39m\u001b[38;5;124mdata\u001b[39m\u001b[38;5;124m\"\u001b[39m: data} \u001b[38;5;28;01mif\u001b[39;00m data \u001b[38;5;129;01mis\u001b[39;00m \u001b[38;5;129;01mnot\u001b[39;00m \u001b[38;5;28;01mNone\u001b[39;00m \u001b[38;5;28;01melse\u001b[39;00m {}), \u001b[38;5;241m*\u001b[39m\u001b[38;5;241m*\u001b[39mkwargs)\n\u001b[0;32m   2795\u001b[0m     sci(__ret)\n\u001b[0;32m   2796\u001b[0m     \u001b[38;5;28;01mreturn\u001b[39;00m __ret\n",
      "File \u001b[1;32m~\\anaconda3\\envs\\deeplearning\\lib\\site-packages\\matplotlib\\__init__.py:1423\u001b[0m, in \u001b[0;36m_preprocess_data.<locals>.inner\u001b[1;34m(ax, data, *args, **kwargs)\u001b[0m\n\u001b[0;32m   1420\u001b[0m \u001b[38;5;129m@functools\u001b[39m\u001b[38;5;241m.\u001b[39mwraps(func)\n\u001b[0;32m   1421\u001b[0m \u001b[38;5;28;01mdef\u001b[39;00m \u001b[38;5;21minner\u001b[39m(ax, \u001b[38;5;241m*\u001b[39margs, data\u001b[38;5;241m=\u001b[39m\u001b[38;5;28;01mNone\u001b[39;00m, \u001b[38;5;241m*\u001b[39m\u001b[38;5;241m*\u001b[39mkwargs):\n\u001b[0;32m   1422\u001b[0m     \u001b[38;5;28;01mif\u001b[39;00m data \u001b[38;5;129;01mis\u001b[39;00m \u001b[38;5;28;01mNone\u001b[39;00m:\n\u001b[1;32m-> 1423\u001b[0m         \u001b[38;5;28;01mreturn\u001b[39;00m func(ax, \u001b[38;5;241m*\u001b[39m\u001b[38;5;28mmap\u001b[39m(sanitize_sequence, args), \u001b[38;5;241m*\u001b[39m\u001b[38;5;241m*\u001b[39mkwargs)\n\u001b[0;32m   1425\u001b[0m     bound \u001b[38;5;241m=\u001b[39m new_sig\u001b[38;5;241m.\u001b[39mbind(ax, \u001b[38;5;241m*\u001b[39margs, \u001b[38;5;241m*\u001b[39m\u001b[38;5;241m*\u001b[39mkwargs)\n\u001b[0;32m   1426\u001b[0m     auto_label \u001b[38;5;241m=\u001b[39m (bound\u001b[38;5;241m.\u001b[39marguments\u001b[38;5;241m.\u001b[39mget(label_namer)\n\u001b[0;32m   1427\u001b[0m                   \u001b[38;5;129;01mor\u001b[39;00m bound\u001b[38;5;241m.\u001b[39mkwargs\u001b[38;5;241m.\u001b[39mget(label_namer))\n",
      "File \u001b[1;32m~\\anaconda3\\envs\\deeplearning\\lib\\site-packages\\matplotlib\\axes\\_axes.py:4520\u001b[0m, in \u001b[0;36mAxes.scatter\u001b[1;34m(self, x, y, s, c, marker, cmap, norm, vmin, vmax, alpha, linewidths, edgecolors, plotnonfinite, **kwargs)\u001b[0m\n\u001b[0;32m   4518\u001b[0m y \u001b[38;5;241m=\u001b[39m np\u001b[38;5;241m.\u001b[39mma\u001b[38;5;241m.\u001b[39mravel(y)\n\u001b[0;32m   4519\u001b[0m \u001b[38;5;28;01mif\u001b[39;00m x\u001b[38;5;241m.\u001b[39msize \u001b[38;5;241m!=\u001b[39m y\u001b[38;5;241m.\u001b[39msize:\n\u001b[1;32m-> 4520\u001b[0m     \u001b[38;5;28;01mraise\u001b[39;00m \u001b[38;5;167;01mValueError\u001b[39;00m(\u001b[38;5;124m\"\u001b[39m\u001b[38;5;124mx and y must be the same size\u001b[39m\u001b[38;5;124m\"\u001b[39m)\n\u001b[0;32m   4522\u001b[0m \u001b[38;5;28;01mif\u001b[39;00m s \u001b[38;5;129;01mis\u001b[39;00m \u001b[38;5;28;01mNone\u001b[39;00m:\n\u001b[0;32m   4523\u001b[0m     s \u001b[38;5;241m=\u001b[39m (\u001b[38;5;241m20\u001b[39m \u001b[38;5;28;01mif\u001b[39;00m mpl\u001b[38;5;241m.\u001b[39mrcParams[\u001b[38;5;124m'\u001b[39m\u001b[38;5;124m_internal.classic_mode\u001b[39m\u001b[38;5;124m'\u001b[39m] \u001b[38;5;28;01melse\u001b[39;00m\n\u001b[0;32m   4524\u001b[0m          mpl\u001b[38;5;241m.\u001b[39mrcParams[\u001b[38;5;124m'\u001b[39m\u001b[38;5;124mlines.markersize\u001b[39m\u001b[38;5;124m'\u001b[39m] \u001b[38;5;241m*\u001b[39m\u001b[38;5;241m*\u001b[39m \u001b[38;5;241m2.0\u001b[39m)\n",
      "\u001b[1;31mValueError\u001b[0m: x and y must be the same size"
     ]
    },
    {
     "data": {
      "image/png": "[encoded data removed]",
      "text/plain": [
       "<Figure size 640x480 with 1 Axes>"
      ]
     },
     "metadata": {},
     "output_type": "display_data"
    }
   ],
   "source": [
    "# plot PT value\n",
    "\n",
    "x = [img_idx for img_idx in range(1, len(PT_value)+1)]\n",
    "predicted_pt = [item[0] for item in PT_value]\n",
    "true_pt = [item[1] for item in PT_value]\n",
    "\n",
    "plt.scatter(x, predicted_pt, label='predicted PT', color='#fc0505', s=5)\n",
    "plt.plot(x, true_pt, label='true PT', color='#05fc4f')\n",
    "plt.xlabel('Test Image ID')\n",
    "plt.ylabel('PT angle')\n",
    "plt.title('PT angle vs Test Image ID')\n",
    "plt.legend()\n",
    "plt.show()"
   ]
  },
  {
   "cell_type": "code",
   "execution_count": null,
   "id": "0dcd55bb-975a-43b7-8baf-6c71ef8a0a8e",
   "metadata": {},
   "outputs": [],
   "source": [
    "# plot MT value\n",
    "x = [img_idx for img_idx in range(1, len(MT_value)+1)]\n",
    "predicted_mt = [item[0] for item in MT_value]\n",
    "true_mt = [item[1] for item in MT_value]\n",
    "\n",
    "plt.scatter(x, predicted_mt, label='predicted MT', color='#fc0505', s=5)\n",
    "plt.plot(x, true_mt, label='true MT', color='#05fc4f')\n",
    "plt.xlabel('Test Image ID')\n",
    "plt.ylabel('MT angle')\n",
    "plt.title('MT angle vs Test Image ID')\n",
    "plt.legend()\n",
    "plt.show()"
   ]
  },
  {
   "cell_type": "code",
   "execution_count": 46,
   "id": "2046941d-a031-4996-9b9e-cc5c953bc538",
   "metadata": {},
   "outputs": [
    {
     "ename": "ValueError",
     "evalue": "x and y must be the same size",
     "output_type": "error",
     "traceback": [
      "\u001b[1;31m---------------------------------------------------------------------------\u001b[0m",
      "\u001b[1;31mValueError\u001b[0m                                Traceback (most recent call last)",
      "Cell \u001b[1;32mIn[46], line 6\u001b[0m\n\u001b[0;32m      3\u001b[0m predicted_tl \u001b[38;5;241m=\u001b[39m [item[\u001b[38;5;241m0\u001b[39m] \u001b[38;5;28;01mfor\u001b[39;00m item \u001b[38;5;129;01min\u001b[39;00m TL_value]\n\u001b[0;32m      4\u001b[0m true_tl \u001b[38;5;241m=\u001b[39m [item[\u001b[38;5;241m1\u001b[39m] \u001b[38;5;28;01mfor\u001b[39;00m item \u001b[38;5;129;01min\u001b[39;00m TL_value]\n\u001b[1;32m----> 6\u001b[0m \u001b[43mplt\u001b[49m\u001b[38;5;241;43m.\u001b[39;49m\u001b[43mscatter\u001b[49m\u001b[43m(\u001b[49m\u001b[43mx\u001b[49m\u001b[43m,\u001b[49m\u001b[43m \u001b[49m\u001b[43mpredicted_tl\u001b[49m\u001b[43m,\u001b[49m\u001b[43m \u001b[49m\u001b[43mlabel\u001b[49m\u001b[38;5;241;43m=\u001b[39;49m\u001b[38;5;124;43m'\u001b[39;49m\u001b[38;5;124;43mpredicted TL\u001b[39;49m\u001b[38;5;124;43m'\u001b[39;49m\u001b[43m,\u001b[49m\u001b[43m \u001b[49m\u001b[43mcolor\u001b[49m\u001b[38;5;241;43m=\u001b[39;49m\u001b[38;5;124;43m'\u001b[39;49m\u001b[38;5;124;43m#fc0505\u001b[39;49m\u001b[38;5;124;43m'\u001b[39;49m\u001b[43m,\u001b[49m\u001b[43m \u001b[49m\u001b[43ms\u001b[49m\u001b[38;5;241;43m=\u001b[39;49m\u001b[38;5;241;43m5\u001b[39;49m\u001b[43m)\u001b[49m\n\u001b[0;32m      7\u001b[0m plt\u001b[38;5;241m.\u001b[39mplot(x, true_tl, label\u001b[38;5;241m=\u001b[39m\u001b[38;5;124m'\u001b[39m\u001b[38;5;124mtrue TL\u001b[39m\u001b[38;5;124m'\u001b[39m, color\u001b[38;5;241m=\u001b[39m\u001b[38;5;124m'\u001b[39m\u001b[38;5;124m#05fc4f\u001b[39m\u001b[38;5;124m'\u001b[39m)\n\u001b[0;32m      8\u001b[0m plt\u001b[38;5;241m.\u001b[39mxlabel(\u001b[38;5;124m'\u001b[39m\u001b[38;5;124mTest Image ID\u001b[39m\u001b[38;5;124m'\u001b[39m)\n",
      "File \u001b[1;32m~\\anaconda3\\envs\\deeplearning\\lib\\site-packages\\matplotlib\\pyplot.py:2790\u001b[0m, in \u001b[0;36mscatter\u001b[1;34m(x, y, s, c, marker, cmap, norm, vmin, vmax, alpha, linewidths, edgecolors, plotnonfinite, data, **kwargs)\u001b[0m\n\u001b[0;32m   2785\u001b[0m \u001b[38;5;129m@_copy_docstring_and_deprecators\u001b[39m(Axes\u001b[38;5;241m.\u001b[39mscatter)\n\u001b[0;32m   2786\u001b[0m \u001b[38;5;28;01mdef\u001b[39;00m \u001b[38;5;21mscatter\u001b[39m(\n\u001b[0;32m   2787\u001b[0m         x, y, s\u001b[38;5;241m=\u001b[39m\u001b[38;5;28;01mNone\u001b[39;00m, c\u001b[38;5;241m=\u001b[39m\u001b[38;5;28;01mNone\u001b[39;00m, marker\u001b[38;5;241m=\u001b[39m\u001b[38;5;28;01mNone\u001b[39;00m, cmap\u001b[38;5;241m=\u001b[39m\u001b[38;5;28;01mNone\u001b[39;00m, norm\u001b[38;5;241m=\u001b[39m\u001b[38;5;28;01mNone\u001b[39;00m,\n\u001b[0;32m   2788\u001b[0m         vmin\u001b[38;5;241m=\u001b[39m\u001b[38;5;28;01mNone\u001b[39;00m, vmax\u001b[38;5;241m=\u001b[39m\u001b[38;5;28;01mNone\u001b[39;00m, alpha\u001b[38;5;241m=\u001b[39m\u001b[38;5;28;01mNone\u001b[39;00m, linewidths\u001b[38;5;241m=\u001b[39m\u001b[38;5;28;01mNone\u001b[39;00m, \u001b[38;5;241m*\u001b[39m,\n\u001b[0;32m   2789\u001b[0m         edgecolors\u001b[38;5;241m=\u001b[39m\u001b[38;5;28;01mNone\u001b[39;00m, plotnonfinite\u001b[38;5;241m=\u001b[39m\u001b[38;5;28;01mFalse\u001b[39;00m, data\u001b[38;5;241m=\u001b[39m\u001b[38;5;28;01mNone\u001b[39;00m, \u001b[38;5;241m*\u001b[39m\u001b[38;5;241m*\u001b[39mkwargs):\n\u001b[1;32m-> 2790\u001b[0m     __ret \u001b[38;5;241m=\u001b[39m gca()\u001b[38;5;241m.\u001b[39mscatter(\n\u001b[0;32m   2791\u001b[0m         x, y, s\u001b[38;5;241m=\u001b[39ms, c\u001b[38;5;241m=\u001b[39mc, marker\u001b[38;5;241m=\u001b[39mmarker, cmap\u001b[38;5;241m=\u001b[39mcmap, norm\u001b[38;5;241m=\u001b[39mnorm,\n\u001b[0;32m   2792\u001b[0m         vmin\u001b[38;5;241m=\u001b[39mvmin, vmax\u001b[38;5;241m=\u001b[39mvmax, alpha\u001b[38;5;241m=\u001b[39malpha, linewidths\u001b[38;5;241m=\u001b[39mlinewidths,\n\u001b[0;32m   2793\u001b[0m         edgecolors\u001b[38;5;241m=\u001b[39medgecolors, plotnonfinite\u001b[38;5;241m=\u001b[39mplotnonfinite,\n\u001b[0;32m   2794\u001b[0m         \u001b[38;5;241m*\u001b[39m\u001b[38;5;241m*\u001b[39m({\u001b[38;5;124m\"\u001b[39m\u001b[38;5;124mdata\u001b[39m\u001b[38;5;124m\"\u001b[39m: data} \u001b[38;5;28;01mif\u001b[39;00m data \u001b[38;5;129;01mis\u001b[39;00m \u001b[38;5;129;01mnot\u001b[39;00m \u001b[38;5;28;01mNone\u001b[39;00m \u001b[38;5;28;01melse\u001b[39;00m {}), \u001b[38;5;241m*\u001b[39m\u001b[38;5;241m*\u001b[39mkwargs)\n\u001b[0;32m   2795\u001b[0m     sci(__ret)\n\u001b[0;32m   2796\u001b[0m     \u001b[38;5;28;01mreturn\u001b[39;00m __ret\n",
      "File \u001b[1;32m~\\anaconda3\\envs\\deeplearning\\lib\\site-packages\\matplotlib\\__init__.py:1423\u001b[0m, in \u001b[0;36m_preprocess_data.<locals>.inner\u001b[1;34m(ax, data, *args, **kwargs)\u001b[0m\n\u001b[0;32m   1420\u001b[0m \u001b[38;5;129m@functools\u001b[39m\u001b[38;5;241m.\u001b[39mwraps(func)\n\u001b[0;32m   1421\u001b[0m \u001b[38;5;28;01mdef\u001b[39;00m \u001b[38;5;21minner\u001b[39m(ax, \u001b[38;5;241m*\u001b[39margs, data\u001b[38;5;241m=\u001b[39m\u001b[38;5;28;01mNone\u001b[39;00m, \u001b[38;5;241m*\u001b[39m\u001b[38;5;241m*\u001b[39mkwargs):\n\u001b[0;32m   1422\u001b[0m     \u001b[38;5;28;01mif\u001b[39;00m data \u001b[38;5;129;01mis\u001b[39;00m \u001b[38;5;28;01mNone\u001b[39;00m:\n\u001b[1;32m-> 1423\u001b[0m         \u001b[38;5;28;01mreturn\u001b[39;00m func(ax, \u001b[38;5;241m*\u001b[39m\u001b[38;5;28mmap\u001b[39m(sanitize_sequence, args), \u001b[38;5;241m*\u001b[39m\u001b[38;5;241m*\u001b[39mkwargs)\n\u001b[0;32m   1425\u001b[0m     bound \u001b[38;5;241m=\u001b[39m new_sig\u001b[38;5;241m.\u001b[39mbind(ax, \u001b[38;5;241m*\u001b[39margs, \u001b[38;5;241m*\u001b[39m\u001b[38;5;241m*\u001b[39mkwargs)\n\u001b[0;32m   1426\u001b[0m     auto_label \u001b[38;5;241m=\u001b[39m (bound\u001b[38;5;241m.\u001b[39marguments\u001b[38;5;241m.\u001b[39mget(label_namer)\n\u001b[0;32m   1427\u001b[0m                   \u001b[38;5;129;01mor\u001b[39;00m bound\u001b[38;5;241m.\u001b[39mkwargs\u001b[38;5;241m.\u001b[39mget(label_namer))\n",
      "File \u001b[1;32m~\\anaconda3\\envs\\deeplearning\\lib\\site-packages\\matplotlib\\axes\\_axes.py:4520\u001b[0m, in \u001b[0;36mAxes.scatter\u001b[1;34m(self, x, y, s, c, marker, cmap, norm, vmin, vmax, alpha, linewidths, edgecolors, plotnonfinite, **kwargs)\u001b[0m\n\u001b[0;32m   4518\u001b[0m y \u001b[38;5;241m=\u001b[39m np\u001b[38;5;241m.\u001b[39mma\u001b[38;5;241m.\u001b[39mravel(y)\n\u001b[0;32m   4519\u001b[0m \u001b[38;5;28;01mif\u001b[39;00m x\u001b[38;5;241m.\u001b[39msize \u001b[38;5;241m!=\u001b[39m y\u001b[38;5;241m.\u001b[39msize:\n\u001b[1;32m-> 4520\u001b[0m     \u001b[38;5;28;01mraise\u001b[39;00m \u001b[38;5;167;01mValueError\u001b[39;00m(\u001b[38;5;124m\"\u001b[39m\u001b[38;5;124mx and y must be the same size\u001b[39m\u001b[38;5;124m\"\u001b[39m)\n\u001b[0;32m   4522\u001b[0m \u001b[38;5;28;01mif\u001b[39;00m s \u001b[38;5;129;01mis\u001b[39;00m \u001b[38;5;28;01mNone\u001b[39;00m:\n\u001b[0;32m   4523\u001b[0m     s \u001b[38;5;241m=\u001b[39m (\u001b[38;5;241m20\u001b[39m \u001b[38;5;28;01mif\u001b[39;00m mpl\u001b[38;5;241m.\u001b[39mrcParams[\u001b[38;5;124m'\u001b[39m\u001b[38;5;124m_internal.classic_mode\u001b[39m\u001b[38;5;124m'\u001b[39m] \u001b[38;5;28;01melse\u001b[39;00m\n\u001b[0;32m   4524\u001b[0m          mpl\u001b[38;5;241m.\u001b[39mrcParams[\u001b[38;5;124m'\u001b[39m\u001b[38;5;124mlines.markersize\u001b[39m\u001b[38;5;124m'\u001b[39m] \u001b[38;5;241m*\u001b[39m\u001b[38;5;241m*\u001b[39m \u001b[38;5;241m2.0\u001b[39m)\n",
      "\u001b[1;31mValueError\u001b[0m: x and y must be the same size"
     ]
    },
    {
     "data": {
      "image/png": "[encoded data removed]",
      "text/plain": [
       "<Figure size 640x480 with 1 Axes>"
      ]
     },
     "metadata": {},
     "output_type": "display_data"
    }
   ],
   "source": [
    "# plot TL value\n",
    "x = [img_idx for img_idx in range(1, len(TL_value)+1)]\n",
    "predicted_tl = [item[0] for item in TL_value]\n",
    "true_tl = [item[1] for item in TL_value]\n",
    "\n",
    "plt.scatter(x, predicted_tl, label='predicted TL', color='#fc0505', s=5)\n",
    "plt.plot(x, true_tl, label='true TL', color='#05fc4f')\n",
    "plt.xlabel('Test Image ID')\n",
    "plt.ylabel('TL angle')\n",
    "plt.title('TL angle vs Test Image ID')\n",
    "plt.legend()\n",
    "plt.show()"
   ]
  },
  {
   "cell_type": "code",
   "execution_count": null,
   "id": "4aa753e1-b669-4a7f-9b86-59de8439b937",
   "metadata": {},
   "outputs": [],
   "source": []
  }
 ],
 "metadata": {
  "kernelspec": {
   "display_name": "Python 3 (ipykernel)",
   "language": "python",
   "name": "python3"
  },
  "language_info": {
   "codemirror_mode": {
    "name": "ipython",
    "version": 3
   },
   "file_extension": ".py",
   "mimetype": "text/x-python",
   "name": "python",
   "nbconvert_exporter": "python",
   "pygments_lexer": "ipython3",
   "version": "3.10.8"
  }
 },
 "nbformat": 4,
 "nbformat_minor": 5
}
