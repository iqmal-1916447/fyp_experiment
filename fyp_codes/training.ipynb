{
 "cells": [
  {
   "cell_type": "code",
   "execution_count": null,
   "id": "69bd0b59-9c9e-412c-b0db-ad8de94d9658",
   "metadata": {},
   "outputs": [],
   "source": [
    "import torch\n",
    "from torch.utils.data import Dataset\n",
    "from PIL import Image"
   ]
  },
  {
   "cell_type": "code",
   "execution_count": null,
   "id": "2e2fb030-509e-4ad9-803d-0fe29576c207",
   "metadata": {},
   "outputs": [],
   "source": [
    "class CustomDataset(Dataset):\n",
    "    # the dictionary will be: -\n",
    "    #     key -> image path\n",
    "    #     value -> regression values\n",
    "    \n",
    "    def __init__(self, image_dict, transform=None):\n",
    "        self.image_dict = image_dict\n",
    "        self.image_paths = list(image_dict.keys()) # add keys in array\n",
    "        self.transform = transform\n",
    "        \n",
    "    def __getitem__(self, index):\n",
    "        image_path = self.image_paths[index]\n",
    "        regression_values = self.image_dict[image_path]\n",
    "        \n",
    "        image = Image.open(image_path).convert('L')\n",
    "        \n",
    "        if self.transform is not None:\n",
    "            image = self.transform(image)\n",
    "        \n",
    "        return image, regression_values\n",
    "    \n",
    "    def __len__(self):\n",
    "        return len(self.image_paths)"
   ]
  },
  {
   "cell_type": "code",
   "execution_count": null,
   "id": "f3d6cc4c-a8a2-4eec-ad49-bd1a14ce1157",
   "metadata": {},
   "outputs": [],
   "source": [
    "import pandas as pd\n",
    "import os"
   ]
  },
  {
   "cell_type": "code",
   "execution_count": null,
   "id": "2605cec2-68f6-4ea0-9dd8-2e53b6b04820",
   "metadata": {},
   "outputs": [],
   "source": [
    "data = pd.read_csv('C:\\\\Users\\\\iqmal_pc\\\\Desktop\\\\fyp_experiment\\\\angles_ap_labelled.csv')\n",
    "data"
   ]
  },
  {
   "cell_type": "code",
   "execution_count": null,
   "id": "fe6f3bbc-aa0c-4482-97af-8931742ed9be",
   "metadata": {},
   "outputs": [],
   "source": [
    "# get train image list and its path\n",
    "image_path = 'C:\\\\Users\\\\iqmal_pc\\\\Desktop\\\\fyp_experiment\\\\sobel_img_data\\\\train\\\\'\n",
    "images_jpg = data['image_train'].values.tolist()\n",
    "\n",
    "# append filepath\n",
    "for i in range(len(images_jpg)):\n",
    "    images_jpg[i] = image_path + images_jpg[i]\n"
   ]
  },
  {
   "cell_type": "code",
   "execution_count": null,
   "id": "51bf6528-6ac4-4802-9032-f325e1d99924",
   "metadata": {},
   "outputs": [],
   "source": [
    "image_dict = {}\n",
    "for i in range(len(images_jpg)):\n",
    "    image_dict[images_jpg[i]] = torch.tensor([data.loc[i, 'PT'], data.loc[i, 'MT'], data.loc[i, 'TL/L']], dtype=torch.float32)\n",
    "    "
   ]
  },
  {
   "cell_type": "code",
   "execution_count": null,
   "id": "dc94947d-dd09-4cac-86b8-fb187d4e2b92",
   "metadata": {},
   "outputs": [],
   "source": [
    "import torch.nn as nn\n",
    "import torch.optim as optim\n",
    "from torch.utils.data import DataLoader\n",
    "import torchvision.transforms as transforms"
   ]
  },
  {
   "cell_type": "code",
   "execution_count": null,
   "id": "cd6395e5-c69d-4925-8222-7b8cebb02f6d",
   "metadata": {},
   "outputs": [],
   "source": [
    "# neural network arch\n",
    "\n",
    "class My_Regression_Model(nn.Module):\n",
    "    def __init__(self, num_channel):\n",
    "        super().__init__()\n",
    "        \n",
    "        # initialize 1st conv=>relu=>pool\n",
    "        self.conv1 = nn.Conv2d(in_channels=num_channel, out_channels=50, kernel_size=(100,100))\n",
    "        self.relu1 = nn.ReLU()\n",
    "        self.maxpool1 = nn.MaxPool2d(kernel_size=(2,2), stride=(2,2))\n",
    "        \n",
    "        # initialize 2nd conv=>relu=>pool\n",
    "        self.conv2 = nn.Conv2d(in_channels=50, out_channels=1, kernel_size=(15,15))\n",
    "        self.relu2 = nn.ReLU()\n",
    "        self.maxpool2 = nn.MaxPool2d(kernel_size=(2,2), stride=(2,2))\n",
    "        \n",
    "        # initialize 1st fc=>relu\n",
    "        self.fc1 = nn.Linear(in_features=1*32*32, out_features=300)\n",
    "        self.relu3 = nn.ReLU()\n",
    "        \n",
    "        # final fc\n",
    "        self.fc2 = nn.Linear(in_features=300, out_features=3)\n",
    "        \n",
    "    def forward(self, x): # c, h, w\n",
    "        x = self.conv1(x) # in -> (1, 255, 255) | out -> (50, 156, 156)\n",
    "        x = self.relu1(x) \n",
    "        x = self.maxpool1(x) # in -> (50, 156, 156) | out -> (50, 78, 78)\n",
    "        \n",
    "        x = self.conv2(x) # in -> (50, 78, 78) | out -> (1, 64, 64)\n",
    "        x = self.relu2(x) \n",
    "        x = self.maxpool2(x) # in -> (1, 64, 64) | out -> (1, 32, 32)\n",
    "        \n",
    "        # flatten\n",
    "        x = torch.flatten(x,1)\n",
    "        \n",
    "        # fc1\n",
    "        x = self.fc1(x)\n",
    "        x = self.relu3(x)\n",
    "        \n",
    "        # fc2\n",
    "        output = self.fc2(x)\n",
    "        return output"
   ]
  },
  {
   "cell_type": "code",
   "execution_count": null,
   "id": "416611b6-34db-42bf-b8ce-fa2c631944f2",
   "metadata": {},
   "outputs": [],
   "source": [
    "# Define the input channels\n",
    "input_channels = 1  # Assuming L images\n",
    "\n",
    "# Define the transformation to apply to the images\n",
    "transform = transforms.Compose([\n",
    "    transforms.Resize((255, 255)),\n",
    "    transforms.ToTensor(),\n",
    "    transforms.Lambda(lambda x: x.type(torch.float32))\n",
    "])"
   ]
  },
  {
   "cell_type": "code",
   "execution_count": null,
   "id": "44a000f5-bd92-4275-86e9-dae6862193fb",
   "metadata": {},
   "outputs": [],
   "source": [
    "# Create an instance of the custom dataset\n",
    "dataset = CustomDataset(image_dict, transform=transform)"
   ]
  },
  {
   "cell_type": "code",
   "execution_count": null,
   "id": "c6719162-8a6f-4758-826c-e7dc1a4f2ee8",
   "metadata": {},
   "outputs": [],
   "source": [
    "image_num = 146\n",
    "daImg, regress_val = dataset.__getitem__(image_num)\n",
    "daImg = daImg.squeeze()\n",
    "print(daImg)\n",
    "print('Img ' + str(image_num), daImg.shape)\n",
    "import matplotlib.pyplot as plt\n",
    "plt.imshow(daImg, cmap='gray')\n",
    "print('Img ' + str(image_num) + ' regress_val', regress_val)"
   ]
  },
  {
   "cell_type": "code",
   "execution_count": null,
   "id": "20302693-0347-42af-986c-e276bd522caa",
   "metadata": {},
   "outputs": [],
   "source": [
    "data.loc[image_num]"
   ]
  },
  {
   "cell_type": "code",
   "execution_count": null,
   "id": "f1bdf3e3-92cd-4e7c-9f16-6f8021997d25",
   "metadata": {},
   "outputs": [],
   "source": [
    "# Create a data loader for batching and shuffling the data\n",
    "data_loader = DataLoader(dataset, batch_size=37, shuffle=True)"
   ]
  },
  {
   "cell_type": "code",
   "execution_count": null,
   "id": "19d3214b-ad52-4b39-af59-c42e45059fb4",
   "metadata": {},
   "outputs": [],
   "source": [
    "# Create an instance of the regression model\n",
    "model = My_Regression_Model(input_channels)"
   ]
  },
  {
   "cell_type": "code",
   "execution_count": null,
   "id": "5b5faf47-459e-473f-a58d-49c88011b6ac",
   "metadata": {},
   "outputs": [],
   "source": [
    "# Move the model to CUDA if available\n",
    "device = torch.device(\"cuda\" if torch.cuda.is_available() else \"cpu\")\n",
    "model.to(device)"
   ]
  },
  {
   "cell_type": "code",
   "execution_count": null,
   "id": "3a149016-65d2-48e7-98fd-ae09d249ad96",
   "metadata": {},
   "outputs": [],
   "source": [
    "# import matplotlib.pyplot as plt\n",
    "\n",
    "# for idx, (batch_data, batch_targets) in enumerate(data_loader):\n",
    "#     if idx == 0: # only for 1st batch out of 13 batches\n",
    "#         for i in range(batch_data.shape[0]):\n",
    "#             print('image ' + str(i))\n",
    "#             print(batch_data[i])\n",
    "#             print('SHAPE BATCH DATA', batch_data[i].shape)\n",
    "#             print('DATATYPE BATCH DATA', batch_data.dtype)\n",
    "    \n",
    "#             # convert to image\n",
    "#             image_arr = batch_data[i].numpy()\n",
    "#             image_arr = image_arr.squeeze()\n",
    "#             image_arr = image_arr.astype('uint8')\n",
    "#             plt.imshow(image_arr, cmap='gray')\n",
    "#             plt.show()\n",
    "    \n",
    "#             print(batch_targets[i])\n",
    "#             print('SHAPE BATCH TARGET', batch_targets[i].shape)\n",
    "#             print('DATATYPE BATCH TARGET', batch_targets[i].dtype)\n",
    "#             print('----------------------------------------------------------------')"
   ]
  },
  {
   "cell_type": "code",
   "execution_count": null,
   "id": "37d80a66-402c-4433-9790-32e40332e149",
   "metadata": {},
   "outputs": [],
   "source": [
    "# Define the loss function\n",
    "criterion = nn.MSELoss()\n",
    "\n",
    "# Define the optimizer\n",
    "optimizer = optim.Adam(model.parameters(), lr=0.001)\n",
    "\n",
    "# Train the model\n",
    "number_of_batches = len(data_loader)\n",
    "num_epochs = 200\n",
    "for epoch in range(num_epochs):\n",
    "    # training phase\n",
    "    batch_num = 0\n",
    "    total_loss_in_epoch = 0\n",
    "    model.train()\n",
    "    for images, targets in data_loader:\n",
    "        images = images.to(device)\n",
    "        targets = targets.to(device)\n",
    "        optimizer.zero_grad()\n",
    "        outputs = model(images)\n",
    "        loss = criterion(outputs, targets)\n",
    "        loss.backward()\n",
    "        optimizer.step()\n",
    "        batch_num += 1\n",
    "        total_loss_in_epoch += loss.item()\n",
    "        # print(f\"Batch: {batch_num}, Loss: {loss.item()}\")\n",
    "        \n",
    "    # validation phase\n",
    "    model.eval() # to stop all parameter adjustment\n",
    "    val_loss = 0.0\n",
    "    with torch.no_grad():\n",
    "        for\n",
    "\n",
    "    # Print the loss for every epoch\n",
    "    print(f\"Epoch: {epoch+1}, Loss: {total_loss_in_epoch/number_of_batches}\")\n",
    "    print('--------------------------------------------------')"
   ]
  },
  {
   "cell_type": "code",
   "execution_count": null,
   "id": "92418902-610b-4dae-82ae-0ef1645c3244",
   "metadata": {},
   "outputs": [],
   "source": [
    "# Make predictions on new data\n",
    "new_image = Image.open('path_to_new_image.jpg').convert('L')\n",
    "new_image_tensor = transform(new_image).unsqueeze(0).to(device)\n",
    "predicted_values = model(new_image_tensor).squeeze().tolist()\n",
    "print(\"Predicted values:\", predicted_values)"
   ]
  }
 ],
 "metadata": {
  "kernelspec": {
   "display_name": "Python 3 (ipykernel)",
   "language": "python",
   "name": "python3"
  },
  "language_info": {
   "codemirror_mode": {
    "name": "ipython",
    "version": 3
   },
   "file_extension": ".py",
   "mimetype": "text/x-python",
   "name": "python",
   "nbconvert_exporter": "python",
   "pygments_lexer": "ipython3",
   "version": "3.10.8"
  }
 },
 "nbformat": 4,
 "nbformat_minor": 5
}
