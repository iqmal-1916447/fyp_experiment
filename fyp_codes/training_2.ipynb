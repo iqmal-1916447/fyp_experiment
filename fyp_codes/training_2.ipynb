{
 "cells": [
  {
   "cell_type": "markdown",
   "id": "0b172caa-2458-43b6-9c5b-0f4e7c1220c6",
   "metadata": {
    "tags": []
   },
   "source": [
    "#### Import training and test dataset from .csv"
   ]
  },
  {
   "cell_type": "code",
   "execution_count": 1,
   "id": "6a4953bf-5d45-4550-be48-0759c5c8ba5b",
   "metadata": {},
   "outputs": [],
   "source": [
    "import pandas as pd\n",
    "import torch\n",
    "import time"
   ]
  },
  {
   "cell_type": "code",
   "execution_count": 2,
   "id": "b267fbab-5905-408d-85ac-33c4ab50e3c5",
   "metadata": {},
   "outputs": [
    {
     "data": {
      "text/html": [
       "<div>\n",
       "<style scoped>\n",
       "    .dataframe tbody tr th:only-of-type {\n",
       "        vertical-align: middle;\n",
       "    }\n",
       "\n",
       "    .dataframe tbody tr th {\n",
       "        vertical-align: top;\n",
       "    }\n",
       "\n",
       "    .dataframe thead th {\n",
       "        text-align: right;\n",
       "    }\n",
       "</style>\n",
       "<table border=\"1\" class=\"dataframe\">\n",
       "  <thead>\n",
       "    <tr style=\"text-align: right;\">\n",
       "      <th></th>\n",
       "      <th>PT</th>\n",
       "      <th>MT</th>\n",
       "      <th>TL/L</th>\n",
       "      <th>image_training_file</th>\n",
       "      <th>cobb_angle_training_file</th>\n",
       "    </tr>\n",
       "  </thead>\n",
       "  <tbody>\n",
       "    <tr>\n",
       "      <th>0</th>\n",
       "      <td>6.2069</td>\n",
       "      <td>0.00000</td>\n",
       "      <td>1.261400</td>\n",
       "      <td>sunhl-1th-02-Jan-2017-162 A AP.jpg</td>\n",
       "      <td>sunhl-1th-02-Jan-2017-162 A AP.jpg.mat</td>\n",
       "    </tr>\n",
       "    <tr>\n",
       "      <th>1</th>\n",
       "      <td>23.8107</td>\n",
       "      <td>0.00000</td>\n",
       "      <td>0.851886</td>\n",
       "      <td>sunhl-1th-02-Jan-2017-162 B AP.jpg</td>\n",
       "      <td>sunhl-1th-02-Jan-2017-162 B AP.jpg.mat</td>\n",
       "    </tr>\n",
       "    <tr>\n",
       "      <th>2</th>\n",
       "      <td>21.1172</td>\n",
       "      <td>0.00000</td>\n",
       "      <td>0.000000</td>\n",
       "      <td>sunhl-1th-03-Jan-2017-163 A AP.jpg</td>\n",
       "      <td>sunhl-1th-03-Jan-2017-163 A AP.jpg.mat</td>\n",
       "    </tr>\n",
       "    <tr>\n",
       "      <th>3</th>\n",
       "      <td>10.8144</td>\n",
       "      <td>8.60388</td>\n",
       "      <td>0.000000</td>\n",
       "      <td>sunhl-1th-03-Jan-2017-163 B AP.jpg</td>\n",
       "      <td>sunhl-1th-03-Jan-2017-163 B AP.jpg.mat</td>\n",
       "    </tr>\n",
       "    <tr>\n",
       "      <th>4</th>\n",
       "      <td>18.1538</td>\n",
       "      <td>0.00000</td>\n",
       "      <td>1.748480</td>\n",
       "      <td>sunhl-1th-03-Jan-2017-164 A AP.jpg</td>\n",
       "      <td>sunhl-1th-03-Jan-2017-164 A AP.jpg.mat</td>\n",
       "    </tr>\n",
       "    <tr>\n",
       "      <th>...</th>\n",
       "      <td>...</td>\n",
       "      <td>...</td>\n",
       "      <td>...</td>\n",
       "      <td>...</td>\n",
       "      <td>...</td>\n",
       "    </tr>\n",
       "    <tr>\n",
       "      <th>476</th>\n",
       "      <td>12.5325</td>\n",
       "      <td>0.00000</td>\n",
       "      <td>11.484000</td>\n",
       "      <td>sunhl-1th-30-Dec-2016-159 A AP2.jpg</td>\n",
       "      <td>sunhl-1th-30-Dec-2016-159 A AP2.jpg.mat</td>\n",
       "    </tr>\n",
       "    <tr>\n",
       "      <th>477</th>\n",
       "      <td>11.0118</td>\n",
       "      <td>10.37890</td>\n",
       "      <td>0.000000</td>\n",
       "      <td>sunhl-1th-30-Dec-2016-159 B AP.jpg</td>\n",
       "      <td>sunhl-1th-30-Dec-2016-159 B AP.jpg.mat</td>\n",
       "    </tr>\n",
       "    <tr>\n",
       "      <th>478</th>\n",
       "      <td>5.6424</td>\n",
       "      <td>3.95370</td>\n",
       "      <td>2.821400</td>\n",
       "      <td>sunhl-1th-30-Dec-2016-159 C AP.jpg</td>\n",
       "      <td>sunhl-1th-30-Dec-2016-159 C AP.jpg.mat</td>\n",
       "    </tr>\n",
       "    <tr>\n",
       "      <th>479</th>\n",
       "      <td>16.3437</td>\n",
       "      <td>0.00000</td>\n",
       "      <td>0.000000</td>\n",
       "      <td>sunhl-1th-30-Dec-2016-160 A AP.jpg</td>\n",
       "      <td>sunhl-1th-30-Dec-2016-160 A AP.jpg.mat</td>\n",
       "    </tr>\n",
       "    <tr>\n",
       "      <th>480</th>\n",
       "      <td>13.6437</td>\n",
       "      <td>0.00000</td>\n",
       "      <td>6.947430</td>\n",
       "      <td>sunhl-1th-30-Dec-2016-161 A AP.jpg</td>\n",
       "      <td>sunhl-1th-30-Dec-2016-161 A AP.jpg.mat</td>\n",
       "    </tr>\n",
       "  </tbody>\n",
       "</table>\n",
       "<p>481 rows × 5 columns</p>\n",
       "</div>"
      ],
      "text/plain": [
       "          PT        MT       TL/L                  image_training_file  \\\n",
       "0     6.2069   0.00000   1.261400   sunhl-1th-02-Jan-2017-162 A AP.jpg   \n",
       "1    23.8107   0.00000   0.851886   sunhl-1th-02-Jan-2017-162 B AP.jpg   \n",
       "2    21.1172   0.00000   0.000000   sunhl-1th-03-Jan-2017-163 A AP.jpg   \n",
       "3    10.8144   8.60388   0.000000   sunhl-1th-03-Jan-2017-163 B AP.jpg   \n",
       "4    18.1538   0.00000   1.748480   sunhl-1th-03-Jan-2017-164 A AP.jpg   \n",
       "..       ...       ...        ...                                  ...   \n",
       "476  12.5325   0.00000  11.484000  sunhl-1th-30-Dec-2016-159 A AP2.jpg   \n",
       "477  11.0118  10.37890   0.000000   sunhl-1th-30-Dec-2016-159 B AP.jpg   \n",
       "478   5.6424   3.95370   2.821400   sunhl-1th-30-Dec-2016-159 C AP.jpg   \n",
       "479  16.3437   0.00000   0.000000   sunhl-1th-30-Dec-2016-160 A AP.jpg   \n",
       "480  13.6437   0.00000   6.947430   sunhl-1th-30-Dec-2016-161 A AP.jpg   \n",
       "\n",
       "                    cobb_angle_training_file  \n",
       "0     sunhl-1th-02-Jan-2017-162 A AP.jpg.mat  \n",
       "1     sunhl-1th-02-Jan-2017-162 B AP.jpg.mat  \n",
       "2     sunhl-1th-03-Jan-2017-163 A AP.jpg.mat  \n",
       "3     sunhl-1th-03-Jan-2017-163 B AP.jpg.mat  \n",
       "4     sunhl-1th-03-Jan-2017-164 A AP.jpg.mat  \n",
       "..                                       ...  \n",
       "476  sunhl-1th-30-Dec-2016-159 A AP2.jpg.mat  \n",
       "477   sunhl-1th-30-Dec-2016-159 B AP.jpg.mat  \n",
       "478   sunhl-1th-30-Dec-2016-159 C AP.jpg.mat  \n",
       "479   sunhl-1th-30-Dec-2016-160 A AP.jpg.mat  \n",
       "480   sunhl-1th-30-Dec-2016-161 A AP.jpg.mat  \n",
       "\n",
       "[481 rows x 5 columns]"
      ]
     },
     "execution_count": 2,
     "metadata": {},
     "output_type": "execute_result"
    }
   ],
   "source": [
    "# Load training data\n",
    "dataset_training_csv_path = 'C:\\\\Users\\\\iqmal_pc\\\\Desktop\\\\fyp_experiment\\\\training_dataset\\\\angles_ap_labelled_training.csv'\n",
    "dataset_training_csv = pd.read_csv(dataset_training_csv_path)\n",
    "dataset_training_csv"
   ]
  },
  {
   "cell_type": "code",
   "execution_count": 3,
   "id": "54ec8339-913d-4b70-8005-fddd2538c144",
   "metadata": {},
   "outputs": [
    {
     "data": {
      "text/html": [
       "<div>\n",
       "<style scoped>\n",
       "    .dataframe tbody tr th:only-of-type {\n",
       "        vertical-align: middle;\n",
       "    }\n",
       "\n",
       "    .dataframe tbody tr th {\n",
       "        vertical-align: top;\n",
       "    }\n",
       "\n",
       "    .dataframe thead th {\n",
       "        text-align: right;\n",
       "    }\n",
       "</style>\n",
       "<table border=\"1\" class=\"dataframe\">\n",
       "  <thead>\n",
       "    <tr style=\"text-align: right;\">\n",
       "      <th></th>\n",
       "      <th>PT</th>\n",
       "      <th>MT</th>\n",
       "      <th>TL/L</th>\n",
       "      <th>image_test_file</th>\n",
       "      <th>cobb_angle_test_file</th>\n",
       "    </tr>\n",
       "  </thead>\n",
       "  <tbody>\n",
       "    <tr>\n",
       "      <th>0</th>\n",
       "      <td>12.5578</td>\n",
       "      <td>0.00000</td>\n",
       "      <td>0.938543</td>\n",
       "      <td>sunhl-1th-01-Mar-2017-310 C AP.jpg</td>\n",
       "      <td>sunhl-1th-01-Mar-2017-310 C AP.jpg.mat</td>\n",
       "    </tr>\n",
       "    <tr>\n",
       "      <th>1</th>\n",
       "      <td>7.4942</td>\n",
       "      <td>1.00940</td>\n",
       "      <td>0.000000</td>\n",
       "      <td>sunhl-1th-01-Mar-2017-310 a ap.jpg</td>\n",
       "      <td>sunhl-1th-01-Mar-2017-310 a ap.jpg.mat</td>\n",
       "    </tr>\n",
       "    <tr>\n",
       "      <th>2</th>\n",
       "      <td>14.0048</td>\n",
       "      <td>0.00000</td>\n",
       "      <td>0.501069</td>\n",
       "      <td>sunhl-1th-01-Mar-2017-311 A AP.jpg</td>\n",
       "      <td>sunhl-1th-01-Mar-2017-311 A AP.jpg.mat</td>\n",
       "    </tr>\n",
       "    <tr>\n",
       "      <th>3</th>\n",
       "      <td>13.3802</td>\n",
       "      <td>0.00000</td>\n",
       "      <td>1.422200</td>\n",
       "      <td>sunhl-1th-01-Mar-2017-311 C AP.jpg</td>\n",
       "      <td>sunhl-1th-01-Mar-2017-311 C AP.jpg.mat</td>\n",
       "    </tr>\n",
       "    <tr>\n",
       "      <th>4</th>\n",
       "      <td>16.1798</td>\n",
       "      <td>1.23238</td>\n",
       "      <td>0.000000</td>\n",
       "      <td>sunhl-1th-01-Mar-2017-311 D AP.jpg</td>\n",
       "      <td>sunhl-1th-01-Mar-2017-311 D AP.jpg.mat</td>\n",
       "    </tr>\n",
       "    <tr>\n",
       "      <th>...</th>\n",
       "      <td>...</td>\n",
       "      <td>...</td>\n",
       "      <td>...</td>\n",
       "      <td>...</td>\n",
       "      <td>...</td>\n",
       "    </tr>\n",
       "    <tr>\n",
       "      <th>123</th>\n",
       "      <td>7.8933</td>\n",
       "      <td>0.00000</td>\n",
       "      <td>1.726000</td>\n",
       "      <td>sunhl-1th-28-Feb-2017-307 B AP.jpg</td>\n",
       "      <td>sunhl-1th-28-Feb-2017-307 B AP.jpg.mat</td>\n",
       "    </tr>\n",
       "    <tr>\n",
       "      <th>124</th>\n",
       "      <td>22.5108</td>\n",
       "      <td>0.00000</td>\n",
       "      <td>14.726900</td>\n",
       "      <td>sunhl-1th-28-Feb-2017-308 A AP.jpg</td>\n",
       "      <td>sunhl-1th-28-Feb-2017-308 A AP.jpg.mat</td>\n",
       "    </tr>\n",
       "    <tr>\n",
       "      <th>125</th>\n",
       "      <td>9.3330</td>\n",
       "      <td>0.73155</td>\n",
       "      <td>6.376700</td>\n",
       "      <td>sunhl-1th-28-Feb-2017-309 A AP.jpg</td>\n",
       "      <td>sunhl-1th-28-Feb-2017-309 A AP.jpg.mat</td>\n",
       "    </tr>\n",
       "    <tr>\n",
       "      <th>126</th>\n",
       "      <td>17.5526</td>\n",
       "      <td>8.90332</td>\n",
       "      <td>1.856840</td>\n",
       "      <td>sunhl-1th-28-Feb-2017-309 B AP.jpg</td>\n",
       "      <td>sunhl-1th-28-Feb-2017-309 B AP.jpg.mat</td>\n",
       "    </tr>\n",
       "    <tr>\n",
       "      <th>127</th>\n",
       "      <td>14.7518</td>\n",
       "      <td>0.00000</td>\n",
       "      <td>5.070970</td>\n",
       "      <td>sunhl-1th-28-Feb-2017-310 B AP.jpg</td>\n",
       "      <td>sunhl-1th-28-Feb-2017-310 B AP.jpg.mat</td>\n",
       "    </tr>\n",
       "  </tbody>\n",
       "</table>\n",
       "<p>128 rows × 5 columns</p>\n",
       "</div>"
      ],
      "text/plain": [
       "          PT       MT       TL/L                     image_test_file  \\\n",
       "0    12.5578  0.00000   0.938543  sunhl-1th-01-Mar-2017-310 C AP.jpg   \n",
       "1     7.4942  1.00940   0.000000  sunhl-1th-01-Mar-2017-310 a ap.jpg   \n",
       "2    14.0048  0.00000   0.501069  sunhl-1th-01-Mar-2017-311 A AP.jpg   \n",
       "3    13.3802  0.00000   1.422200  sunhl-1th-01-Mar-2017-311 C AP.jpg   \n",
       "4    16.1798  1.23238   0.000000  sunhl-1th-01-Mar-2017-311 D AP.jpg   \n",
       "..       ...      ...        ...                                 ...   \n",
       "123   7.8933  0.00000   1.726000  sunhl-1th-28-Feb-2017-307 B AP.jpg   \n",
       "124  22.5108  0.00000  14.726900  sunhl-1th-28-Feb-2017-308 A AP.jpg   \n",
       "125   9.3330  0.73155   6.376700  sunhl-1th-28-Feb-2017-309 A AP.jpg   \n",
       "126  17.5526  8.90332   1.856840  sunhl-1th-28-Feb-2017-309 B AP.jpg   \n",
       "127  14.7518  0.00000   5.070970  sunhl-1th-28-Feb-2017-310 B AP.jpg   \n",
       "\n",
       "                       cobb_angle_test_file  \n",
       "0    sunhl-1th-01-Mar-2017-310 C AP.jpg.mat  \n",
       "1    sunhl-1th-01-Mar-2017-310 a ap.jpg.mat  \n",
       "2    sunhl-1th-01-Mar-2017-311 A AP.jpg.mat  \n",
       "3    sunhl-1th-01-Mar-2017-311 C AP.jpg.mat  \n",
       "4    sunhl-1th-01-Mar-2017-311 D AP.jpg.mat  \n",
       "..                                      ...  \n",
       "123  sunhl-1th-28-Feb-2017-307 B AP.jpg.mat  \n",
       "124  sunhl-1th-28-Feb-2017-308 A AP.jpg.mat  \n",
       "125  sunhl-1th-28-Feb-2017-309 A AP.jpg.mat  \n",
       "126  sunhl-1th-28-Feb-2017-309 B AP.jpg.mat  \n",
       "127  sunhl-1th-28-Feb-2017-310 B AP.jpg.mat  \n",
       "\n",
       "[128 rows x 5 columns]"
      ]
     },
     "execution_count": 3,
     "metadata": {},
     "output_type": "execute_result"
    }
   ],
   "source": [
    "# Load test data\n",
    "dataset_test_csv_path = 'C:\\\\Users\\\\iqmal_pc\\\\Desktop\\\\fyp_experiment\\\\test_dataset\\\\angles_ap_labelled_test.csv'\n",
    "dataset_test_csv = pd.read_csv(dataset_test_csv_path)\n",
    "dataset_test_csv"
   ]
  },
  {
   "cell_type": "code",
   "execution_count": null,
   "id": "87edca24-a272-4a76-8c51-efbea2fba415",
   "metadata": {},
   "outputs": [],
   "source": [
    "# # check if image_training_file compatible with cobb_angle_training_file\n",
    "# image_test_file_list = dataset_test_csv['image_test_file'].values.tolist()\n",
    "# cobb_angle_test_file = dataset_test_csv['cobb_angle_test_file'].values.tolist()\n",
    "\n",
    "# for i in range(len(image_test_file_list)):\n",
    "#     cobb_angle_test_file[i] = cobb_angle_test_file[i][:-4]\n",
    "#     if cobb_angle_test_file[i] != image_test_file_list[i]:\n",
    "#         print('Incompatible file found')\n",
    "#     if i+1 == len(image_test_file_list):\n",
    "#         print('All files compatible and checked '+ str(i+1))\n"
   ]
  },
  {
   "cell_type": "code",
   "execution_count": null,
   "id": "53641b45-4aba-49f1-9007-b9b070582240",
   "metadata": {},
   "outputs": [],
   "source": [
    "# # check if image_test_file compatible with cobb_angle_test_file\n",
    "# image_training_file_list = dataset_training_csv['image_training_file'].values.tolist()\n",
    "# cobb_angle_training_file = dataset_training_csv['cobb_angle_training_file'].values.tolist()\n",
    "\n",
    "# for i in range(len(image_training_file_list)):\n",
    "#     cobb_angle_training_file[i] = cobb_angle_training_file[i][:-4]\n",
    "#     if cobb_angle_training_file[i] != image_training_file_list[i]:\n",
    "#         print('Incompatible file found')\n",
    "#     if i+1 == len(image_training_file_list):\n",
    "#         print('All files compatible and checked '+ str(i+1))\n"
   ]
  },
  {
   "cell_type": "markdown",
   "id": "1d873fcb-89d7-442c-9e6e-b159b37a784e",
   "metadata": {
    "tags": []
   },
   "source": [
    "#### Prepare dictionary for training image data and its Cobb angle"
   ]
  },
  {
   "cell_type": "code",
   "execution_count": 5,
   "id": "0d94437e-f661-4261-ab19-cc59a962fa16",
   "metadata": {},
   "outputs": [],
   "source": [
    "training_dataset_dict = {} # good approach to maintain image - target_angle relation\n",
    "\n",
    "# get train image list and its path\n",
    "training_image_path = 'C:\\\\Users\\\\iqmal_pc\\\\Desktop\\\\fyp_experiment\\\\training_dataset\\\\sobel_img_training_data\\\\'\n",
    "\n",
    "# get list of keys ie filepath\n",
    "training_image_filepath_key = dataset_training_csv['image_training_file'].values.tolist()\n",
    "\n",
    "# get list of values for dict\n",
    "training_cobb_angle_values = dataset_training_csv[['PT', 'MT', 'TL/L']].values\n",
    "\n",
    "# add to dictionary\n",
    "for i in range(len(training_image_filepath_key)):\n",
    "    training_dataset_dict[training_image_path + training_image_filepath_key[i]] = torch.tensor(training_cobb_angle_values[i], dtype=torch.float32)"
   ]
  },
  {
   "cell_type": "markdown",
   "id": "9169dcf0-f75a-4aa8-8535-c864e66587b1",
   "metadata": {},
   "source": [
    "#### Prepare dictionary for test image data and its Cobb angle"
   ]
  },
  {
   "cell_type": "code",
   "execution_count": 6,
   "id": "58b61850-f109-48c6-9a7f-0dbc19f4f789",
   "metadata": {},
   "outputs": [],
   "source": [
    "test_dataset_dict = {}\n",
    "test_image_path = 'C:\\\\Users\\\\iqmal_pc\\\\Desktop\\\\fyp_experiment\\\\test_dataset\\\\sobel_img_test_data\\\\'\n",
    "test_image_filepath_key = dataset_test_csv['image_test_file'].values.tolist()\n",
    "test_cobb_angle_values = dataset_test_csv[['PT', 'MT', 'TL/L']].values\n",
    "\n",
    "for i in range(len(test_image_filepath_key)):\n",
    "    test_dataset_dict[test_image_path + test_image_filepath_key[i]] = torch.tensor(test_cobb_angle_values[i], dtype=torch.float32)"
   ]
  },
  {
   "cell_type": "markdown",
   "id": "24a94c89-3f28-4ff1-b798-48f0b3611801",
   "metadata": {},
   "source": [
    "#### Perform training - validation splitting"
   ]
  },
  {
   "cell_type": "code",
   "execution_count": 7,
   "id": "723b95ea-17a2-4eed-8b52-06ae46388169",
   "metadata": {},
   "outputs": [],
   "source": [
    "from torch.utils.data import TensorDataset, DataLoader\n",
    "from sklearn.model_selection import train_test_split"
   ]
  },
  {
   "cell_type": "code",
   "execution_count": 8,
   "id": "4b6895cc-30df-42db-81b0-5543044d0ba5",
   "metadata": {},
   "outputs": [],
   "source": [
    "# transform to list before inputting into splitting function\n",
    "training_image_list = list(training_dataset_dict.keys())\n",
    "training_true_cobb_angle_list = list(training_dataset_dict.values())"
   ]
  },
  {
   "cell_type": "code",
   "execution_count": 9,
   "id": "1a9558eb-c9eb-4fb0-9ad0-6303e380a3b0",
   "metadata": {},
   "outputs": [],
   "source": [
    "# Split the lists into training and validation sets\n",
    "training_images, val_images, training_true_cobb_angle, val_true_cobb_angle = train_test_split(training_image_list, training_true_cobb_angle_list, test_size=0.2, random_state=42)"
   ]
  },
  {
   "cell_type": "code",
   "execution_count": 10,
   "id": "609e7987-919f-4296-8d06-129bf3834ab5",
   "metadata": {},
   "outputs": [],
   "source": [
    "# Create dictionaries again for training and validation sets\n",
    "training_input_dataset = {img: true_cobb_angle for img, true_cobb_angle in zip(training_images, training_true_cobb_angle)}\n",
    "val_input_dataset = {img: true_cobb_angle for img, true_cobb_angle in zip(val_images, val_true_cobb_angle)}"
   ]
  },
  {
   "cell_type": "markdown",
   "id": "6ba34f84-e0f4-468e-ad9f-9d9a8dfdc937",
   "metadata": {},
   "source": [
    "#### CustomDataset"
   ]
  },
  {
   "cell_type": "code",
   "execution_count": 11,
   "id": "46058bc5-f5bc-4682-9ee3-f2c1dd6a3e5a",
   "metadata": {},
   "outputs": [],
   "source": [
    "from torch.utils.data import DataLoader\n",
    "import torchvision.transforms as transforms\n",
    "import matplotlib.pyplot as plt\n",
    "from torch.utils.data import Dataset\n",
    "from PIL import Image\n"
   ]
  },
  {
   "cell_type": "code",
   "execution_count": 12,
   "id": "772ad5c4-aed4-4a26-ab1e-27e45ad297fe",
   "metadata": {},
   "outputs": [],
   "source": [
    "# create dictionary dataset where key is image path and value is PT, MT, TL/L values\n",
    "class CustomDataset(Dataset):\n",
    "    def __init__(self, data_dict, transform_image):\n",
    "        self.image_dict = data_dict\n",
    "        self.image_paths = list(data_dict.keys())\n",
    "        self.transform_image = transform_image\n",
    "        \n",
    "    def __getitem__(self, index):\n",
    "        image_path = self.image_paths[index] # image_path is the key\n",
    "        angles_value = self.image_dict[image_path]\n",
    "        \n",
    "        image = Image.open(image_path).convert('L')\n",
    "        \n",
    "        # transform image if required\n",
    "        if self.transform_image is not None:\n",
    "            image = self.transform_image(image)\n",
    "        \n",
    "        return image, image_path, angles_value\n",
    "    \n",
    "    def __len__(self):\n",
    "        return len(self.image_dict)"
   ]
  },
  {
   "cell_type": "code",
   "execution_count": 13,
   "id": "a3dd47ca-2046-476c-8b06-991f5af7c296",
   "metadata": {},
   "outputs": [],
   "source": [
    "transform_images = transforms.Compose([\n",
    "    transforms.Resize((255, 255)),\n",
    "    transforms.ToTensor(),\n",
    "    transforms.Lambda(lambda x: x.type(torch.float32))\n",
    "])"
   ]
  },
  {
   "cell_type": "code",
   "execution_count": 14,
   "id": "b49ffd00-ece3-4acb-bdfe-52ea0ed78c19",
   "metadata": {},
   "outputs": [],
   "source": [
    "transformed_training_dataset = CustomDataset(training_input_dataset, transform_images)\n",
    "transformed_validation_dataset = CustomDataset(val_input_dataset, transform_images)"
   ]
  },
  {
   "cell_type": "code",
   "execution_count": null,
   "id": "a2c8cb0d-70e7-461c-9564-175d5a287cc1",
   "metadata": {},
   "outputs": [],
   "source": [
    "# dataset = CustomDataset(dataset_dict, transform_images)"
   ]
  },
  {
   "cell_type": "code",
   "execution_count": null,
   "id": "1bf718d1-d6c4-43dc-9069-7b80c569be0b",
   "metadata": {},
   "outputs": [],
   "source": [
    "# import matplotlib.pyplot as plt\n",
    "\n",
    "# image, angles = dataset.__getitem__(10)\n",
    "# plt.imshow(image.squeeze(), cmap='gray')\n",
    "# print('Image shape ', image.shape)\n",
    "# print('Angles ', angles)\n",
    "# print('Angles shape ', angles.shape)"
   ]
  },
  {
   "cell_type": "code",
   "execution_count": null,
   "id": "0668838c-46c5-479b-853a-05287b535692",
   "metadata": {},
   "outputs": [],
   "source": [
    "# # Convert dictionary to separate lists for images and targets\n",
    "# images = list()\n",
    "# true_angles = list()\n",
    "\n",
    "# # zipped = zip(images, true_angles)\n",
    "# # for i in zipped:\n",
    "# #     print(i)"
   ]
  },
  {
   "cell_type": "code",
   "execution_count": null,
   "id": "c39d033c-e838-4662-aa53-793a67733d5f",
   "metadata": {},
   "outputs": [],
   "source": [
    "# image, image_name, angle = transformed_training_dataset.__getitem__(380)"
   ]
  },
  {
   "cell_type": "code",
   "execution_count": null,
   "id": "1e459eae-b9f2-416c-a4d1-22823179d659",
   "metadata": {},
   "outputs": [],
   "source": [
    "# import matplotlib.pyplot as plt\n",
    "\n",
    "# plt.imshow(image.squeeze(), cmap='gray')\n",
    "# print(angle)\n",
    "# print('Image name ', image_name)"
   ]
  },
  {
   "cell_type": "markdown",
   "id": "1d0262eb-ef63-4688-b3ad-6e5ea4201532",
   "metadata": {
    "tags": []
   },
   "source": [
    "#### Create training and validation dataloaders"
   ]
  },
  {
   "cell_type": "code",
   "execution_count": 15,
   "id": "c70e3910-a15d-4791-a7bc-b911aed993cb",
   "metadata": {},
   "outputs": [],
   "source": [
    "# Create a data loader for batching and shuffling the data\n",
    "# batch_size = 32\n",
    "\n",
    "training_loader = DataLoader(transformed_training_dataset, batch_size=32, shuffle=True)\n",
    "validation_loader =  DataLoader(transformed_validation_dataset, batch_size=1, shuffle=False)"
   ]
  },
  {
   "cell_type": "markdown",
   "id": "9db04b61-f810-4323-a23b-8b8cdc6c1ec7",
   "metadata": {
    "tags": []
   },
   "source": [
    "#### Deep Neural Network Architecture"
   ]
  },
  {
   "cell_type": "code",
   "execution_count": 26,
   "id": "4f21fb92-6dd0-4eaf-bc3a-df350c68768a",
   "metadata": {},
   "outputs": [],
   "source": [
    "import torch\n",
    "import torch.nn as nn\n",
    "import torch.optim as optim"
   ]
  },
  {
   "cell_type": "code",
   "execution_count": 2,
   "id": "df431765-ef7c-41cb-a400-52385c5a7271",
   "metadata": {},
   "outputs": [
    {
     "ename": "NameError",
     "evalue": "name 'nn' is not defined",
     "output_type": "error",
     "traceback": [
      "\u001b[1;31m---------------------------------------------------------------------------\u001b[0m",
      "\u001b[1;31mNameError\u001b[0m                                 Traceback (most recent call last)",
      "Cell \u001b[1;32mIn[2], line 4\u001b[0m\n\u001b[0;32m      1\u001b[0m \u001b[38;5;66;03m# Model architecture\u001b[39;00m\n\u001b[0;32m      2\u001b[0m \u001b[38;5;66;03m# neural network arch\u001b[39;00m\n\u001b[1;32m----> 4\u001b[0m \u001b[38;5;28;01mclass\u001b[39;00m \u001b[38;5;21;01mMy_Regression_Model\u001b[39;00m(\u001b[43mnn\u001b[49m\u001b[38;5;241m.\u001b[39mModule):\n\u001b[0;32m      5\u001b[0m     \u001b[38;5;28;01mdef\u001b[39;00m \u001b[38;5;21m__init__\u001b[39m(\u001b[38;5;28mself\u001b[39m, num_channel):\n\u001b[0;32m      6\u001b[0m         \u001b[38;5;28msuper\u001b[39m()\u001b[38;5;241m.\u001b[39m\u001b[38;5;21m__init__\u001b[39m()\n",
      "\u001b[1;31mNameError\u001b[0m: name 'nn' is not defined"
     ]
    }
   ],
   "source": [
    "# Model architecture\n",
    "# neural network arch\n",
    "\n",
    "class My_Regression_Model(nn.Module):\n",
    "    def __init__(self, num_channel):\n",
    "        super().__init__()\n",
    "        \n",
    "        # initialize 1st conv=>relu=>pool\n",
    "        self.conv1 = nn.Conv2d(in_channels=num_channel, out_channels=50, kernel_size=(100,100))\n",
    "        self.relu1 = nn.ReLU()\n",
    "        self.maxpool1 = nn.MaxPool2d(kernel_size=(2,2), stride=(2,2))\n",
    "        \n",
    "        # initialize 2nd conv=>relu=>pool\n",
    "        self.conv2 = nn.Conv2d(in_channels=50, out_channels=1, kernel_size=(15,15))\n",
    "        self.relu2 = nn.ReLU()\n",
    "        self.maxpool2 = nn.MaxPool2d(kernel_size=(2,2), stride=(2,2))\n",
    "        \n",
    "        # initialize 1st fc=>relu\n",
    "        self.fc1 = nn.Linear(in_features=1*32*32, out_features=300)\n",
    "        self.relu3 = nn.ReLU()\n",
    "        \n",
    "        # final fc\n",
    "        self.fc2 = nn.Linear(in_features=300, out_features=3)\n",
    "        \n",
    "    def forward(self, x): # c, h, w\n",
    "        x = self.conv1(x) # in -> (1, 255, 255) | out -> (50, 156, 156)\n",
    "        x = self.relu1(x) \n",
    "        x = self.maxpool1(x) # in -> (50, 156, 156) | out -> (50, 78, 78)\n",
    "        \n",
    "        x = self.conv2(x) # in -> (50, 78, 78) | out -> (1, 64, 64)\n",
    "        x = self.relu2(x) \n",
    "        x = self.maxpool2(x) # in -> (1, 64, 64) | out -> (1, 32, 32)\n",
    "        \n",
    "        # flatten\n",
    "        x = torch.flatten(x,1)\n",
    "        \n",
    "        # fc1\n",
    "        x = self.fc1(x)\n",
    "        x = self.relu3(x)\n",
    "        \n",
    "        # fc2\n",
    "        output = self.fc2(x)\n",
    "        return output"
   ]
  },
  {
   "cell_type": "markdown",
   "id": "d4821a2b-dfde-4cd8-b60c-05bdf32419e6",
   "metadata": {
    "jp-MarkdownHeadingCollapsed": true,
    "tags": []
   },
   "source": [
    "#### Viewing train_loader data"
   ]
  },
  {
   "cell_type": "code",
   "execution_count": null,
   "id": "b8da7d33-7535-40a1-9a24-d1adcecac742",
   "metadata": {},
   "outputs": [],
   "source": [
    "# To take a look on train_loader data\n",
    "\n",
    "for idx, (img, img_name, angle) in enumerate(training_loader):\n",
    "    print('Batch ', idx)\n",
    "    for i in range(len(img_name)): # batch_size\n",
    "        print('Image name ', img_name[i])\n",
    "        print('Angle ', angle[i])\n",
    "        plt.imshow(img[i].squeeze(), cmap='gray')\n",
    "        plt.show()\n",
    "        # print('IMAGE SIZE ', img[i].squeeze())\n",
    "        print('END OF DATA MEMBER___________________________________________')\n",
    "    print('END OF BATCH_____________________________________________________\\n\\n')"
   ]
  },
  {
   "cell_type": "markdown",
   "id": "7168e970-ad54-4de7-9661-47af0b3d5b9f",
   "metadata": {
    "jp-MarkdownHeadingCollapsed": true,
    "tags": []
   },
   "source": [
    "#### Viewing validation_loader data"
   ]
  },
  {
   "cell_type": "code",
   "execution_count": null,
   "id": "a252a3ba-a2ad-40ba-8465-9bee6c6b4497",
   "metadata": {},
   "outputs": [],
   "source": [
    "# To take a look on validation_loader data\n",
    "\n",
    "for idx, (img, img_name, angle) in enumerate(validation_loader):\n",
    "    print('Batch ', idx)\n",
    "    for i in range(len(img_name)): # batch_size\n",
    "        print('Image name ', img_name[i])\n",
    "        print('Angle ', angle[i])\n",
    "        plt.imshow(img[i].squeeze(), cmap='gray')\n",
    "        plt.show()\n",
    "        # print('IMAGE SIZE ', img[i].squeeze())\n",
    "        print('END OF DATA MEMBER___________________________________________')\n",
    "    print('END OF BATCH_____________________________________________________\\n\\n')"
   ]
  },
  {
   "cell_type": "markdown",
   "id": "8d389190-4cfa-42ca-825e-a2adc1b269e5",
   "metadata": {
    "tags": []
   },
   "source": [
    "#### Training Process"
   ]
  },
  {
   "cell_type": "code",
   "execution_count": 28,
   "id": "dea21c31-c226-4a7d-b856-383da4709075",
   "metadata": {},
   "outputs": [],
   "source": [
    "# Define the input channels\n",
    "input_channels = 1  # Assuming L images\n",
    "\n",
    "# set up model instance\n",
    "model = My_Regression_Model(input_channels)"
   ]
  },
  {
   "cell_type": "code",
   "execution_count": 29,
   "id": "5f38dd8c-6c0a-44c2-8486-57316d5d5eb7",
   "metadata": {},
   "outputs": [
    {
     "data": {
      "text/plain": [
       "My_Regression_Model(\n",
       "  (conv1): Conv2d(1, 50, kernel_size=(100, 100), stride=(1, 1))\n",
       "  (relu1): ReLU()\n",
       "  (maxpool1): MaxPool2d(kernel_size=(2, 2), stride=(2, 2), padding=0, dilation=1, ceil_mode=False)\n",
       "  (conv2): Conv2d(50, 1, kernel_size=(15, 15), stride=(1, 1))\n",
       "  (relu2): ReLU()\n",
       "  (maxpool2): MaxPool2d(kernel_size=(2, 2), stride=(2, 2), padding=0, dilation=1, ceil_mode=False)\n",
       "  (fc1): Linear(in_features=1024, out_features=300, bias=True)\n",
       "  (relu3): ReLU()\n",
       "  (fc2): Linear(in_features=300, out_features=3, bias=True)\n",
       ")"
      ]
     },
     "execution_count": 29,
     "metadata": {},
     "output_type": "execute_result"
    }
   ],
   "source": [
    "# Move the model to CUDA if available\n",
    "device = torch.device(\"cuda\" if torch.cuda.is_available() else \"cpu\")\n",
    "model.to(device)"
   ]
  },
  {
   "cell_type": "code",
   "execution_count": 30,
   "id": "80799b48-8796-4cc3-8680-e41cf10705e9",
   "metadata": {},
   "outputs": [],
   "source": [
    "# set up optimizer and loss function\n",
    "criterion = nn.MSELoss()\n",
    "optimizer = optim.Adam(model.parameters(), lr=0.001)\n",
    "num_epochs = 100"
   ]
  },
  {
   "cell_type": "code",
   "execution_count": 31,
   "id": "006d4446-4735-4133-a5f8-7be78ec4654e",
   "metadata": {
    "tags": []
   },
   "outputs": [
    {
     "name": "stdout",
     "output_type": "stream",
     "text": [
      "Epoch [1/100], Training Loss: 67.55608304341634, Validation Loss: 71.3453916471029\n",
      "Lowest training_loss found\n",
      "Lowest val_loss found\n",
      "Epoch [2/100], Training Loss: 66.59150791168213, Validation Loss: 70.23932228874915\n",
      "Lowest training_loss found\n",
      "Lowest val_loss found\n",
      "Epoch [3/100], Training Loss: 65.37229442596436, Validation Loss: 68.74780740442964\n",
      "Lowest training_loss found\n",
      "Lowest val_loss found\n",
      "Epoch [4/100], Training Loss: 63.722038904825844, Validation Loss: 66.74740617299817\n",
      "Lowest training_loss found\n",
      "Lowest val_loss found\n",
      "Epoch [5/100], Training Loss: 61.563984870910645, Validation Loss: 64.20683365261432\n",
      "Lowest training_loss found\n",
      "Lowest val_loss found\n",
      "Epoch [6/100], Training Loss: 58.88939698537191, Validation Loss: 61.15794208123512\n",
      "Lowest training_loss found\n",
      "Lowest val_loss found\n",
      "Epoch [7/100], Training Loss: 55.78281784057617, Validation Loss: 57.65487110983465\n",
      "Lowest training_loss found\n",
      "Lowest val_loss found\n",
      "Epoch [8/100], Training Loss: 52.26909510294596, Validation Loss: 53.84605399357904\n",
      "Lowest training_loss found\n",
      "Lowest val_loss found\n",
      "Epoch [9/100], Training Loss: 48.47839641571045, Validation Loss: 49.831276841999326\n",
      "Lowest training_loss found\n",
      "Lowest val_loss found\n",
      "Epoch [10/100], Training Loss: 44.5356502532959, Validation Loss: 45.720987609981265\n",
      "Lowest training_loss found\n",
      "Lowest val_loss found\n",
      "Epoch [11/100], Training Loss: 40.612839698791504, Validation Loss: 41.58510121580252\n",
      "Lowest training_loss found\n",
      "Lowest val_loss found\n",
      "Epoch [12/100], Training Loss: 36.65488147735596, Validation Loss: 37.59242776128435\n",
      "Lowest training_loss found\n",
      "Lowest val_loss found\n",
      "Epoch [13/100], Training Loss: 32.881724993387856, Validation Loss: 33.732830371131605\n",
      "Lowest training_loss found\n",
      "Lowest val_loss found\n",
      "Epoch [14/100], Training Loss: 29.265162150065105, Validation Loss: 30.08353519869834\n",
      "Lowest training_loss found\n",
      "Lowest val_loss found\n",
      "Epoch [15/100], Training Loss: 25.840538024902344, Validation Loss: 26.72757118663837\n",
      "Lowest training_loss found\n",
      "Lowest val_loss found\n",
      "Epoch [16/100], Training Loss: 22.73517656326294, Validation Loss: 23.664921023796513\n",
      "Lowest training_loss found\n",
      "Lowest val_loss found\n",
      "Epoch [17/100], Training Loss: 19.991518417994182, Validation Loss: 20.979932064862595\n",
      "Lowest training_loss found\n",
      "Lowest val_loss found\n",
      "Epoch [18/100], Training Loss: 17.64281702041626, Validation Loss: 18.6774879709347\n",
      "Lowest training_loss found\n",
      "Lowest val_loss found\n",
      "Epoch [19/100], Training Loss: 15.631288687388102, Validation Loss: 16.861096024513245\n",
      "Lowest training_loss found\n",
      "Lowest val_loss found\n",
      "Epoch [20/100], Training Loss: 14.080591042836508, Validation Loss: 15.437577128103099\n",
      "Lowest training_loss found\n",
      "Lowest val_loss found\n",
      "Epoch [21/100], Training Loss: 12.934407234191895, Validation Loss: 14.290905385902247\n",
      "Lowest training_loss found\n",
      "Lowest val_loss found\n",
      "Epoch [22/100], Training Loss: 12.034223238627115, Validation Loss: 13.50457649025106\n",
      "Lowest training_loss found\n",
      "Lowest val_loss found\n",
      "Epoch [23/100], Training Loss: 11.419108788172403, Validation Loss: 12.93881192188902\n",
      "Lowest training_loss found\n",
      "Lowest val_loss found\n",
      "Epoch [24/100], Training Loss: 11.013633251190186, Validation Loss: 12.566529611336817\n",
      "Lowest training_loss found\n",
      "Lowest val_loss found\n",
      "Epoch [25/100], Training Loss: 10.758988936742147, Validation Loss: 12.307530028918356\n",
      "Lowest training_loss found\n",
      "Lowest val_loss found\n",
      "Epoch [26/100], Training Loss: 10.582366824150085, Validation Loss: 12.137905060016003\n",
      "Lowest training_loss found\n",
      "Lowest val_loss found\n",
      "Epoch [27/100], Training Loss: 10.498393615086874, Validation Loss: 12.024635209250697\n",
      "Lowest training_loss found\n",
      "Lowest val_loss found\n",
      "Epoch [28/100], Training Loss: 10.437911669413248, Validation Loss: 11.984706370793667\n",
      "Lowest training_loss found\n",
      "Lowest val_loss found\n",
      "Epoch [29/100], Training Loss: 10.412903706232706, Validation Loss: 11.948465930432388\n",
      "Lowest training_loss found\n",
      "Lowest val_loss found\n",
      "Epoch [30/100], Training Loss: 10.404852509498596, Validation Loss: 11.900971302359375\n",
      "Lowest training_loss found\n",
      "Lowest val_loss found\n",
      "Epoch [31/100], Training Loss: 10.391303817431131, Validation Loss: 11.894391638101991\n",
      "Lowest training_loss found\n",
      "Lowest val_loss found\n",
      "Epoch [32/100], Training Loss: 10.388597965240479, Validation Loss: 11.905723458712863\n",
      "Lowest training_loss found\n",
      "Epoch [33/100], Training Loss: 10.38228448232015, Validation Loss: 11.89530849333891\n",
      "Lowest training_loss found\n",
      "Epoch [34/100], Training Loss: 10.381617903709412, Validation Loss: 11.88645282080493\n",
      "Lowest training_loss found\n",
      "Lowest val_loss found\n",
      "Epoch [35/100], Training Loss: 10.385929743448893, Validation Loss: 11.871414629454465\n",
      "Lowest val_loss found\n",
      "Epoch [36/100], Training Loss: 10.3874671459198, Validation Loss: 11.880501423914408\n",
      "Epoch [37/100], Training Loss: 10.39054799079895, Validation Loss: 11.879309507374911\n",
      "Epoch [38/100], Training Loss: 10.38670790195465, Validation Loss: 11.8810328693734\n",
      "Epoch [39/100], Training Loss: 10.382147789001465, Validation Loss: 11.873463650646897\n",
      "Epoch [40/100], Training Loss: 10.386246879895529, Validation Loss: 11.876841793048014\n",
      "Epoch [41/100], Training Loss: 10.381808121999105, Validation Loss: 11.878404171196456\n",
      "Epoch [42/100], Training Loss: 10.38487982749939, Validation Loss: 11.870662554023193\n",
      "Lowest val_loss found\n",
      "Epoch [43/100], Training Loss: 10.383776585261026, Validation Loss: 11.87593295770822\n",
      "Epoch [44/100], Training Loss: 10.381803750991821, Validation Loss: 11.873406183473843\n",
      "Epoch [45/100], Training Loss: 10.381824096043905, Validation Loss: 11.878448952411867\n",
      "Epoch [46/100], Training Loss: 10.387032508850098, Validation Loss: 11.882728816922178\n",
      "Epoch [47/100], Training Loss: 10.383204579353333, Validation Loss: 11.875146239381476\n",
      "Epoch [48/100], Training Loss: 10.38374392191569, Validation Loss: 11.878500919366621\n",
      "Epoch [49/100], Training Loss: 10.381081382433573, Validation Loss: 11.870790792187465\n",
      "Lowest training_loss found\n",
      "Epoch [50/100], Training Loss: 10.383784810702005, Validation Loss: 11.877854767533922\n",
      "Epoch [51/100], Training Loss: 10.391863028208414, Validation Loss: 11.861396744386438\n",
      "Lowest val_loss found\n",
      "Epoch [52/100], Training Loss: 10.388007601102194, Validation Loss: 11.892219209793916\n",
      "Epoch [53/100], Training Loss: 10.389032363891602, Validation Loss: 11.89016673368277\n",
      "Epoch [54/100], Training Loss: 10.382836103439331, Validation Loss: 11.874905121695136\n",
      "Epoch [55/100], Training Loss: 10.382627169291178, Validation Loss: 11.870877030584001\n",
      "Epoch [56/100], Training Loss: 10.38402001063029, Validation Loss: 11.871514739449491\n",
      "Epoch [57/100], Training Loss: 10.387653032938639, Validation Loss: 11.876659598854399\n",
      "Epoch [58/100], Training Loss: 10.383751630783081, Validation Loss: 11.869541737836661\n",
      "Epoch [59/100], Training Loss: 10.389017661412558, Validation Loss: 11.888603135789793\n",
      "Epoch [60/100], Training Loss: 10.38751188913981, Validation Loss: 11.871417708310885\n",
      "Epoch [61/100], Training Loss: 10.38124950726827, Validation Loss: 11.875900449826545\n",
      "Epoch [62/100], Training Loss: 10.382111628850302, Validation Loss: 11.879710840810205\n",
      "Epoch [63/100], Training Loss: 10.383803526560465, Validation Loss: 11.89027252117383\n",
      "Epoch [64/100], Training Loss: 10.385448296864828, Validation Loss: 11.887530749606103\n",
      "Epoch [65/100], Training Loss: 10.384395559628805, Validation Loss: 11.869216203689575\n",
      "Epoch [66/100], Training Loss: 10.387168169021606, Validation Loss: 11.870838607094951\n",
      "Epoch [67/100], Training Loss: 10.38439687093099, Validation Loss: 11.871912819208559\n",
      "Epoch [68/100], Training Loss: 10.386162877082825, Validation Loss: 11.863757933230744\n",
      "Epoch [69/100], Training Loss: 10.388402144114176, Validation Loss: 11.88571563885384\n",
      "Epoch [70/100], Training Loss: 10.385239680608114, Validation Loss: 11.879147850361067\n",
      "Epoch [71/100], Training Loss: 10.390017628669739, Validation Loss: 11.875196509140054\n",
      "Epoch [72/100], Training Loss: 10.380536794662476, Validation Loss: 11.879705287746548\n",
      "Lowest training_loss found\n",
      "Epoch [73/100], Training Loss: 10.386973222096762, Validation Loss: 11.87190424996553\n",
      "Epoch [74/100], Training Loss: 10.3879367907842, Validation Loss: 11.879371115841817\n",
      "Epoch [75/100], Training Loss: 10.386368751525879, Validation Loss: 11.889370290888953\n",
      "Epoch [76/100], Training Loss: 10.385844151178995, Validation Loss: 11.872612123636856\n",
      "Epoch [77/100], Training Loss: 10.385789712270102, Validation Loss: 11.886285439594504\n",
      "Epoch [78/100], Training Loss: 10.383546868960062, Validation Loss: 11.87725499610311\n",
      "Epoch [79/100], Training Loss: 10.383029301961264, Validation Loss: 11.870891317264322\n",
      "Epoch [80/100], Training Loss: 10.384188175201416, Validation Loss: 11.87523117569304\n",
      "Epoch [81/100], Training Loss: 10.38363758722941, Validation Loss: 11.872915712214008\n",
      "Epoch [82/100], Training Loss: 10.383492469787598, Validation Loss: 11.872621915389582\n",
      "Epoch [83/100], Training Loss: 10.383339166641235, Validation Loss: 11.870903687071554\n",
      "Epoch [84/100], Training Loss: 10.384371201197306, Validation Loss: 11.879049531577788\n",
      "Epoch [85/100], Training Loss: 10.38450002670288, Validation Loss: 11.874734307072826\n",
      "Epoch [86/100], Training Loss: 10.386927684148153, Validation Loss: 11.89396474287682\n",
      "Epoch [87/100], Training Loss: 10.382566849390665, Validation Loss: 11.88103333269198\n",
      "Epoch [88/100], Training Loss: 10.382561683654785, Validation Loss: 11.873019415385944\n",
      "Epoch [89/100], Training Loss: 10.383043766021729, Validation Loss: 11.86792373964467\n",
      "Epoch [90/100], Training Loss: 10.383492668469747, Validation Loss: 11.869341085252074\n",
      "Epoch [91/100], Training Loss: 10.38513708114624, Validation Loss: 11.88176603692094\n",
      "Epoch [92/100], Training Loss: 10.386552174886068, Validation Loss: 11.874044409732228\n",
      "Epoch [93/100], Training Loss: 10.384546041488647, Validation Loss: 11.883962301249356\n",
      "Epoch [94/100], Training Loss: 10.393201231956482, Validation Loss: 11.883587510315413\n",
      "Epoch [95/100], Training Loss: 10.385986169179281, Validation Loss: 11.871178260476318\n",
      "Epoch [96/100], Training Loss: 10.381939252217611, Validation Loss: 11.873533777662159\n",
      "Epoch [97/100], Training Loss: 10.383618195851644, Validation Loss: 11.880631239143844\n",
      "Epoch [98/100], Training Loss: 10.385166962941488, Validation Loss: 11.867265132899137\n",
      "Epoch [99/100], Training Loss: 10.383955637613932, Validation Loss: 11.876091916536547\n",
      "Epoch [100/100], Training Loss: 10.3823192914327, Validation Loss: 11.880073331066013\n"
     ]
    }
   ],
   "source": [
    "# to save validation loss and training loss\n",
    "loss_list_data = []\n",
    "\n",
    "# to keep track lowest loss\n",
    "lowest_training_loss = float('inf')\n",
    "lowest_val_loss = float('inf')\n",
    "\n",
    "start_time = time.time()\n",
    "\n",
    "# training loop with validation\n",
    "for epoch in range(num_epochs):\n",
    "    \n",
    "    # training phase\n",
    "    model.train()                                       # allow weights and biases adjusting\n",
    "    training_loss = 0.0\n",
    "    for image_input, _, target_angle in training_loader:\n",
    "        # move input and output to cuda if available\n",
    "        image_input = image_input.to(device)\n",
    "        target_angle = target_angle.to(device)\n",
    "        optimizer.zero_grad()                           # clearing previous loss derivative\n",
    "        predicted = model(image_input)                  # forward \n",
    "        loss = criterion(predicted, target_angle)       # computing loss\n",
    "        loss.backward()                                 # computing loss derivative with respect of weights and biases\n",
    "        optimizer.step()                                # adjusting weights and biases\n",
    "        training_loss += loss.item()                    # summing all batches losses for averaging\n",
    "    training_loss /= len(training_loader)\n",
    "        \n",
    "    # validation phase in at end of every epoch\n",
    "    model.eval()                                        # block weights and biases adjsuting\n",
    "    val_loss = 0.0\n",
    "    with torch.no_grad():                                # remove all computed derivatives\n",
    "        for image_input, _, target_angle in validation_loader:\n",
    "            # move input and output to cuda if available\n",
    "            image_input = image_input.to(device)\n",
    "            target_angle = target_angle.to(device)\n",
    "            predicted = model(image_input)\n",
    "            # for averaging validation loss\n",
    "            val_loss += criterion(predicted, target_angle).item()\n",
    "    \n",
    "    val_loss /= len(validation_loader) # calculating average validation loss\n",
    "    \n",
    "    # Print the training and validation loss for each epoch\n",
    "    print(f\"Epoch [{epoch+1}/{num_epochs}], Training Loss: {training_loss}, Validation Loss: {val_loss}\")    \n",
    "    \n",
    "    # for graphing evaluation later\n",
    "    loss_list_data.append((epoch+1, training_loss, val_loss))\n",
    "    \n",
    "    # save best model with lowest loss of any two (training_loss or val_loss)\n",
    "    if lowest_training_loss > training_loss:\n",
    "        lowest_training_loss = training_loss\n",
    "        best_model = model.state_dict()\n",
    "        print('Lowest training_loss found')\n",
    "    if lowest_val_loss > val_loss:\n",
    "        lowest_val_loss = val_loss\n",
    "        best_model = model.state_dict()\n",
    "        print('Lowest val_loss found')\n",
    "\n",
    "end_time = time.time()\n",
    "\n",
    "# save the best model found\n",
    "path = 'C:\\\\Users\\\\iqmal_pc\\\\Desktop\\\\fyp_experiment\\\\saved_models\\\\sobel_model\\\\'\n",
    "torch.save(best_model, path + 'best_sobel_model.pt')"
   ]
  },
  {
   "cell_type": "markdown",
   "id": "32b93bf0-375a-4a94-883a-9c14d3e12f26",
   "metadata": {},
   "source": [
    "#### Compute training time"
   ]
  },
  {
   "cell_type": "code",
   "execution_count": 32,
   "id": "c9df729e-8894-491a-8a50-db59353996df",
   "metadata": {},
   "outputs": [
    {
     "name": "stdout",
     "output_type": "stream",
     "text": [
      "Training time elapsed: 1942.1318457126617 seconds\n"
     ]
    }
   ],
   "source": [
    "training_time = end_time - start_time\n",
    "print(\"Training time elapsed: \" + str(training_time) + \" seconds\")"
   ]
  },
  {
   "cell_type": "markdown",
   "id": "66d12110-35c8-4363-a95e-911fd5df3b58",
   "metadata": {
    "tags": []
   },
   "source": [
    "#### Save model"
   ]
  },
  {
   "cell_type": "code",
   "execution_count": 33,
   "id": "9d18331a-a1ec-4218-bfb6-1498329441b6",
   "metadata": {},
   "outputs": [],
   "source": [
    "# save model \n",
    "path = 'C:\\\\Users\\\\iqmal_pc\\\\Desktop\\\\fyp_experiment\\\\saved_models\\\\sobel_model\\\\'\n",
    "torch.save(model.state_dict(), path + 'sobel.pt')"
   ]
  },
  {
   "cell_type": "markdown",
   "id": "fe91a210-c2dc-4cf9-8bcd-2d4ae619b5ec",
   "metadata": {
    "tags": []
   },
   "source": [
    "#### Testing model"
   ]
  },
  {
   "cell_type": "code",
   "execution_count": 34,
   "id": "194933d5-ddff-40c3-a4cb-b0cae025109f",
   "metadata": {},
   "outputs": [],
   "source": [
    "# loading test dataset\n",
    "transformed_test_dataset = CustomDataset(test_dataset_dict, transform_images)"
   ]
  },
  {
   "cell_type": "code",
   "execution_count": null,
   "id": "6aef47f1-eaae-428c-a984-ee6dc61ca72a",
   "metadata": {},
   "outputs": [],
   "source": [
    "# img, img_name, angle = transformed_test_dataset.__getitem__(2)\n",
    "# plt.imshow(img.squeeze(), cmap='gray')\n",
    "# plt.show()\n",
    "# print(img_name)\n",
    "# print(angle)"
   ]
  },
  {
   "cell_type": "code",
   "execution_count": 35,
   "id": "494d8fd9-bb7c-49f4-9086-b29938d5163c",
   "metadata": {},
   "outputs": [],
   "source": [
    "# create test_loader\n",
    "test_loader = DataLoader(transformed_test_dataset, batch_size=32, shuffle=False)"
   ]
  },
  {
   "cell_type": "code",
   "execution_count": 57,
   "id": "a92c9358-ae02-4a20-a5ba-a4add799a0f0",
   "metadata": {},
   "outputs": [
    {
     "name": "stdout",
     "output_type": "stream",
     "text": [
      "Final model testing loss: 9.60238265991211\n"
     ]
    }
   ],
   "source": [
    "test_loss = 0.0\n",
    "model.eval()\n",
    "with torch.no_grad():\n",
    "    for image_input, _, target_angle in test_loader:\n",
    "        # move input and output to cuda if available\n",
    "        image_input = image_input.to(device)\n",
    "        target_angle = target_angle.to(device)\n",
    "        predicted = model(image_input)\n",
    "        test_loss += criterion(predicted, target_angle).item()\n",
    "\n",
    "test_loss /= len(test_loader) # calculating average test_loss\n",
    "print(f\"Final model testing loss: {test_loss}\")"
   ]
  },
  {
   "cell_type": "code",
   "execution_count": 1,
   "id": "b704767b-87de-45b8-aa91-95de617b2470",
   "metadata": {},
   "outputs": [
    {
     "ename": "NameError",
     "evalue": "name 'My_Regression_Model' is not defined",
     "output_type": "error",
     "traceback": [
      "\u001b[1;31m---------------------------------------------------------------------------\u001b[0m",
      "\u001b[1;31mNameError\u001b[0m                                 Traceback (most recent call last)",
      "Cell \u001b[1;32mIn[1], line 2\u001b[0m\n\u001b[0;32m      1\u001b[0m \u001b[38;5;66;03m# load best model\u001b[39;00m\n\u001b[1;32m----> 2\u001b[0m the_best_model \u001b[38;5;241m=\u001b[39m \u001b[43mMy_Regression_Model\u001b[49m(input_channels)\n\u001b[0;32m      3\u001b[0m the_best_model\u001b[38;5;241m.\u001b[39mload_state_dict(torch\u001b[38;5;241m.\u001b[39mload(path \u001b[38;5;241m+\u001b[39m \u001b[38;5;124m'\u001b[39m\u001b[38;5;124mbest_sobel_model.pt\u001b[39m\u001b[38;5;124m'\u001b[39m)) \u001b[38;5;66;03m# load the saved best model weights & biases dictionary\u001b[39;00m\n\u001b[0;32m      4\u001b[0m the_best_model \u001b[38;5;241m=\u001b[39m the_best_model\u001b[38;5;241m.\u001b[39mto(device)\n",
      "\u001b[1;31mNameError\u001b[0m: name 'My_Regression_Model' is not defined"
     ]
    }
   ],
   "source": [
    "# load best model\n",
    "the_best_model = My_Regression_Model(input_channels)\n",
    "the_best_model.load_state_dict(torch.load(path + 'best_sobel_model.pt')) # load the saved best model weights & biases dictionary\n",
    "the_best_model = the_best_model.to(device)\n",
    "# testing phase using best model\n",
    "test_loss = 0.0\n",
    "the_best_model.eval()\n",
    "with torch.no_grad():\n",
    "    for image_input, _, target_angle in test_loader:\n",
    "        # move input and output to cuda if available\n",
    "        image_input = image_input.to(device)\n",
    "        target_angle = target_angle.to(device)\n",
    "        predicted = the_best_model(image_input)\n",
    "        test_loss += criterion(predicted, target_angle).item()\n",
    "\n",
    "test_loss /= len(test_loader) # calculating average test_loss\n",
    "print(f\"Best model testing loss: {test_loss}\")"
   ]
  },
  {
   "cell_type": "markdown",
   "id": "256470b8-577b-4c43-8eaa-fae4afe9df45",
   "metadata": {
    "tags": []
   },
   "source": [
    "### Evaluation (Loss vs Epoch)"
   ]
  },
  {
   "cell_type": "code",
   "execution_count": 41,
   "id": "c4a48687-1ba2-40a0-97b8-1db58a8de92e",
   "metadata": {},
   "outputs": [],
   "source": [
    "epoch_list = []\n",
    "training_loss_list = []\n",
    "validation_loss_list = []\n",
    "\n",
    "for i in range(len(loss_list_data)):\n",
    "    epoch_list.append(loss_list_data[i][0])\n",
    "    training_loss_list.append(loss_list_data[i][1])\n",
    "    validation_loss_list.append(loss_list_data[i][2])"
   ]
  },
  {
   "cell_type": "code",
   "execution_count": 50,
   "id": "37bc957f-433f-4b90-8b38-217a85e06aa7",
   "metadata": {},
   "outputs": [
    {
     "data": {
      "image/png": "[encoded data removed]",
      "text/plain": [
       "<Figure size 800x550 with 1 Axes>"
      ]
     },
     "metadata": {},
     "output_type": "display_data"
    }
   ],
   "source": [
    "# plot training loss vs epoch\n",
    "plt.plot(epoch_list, training_loss_list, color='#f70c0c', label='training loss')\n",
    "plt.plot(epoch_list, validation_loss_list, color='#00fa08', label='validation loss')\n",
    "plt.title('Loss vs Epoch')\n",
    "plt.xlabel('Epoch')\n",
    "plt.ylabel('Loss')\n",
    "plt.legend()\n",
    "plt.show()"
   ]
  },
  {
   "cell_type": "markdown",
   "id": "53109303-6af5-4729-8c6d-a080b490f31c",
   "metadata": {
    "tags": []
   },
   "source": [
    "#### Test data evaluation plot (Predicted vs Ground Truth) for every PT, MT and TL/L"
   ]
  },
  {
   "cell_type": "code",
   "execution_count": 70,
   "id": "9b216ac3-7940-4846-947e-61e435548fd0",
   "metadata": {},
   "outputs": [],
   "source": [
    "# best model\n",
    "\n",
    "best_sobel_model = My_Regression_Model(input_channels)\n",
    "best_sobel_model.load_state_dict(torch.load(path + 'best_sobel_model.pt'))\n",
    "best_sobel_model = best_sobel_model.to(device) # move to cuda"
   ]
  },
  {
   "cell_type": "code",
   "execution_count": 98,
   "id": "841f12ea-c622-4579-a1ad-994b474d79f9",
   "metadata": {},
   "outputs": [],
   "source": [
    "predicted_list = []\n",
    "target_angle_list = []\n",
    "\n",
    "best_sobel_model.eval()\n",
    "with torch.no_grad():\n",
    "    for image_input, _, target_angle in test_loader:\n",
    "        image_input = image_input.to(device)\n",
    "        target_angle = target_angle.to(device)\n",
    "        predicted = best_sobel_model(image_input)\n",
    "        predicted_list.append(predicted.cpu().numpy())\n",
    "        target_angle_list.append(target_angle.cpu().numpy())"
   ]
  },
  {
   "cell_type": "code",
   "execution_count": 114,
   "id": "23d288dc-2fc8-4f9d-ba81-926e9cc1874a",
   "metadata": {},
   "outputs": [
    {
     "data": {
      "text/plain": [
       "128"
      ]
     },
     "execution_count": 114,
     "metadata": {},
     "output_type": "execute_result"
    }
   ],
   "source": [
    "# remove batch_class effect\n",
    "flattened_list_predicted = [element for sublist in predicted_list for element in sublist]\n",
    "len(flattened_list_predicted)"
   ]
  },
  {
   "cell_type": "code",
   "execution_count": 115,
   "id": "8bf9c464-9377-4b09-8c57-8ecb94587bec",
   "metadata": {},
   "outputs": [
    {
     "data": {
      "text/plain": [
       "128"
      ]
     },
     "execution_count": 115,
     "metadata": {},
     "output_type": "execute_result"
    }
   ],
   "source": [
    "flattened_list_target_angle = [element for sublist in target_angle_list for element in sublist]\n",
    "len(flattened_list_target_angle)"
   ]
  },
  {
   "cell_type": "code",
   "execution_count": 121,
   "id": "5dc7dfd9-cf11-45be-9c1c-f6574d60276b",
   "metadata": {},
   "outputs": [],
   "source": [
    "# combined PT (predicted, true_value)\n",
    "\n",
    "PT_value = [(PT_predicted, PT_true) for (PT_predicted,*_),(PT_true,*_) in zip(flattened_list_predicted,flattened_list_target_angle)]\n",
    "# PT_value"
   ]
  },
  {
   "cell_type": "code",
   "execution_count": 127,
   "id": "ea5d918d-92ca-43c9-b724-baeb81ee45aa",
   "metadata": {},
   "outputs": [],
   "source": [
    "# combined MT (predicted, true_value)\n",
    "MT_value = [(MT_predicted, MT_true) for (_,MT_predicted,_), (_,MT_true,_) in zip(flattened_list_predicted,flattened_list_target_angle)]\n",
    "# MT_value"
   ]
  },
  {
   "cell_type": "code",
   "execution_count": 135,
   "id": "c668f134-4c5d-416a-b75b-b6c6c9df0ea5",
   "metadata": {},
   "outputs": [],
   "source": [
    "# combined TL/L (predicted, true_value)\n",
    "TL_value = [(TL_predicted, TL_true) for (*_, TL_predicted), (*_, TL_true) in zip(flattened_list_predicted, flattened_list_target_angle)]\n",
    "# TL_value"
   ]
  },
  {
   "cell_type": "code",
   "execution_count": 154,
   "id": "05a2565b-c3b2-4d42-ae89-042faeeea867",
   "metadata": {},
   "outputs": [
    {
     "data": {
      "image/png": "[encoded data removed]",
      "text/plain": [
       "<Figure size 800x550 with 1 Axes>"
      ]
     },
     "metadata": {},
     "output_type": "display_data"
    }
   ],
   "source": [
    "# plot PT value\n",
    "\n",
    "x = [img_idx for img_idx in range(1, len(PT_value)+1)]\n",
    "predicted_pt = [item[0] for item in PT_value]\n",
    "true_pt = [item[1] for item in PT_value]\n",
    "\n",
    "plt.scatter(x, predicted_pt, label='predicted PT', color='#fc0505', s=5)\n",
    "plt.plot(x, true_pt, label='true PT', color='#05fc4f')\n",
    "plt.xlabel('Test Image ID')\n",
    "plt.ylabel('PT angle')\n",
    "plt.title('PT angle vs Test Image ID')\n",
    "plt.legend()\n",
    "plt.show()"
   ]
  },
  {
   "cell_type": "code",
   "execution_count": 153,
   "id": "0d3cf58d-741a-4b98-8bdf-bca77450f85b",
   "metadata": {},
   "outputs": [
    {
     "data": {
      "image/png": "[encoded data removed]",
      "text/plain": [
       "<Figure size 800x550 with 1 Axes>"
      ]
     },
     "metadata": {},
     "output_type": "display_data"
    }
   ],
   "source": [
    "# plot MT value\n",
    "x = [img_idx for img_idx in range(1, len(MT_value)+1)]\n",
    "predicted_mt = [item[0] for item in MT_value]\n",
    "true_mt = [item[1] for item in MT_value]\n",
    "\n",
    "plt.scatter(x, predicted_mt, label='predicted MT', color='#fc0505', s=5)\n",
    "plt.plot(x, true_mt, label='true MT', color='#05fc4f')\n",
    "plt.xlabel('Test Image ID')\n",
    "plt.ylabel('MT angle')\n",
    "plt.title('MT angle vs Test Image ID')\n",
    "plt.legend()\n",
    "plt.show()"
   ]
  },
  {
   "cell_type": "code",
   "execution_count": 152,
   "id": "2a3ea135-6795-4411-8be6-1a3f9ce64a0d",
   "metadata": {},
   "outputs": [
    {
     "data": {
      "image/png": "[encoded data removed]",
      "text/plain": [
       "<Figure size 800x550 with 1 Axes>"
      ]
     },
     "metadata": {},
     "output_type": "display_data"
    }
   ],
   "source": [
    "# plot TL value\n",
    "x = [img_idx for img_idx in range(1, len(TL_value)+1)]\n",
    "predicted_tl = [item[0] for item in TL_value]\n",
    "true_tl = [item[1] for item in TL_value]\n",
    "\n",
    "plt.scatter(x, predicted_tl, label='predicted TL', color='#fc0505', s=5)\n",
    "plt.plot(x, true_tl, label='true TL', color='#05fc4f')\n",
    "plt.xlabel('Test Image ID')\n",
    "plt.ylabel('TL angle')\n",
    "plt.title('TL angle vs Test Image ID')\n",
    "plt.legend()\n",
    "plt.show()"
   ]
  }
 ],
 "metadata": {
  "kernelspec": {
   "display_name": "Python 3 (ipykernel)",
   "language": "python",
   "name": "python3"
  },
  "language_info": {
   "codemirror_mode": {
    "name": "ipython",
    "version": 3
   },
   "file_extension": ".py",
   "mimetype": "text/x-python",
   "name": "python",
   "nbconvert_exporter": "python",
   "pygments_lexer": "ipython3",
   "version": "3.10.8"
  }
 },
 "nbformat": 4,
 "nbformat_minor": 5
}
